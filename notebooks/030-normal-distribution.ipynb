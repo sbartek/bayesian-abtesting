{
 "cells": [
  {
   "cell_type": "markdown",
   "id": "banned-yellow",
   "metadata": {},
   "source": [
    "$$p(x) = \\frac{1}{\\sqrt{2\\pi\\phi}}\\exp\\Big(-\\frac{(x-\\mu)^2}{2\\phi}\\Big)$$"
   ]
  },
  {
   "cell_type": "markdown",
   "id": "south-hanging",
   "metadata": {},
   "source": [
    "$$\\theta\\sim N(\\theta_0, \\phi_0)$$\n",
    "$$x\\sim N(\\theta, \\phi)$$"
   ]
  },
  {
   "cell_type": "markdown",
   "id": "different-candy",
   "metadata": {},
   "source": [
    "$$p(\\theta) = \\frac{1}{\\sqrt{2\\pi\\phi_0}}\\exp\\Big(-\\frac{(\\theta-\\theta_0)^2}{2\\phi_0}\\Big)$$\n",
    "$$l(\\theta|x) = \\frac{1}{\\sqrt{2\\pi\\phi}}\\exp\\Big(-\\frac{(x-\\theta)^2}{2\\phi}\\Big)$$"
   ]
  },
  {
   "cell_type": "markdown",
   "id": "billion-roots",
   "metadata": {},
   "source": [
    "$$p(\\theta|x)\\propto \\frac{1}{\\sqrt{2\\pi\\phi_0}}\\exp\\Big(-\\frac{(\\theta-\\theta_0)^2}{2\\phi_0}\\Big)\n",
    "    \\times \\frac{1}{\\sqrt{2\\pi\\phi}}\\exp\\Big(-\\frac{(x-\\theta)^2}{2\\phi}\\Big)$$\n",
    "$$\\,\\,\\,\\propto \\exp\\Big(-\\frac{\\theta^2-2\\theta\\theta_0+\\theta_0^2}{2\\phi_0} -\n",
    "\\frac{x^2-2x\\theta + \\theta^2}{2\\phi}\\Big)$$\n",
    "$$\\,\\,\\,\\propto \\exp\\Big(\n",
    "    -\\frac{\\theta^2}{2}(1/\\phi_0+1/\\phi)\n",
    "    +\\theta(\\theta_0/\\phi_0+x/\\phi)\n",
    "\\Big)$$"
   ]
  },
  {
   "cell_type": "markdown",
   "id": "colored-earthquake",
   "metadata": {},
   "source": [
    "Putting\n",
    "$$\\phi_1 = (1/\\phi_0+1/\\phi)^{-1}$$\n",
    "$$\\theta_1/\\phi_1 = (\\theta_0/\\phi_0+x/\\phi)$$\n",
    "we get\n",
    "$$p(\\theta|x)\\propto \\exp\\Big(-\\frac{\\theta^2 - 2\\theta\\theta_1}{2\\phi_1}\\Big)$$\n",
    "$$\\,\\,\\,\\propto \\exp\\Big(-\\frac{(\\theta - \\theta_1)^2}{2\\phi_1}\\Big)$$"
   ]
  },
  {
   "cell_type": "code",
   "execution_count": null,
   "id": "completed-franklin",
   "metadata": {},
   "outputs": [],
   "source": []
  }
 ],
 "metadata": {
  "kernelspec": {
   "display_name": "Python 3",
   "language": "python",
   "name": "python3"
  },
  "language_info": {
   "codemirror_mode": {
    "name": "ipython",
    "version": 3
   },
   "file_extension": ".py",
   "mimetype": "text/x-python",
   "name": "python",
   "nbconvert_exporter": "python",
   "pygments_lexer": "ipython3",
   "version": "3.9.1"
  }
 },
 "nbformat": 4,
 "nbformat_minor": 5
}
