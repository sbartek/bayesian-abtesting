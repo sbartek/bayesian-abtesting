{
 "cells": [
  {
   "cell_type": "markdown",
   "id": "finished-manitoba",
   "metadata": {},
   "source": [
    "## Lindley's paradox\n",
    "\n",
    "<https://en.wikipedia.org/wiki/Lindley%27s_paradox>"
   ]
  },
  {
   "cell_type": "markdown",
   "id": "solved-hybrid",
   "metadata": {},
   "source": [
    "$$H_0: \\theta = \\theta_0$$\n",
    "$$H_1: \\theta \\neq \\theta_0$$"
   ]
  },
  {
   "cell_type": "markdown",
   "id": "complimentary-minneapolis",
   "metadata": {},
   "source": [
    "## Notation"
   ]
  },
  {
   "cell_type": "markdown",
   "id": "organizational-tactics",
   "metadata": {},
   "source": [
    "Prior probabilites\n",
    "\n",
    "$\\pi_0 = P(\\theta = \\theta_0) = \\frac{1}{2}$\n",
    "\n",
    "$\\pi_1 = P(\\theta \\neq \\theta_0) = \\frac{1}{2}$\n",
    "\n",
    "Posterior probabilites\n",
    "\n",
    "$p_0 = P(\\theta = \\theta_0 | x) $\n",
    "\n",
    "$p_1 = P(\\theta \\neq \\theta_0 | x) $"
   ]
  },
  {
   "cell_type": "markdown",
   "id": "illegal-tennessee",
   "metadata": {},
   "source": [
    "## Probabilty $H_0$ holds\n",
    "\n",
    "$$P(H_0| x) = \\frac{P(x|H_0)P(H_0)}{P(x|H_0)P(H_0) + P(x|H_1)P(H_1)} =\n",
    "\\frac{l_0\\cdot\\pi_0}{l_0\\cdot\\pi_0 + l_1\\cdot\\pi_1}$$"
   ]
  },
  {
   "cell_type": "code",
   "execution_count": 1,
   "id": "lasting-allocation",
   "metadata": {},
   "outputs": [],
   "source": [
    "from scipy.stats import binom, beta"
   ]
  },
  {
   "cell_type": "markdown",
   "id": "western-message",
   "metadata": {},
   "source": [
    "### Frequentist approach"
   ]
  },
  {
   "cell_type": "code",
   "execution_count": 2,
   "id": "swiss-negotiation",
   "metadata": {},
   "outputs": [
    {
     "data": {
      "text/plain": [
       "0.023256586089558162"
      ]
     },
     "execution_count": 2,
     "metadata": {},
     "output_type": "execute_result"
    }
   ],
   "source": [
    "a = 49581 #boys\n",
    "b = 48870 # girls\n",
    "\n",
    "p_value = 2 * (1 - binom.cdf(a, a + b, 0.5))\n",
    "\n",
    "p_value"
   ]
  },
  {
   "cell_type": "markdown",
   "id": "neutral-wilson",
   "metadata": {},
   "source": [
    "### Bayesian approach"
   ]
  },
  {
   "cell_type": "code",
   "execution_count": 3,
   "id": "absent-opening",
   "metadata": {},
   "outputs": [
    {
     "data": {
      "text/plain": [
       "(0.5, 0.5)"
      ]
     },
     "execution_count": 3,
     "metadata": {},
     "output_type": "execute_result"
    }
   ],
   "source": [
    "pi_0 = pi_1 = 0.5\n",
    "pi_0, pi_1"
   ]
  },
  {
   "cell_type": "markdown",
   "id": "fantastic-reminder",
   "metadata": {},
   "source": [
    "$$P(x | H_0)$$"
   ]
  },
  {
   "cell_type": "code",
   "execution_count": 4,
   "id": "copyrighted-virtue",
   "metadata": {},
   "outputs": [
    {
     "data": {
      "text/plain": [
       "0.0001951346217847202"
      ]
     },
     "execution_count": 4,
     "metadata": {},
     "output_type": "execute_result"
    }
   ],
   "source": [
    "l_0 = binom.pmf(a, a + b, 0.5)\n",
    "l_0"
   ]
  },
  {
   "cell_type": "markdown",
   "id": "cutting-afghanistan",
   "metadata": {},
   "source": [
    "$$P(x | \\theta \\neq \\theta_0) = P(x) = \\int p(x | \\theta) p(\\theta) d\\theta$$\n",
    "\n",
    "Then, since P(x) is predictive distribution for  $a = 49581$, $b = 48870$ with $B(1, 1)$ as prior, then\n",
    "\n",
    "$$P(x | \\theta \\neq \\theta_0) = \\frac{1}{a + b + 1}.$$"
   ]
  },
  {
   "cell_type": "code",
   "execution_count": 5,
   "id": "impaired-buddy",
   "metadata": {},
   "outputs": [
    {
     "data": {
      "text/plain": [
       "1.015723398204201e-05"
      ]
     },
     "execution_count": 5,
     "metadata": {},
     "output_type": "execute_result"
    }
   ],
   "source": [
    "l_1 = 1/(1 + a + b) #\n",
    "l_1"
   ]
  },
  {
   "cell_type": "code",
   "execution_count": 7,
   "id": "short-commissioner",
   "metadata": {},
   "outputs": [
    {
     "data": {
      "text/plain": [
       "0.9505229569672656"
      ]
     },
     "execution_count": 7,
     "metadata": {},
     "output_type": "execute_result"
    }
   ],
   "source": [
    "l_0 * pi_0/(l_0 * pi_0 + l_1 * pi_1)"
   ]
  },
  {
   "cell_type": "code",
   "execution_count": null,
   "id": "subjective-attempt",
   "metadata": {},
   "outputs": [],
   "source": []
  }
 ],
 "metadata": {
  "kernelspec": {
   "display_name": "Python 3",
   "language": "python",
   "name": "python3"
  },
  "language_info": {
   "codemirror_mode": {
    "name": "ipython",
    "version": 3
   },
   "file_extension": ".py",
   "mimetype": "text/x-python",
   "name": "python",
   "nbconvert_exporter": "python",
   "pygments_lexer": "ipython3",
   "version": "3.9.1"
  }
 },
 "nbformat": 4,
 "nbformat_minor": 5
}
