{
 "cells": [
  {
   "cell_type": "code",
   "execution_count": 65,
   "id": "structural-holmes",
   "metadata": {},
   "outputs": [
    {
     "data": {
      "text/plain": [
       "0.9996316758747698"
      ]
     },
     "execution_count": 65,
     "metadata": {},
     "output_type": "execute_result"
    }
   ],
   "source": [
    "from scipy import stats\n",
    "import matplotlib.pyplot as plt\n",
    "import numpy as np\n",
    "\n",
    "size_control = 21728 \n",
    "size_treatment = 21720\n",
    "successes_control = size_control - 162\n",
    "successes_treatment = size_treatment - 8\n",
    "\n",
    "alpha_A = successes_control\n",
    "beta_A = size_control - successes_control\n",
    "alpha_B = successes_treatment\n",
    "beta_B = size_treatment - successes_treatment\n",
    "successes_treatment / size_treatment"
   ]
  },
  {
   "cell_type": "code",
   "execution_count": 66,
   "id": "editorial-safety",
   "metadata": {},
   "outputs": [
    {
     "data": {
      "text/plain": [
       "0.9467455621301775"
      ]
     },
     "execution_count": 66,
     "metadata": {},
     "output_type": "execute_result"
    }
   ],
   "source": [
    "1 - 9/169"
   ]
  },
  {
   "cell_type": "code",
   "execution_count": 67,
   "id": "moving-training",
   "metadata": {},
   "outputs": [
    {
     "data": {
      "text/plain": [
       "0.9450214148308839"
      ]
     },
     "execution_count": 67,
     "metadata": {},
     "output_type": "execute_result"
    }
   ],
   "source": [
    "cases_treatment = 8\n",
    "cases_control = 162\n",
    "a = 0.700102 + cases_control - cases_treatment\n",
    "b = 1 + cases_treatment\n",
    "a/(a+b)"
   ]
  },
  {
   "cell_type": "code",
   "execution_count": 59,
   "id": "partial-artwork",
   "metadata": {},
   "outputs": [
    {
     "data": {
      "image/png": "[encoded data removed]",
      "text/plain": [
       "<Figure size 432x288 with 1 Axes>"
      ]
     },
     "metadata": {
      "needs_background": "light"
     },
     "output_type": "display_data"
    }
   ],
   "source": [
    "samples = stats.beta.rvs(a, b, size=100000)\n",
    "plt.hist(samples, density=True, bins=30)\n",
    "plt.show()"
   ]
  },
  {
   "cell_type": "code",
   "execution_count": 60,
   "id": "efficient-resource",
   "metadata": {},
   "outputs": [
    {
     "data": {
      "text/plain": [
       "(0.9053798690579984, 0.9743869549408395)"
      ]
     },
     "execution_count": 60,
     "metadata": {},
     "output_type": "execute_result"
    }
   ],
   "source": [
    "np.percentile(samples, 2.5), np.percentile(samples, 97.5)"
   ]
  },
  {
   "cell_type": "code",
   "execution_count": 49,
   "id": "million-argument",
   "metadata": {},
   "outputs": [
    {
     "data": {
      "text/plain": [
       "(Mean(statistic=0.9452406640957275, minmax=(0.9448928333783991, 0.9455884948130558)),\n",
       " Variance(statistic=0.0003149486004260627, minmax=(0.0003062188310299815, 0.0003236783698221439)),\n",
       " Std_dev(statistic=0.017746791271271063, minmax=(0.017500837812343163, 0.017992744730198962)))"
      ]
     },
     "execution_count": 49,
     "metadata": {},
     "output_type": "execute_result"
    }
   ],
   "source": [
    "stats.bayes_mvs(samples, alpha=0.95)"
   ]
  },
  {
   "cell_type": "code",
   "execution_count": 61,
   "id": "electrical-identification",
   "metadata": {},
   "outputs": [
    {
     "data": {
      "text/plain": [
       "array([0.90966664, 0.97707911])"
      ]
     },
     "execution_count": 61,
     "metadata": {},
     "output_type": "execute_result"
    }
   ],
   "source": [
    "import pymc3\n",
    "pymc3.stats.hpd(samples, hdi_prob=.95)"
   ]
  },
  {
   "cell_type": "code",
   "execution_count": 17,
   "id": "false-emperor",
   "metadata": {},
   "outputs": [
    {
     "data": {
      "text/plain": [
       "0.999279158674047"
      ]
     },
     "execution_count": 17,
     "metadata": {},
     "output_type": "execute_result"
    }
   ],
   "source": [
    "np.percentile(samples_B, 2.5)"
   ]
  },
  {
   "cell_type": "code",
   "execution_count": 7,
   "id": "unlikely-chrome",
   "metadata": {},
   "outputs": [
    {
     "data": {
      "image/png": "[encoded data removed]",
      "text/plain": [
       "<Figure size 432x288 with 1 Axes>"
      ]
     },
     "metadata": {
      "needs_background": "light"
     },
     "output_type": "display_data"
    }
   ],
   "source": [
    "x = np.linspace(0.8, 1, 100)\n",
    "y1 = beta.pdf(x, alpha_A, beta_A)\n",
    "y2 = beta.pdf(x, alpha_B, beta_B)\n",
    "#plt.plot(x, y1, label = \"control: level 40\")\n",
    "plt.plot(x, y2, label = \"test: level 30\")\n",
    "plt.legend()\n",
    "plt.show()"
   ]
  },
  {
   "cell_type": "code",
   "execution_count": 63,
   "id": "numeric-message",
   "metadata": {},
   "outputs": [],
   "source": [
    "import scipy.special as sc\n",
    "import numpy as np\n",
    "\n",
    "def probability_B_beats_A(alpha_A, beta_A, alpha_B, beta_B):\n",
    "    total = 0.\n",
    "    for i in range(alpha_B):\n",
    "        total += np.exp(sc.betaln(alpha_A+i, beta_B+beta_A) - \n",
    "                        np.log(beta_B+i) - sc.betaln(1+i, beta_B) - sc.betaln(alpha_A, beta_A))\n",
    "    return total"
   ]
  },
  {
   "cell_type": "code",
   "execution_count": 64,
   "id": "subject-holder",
   "metadata": {},
   "outputs": [
    {
     "data": {
      "text/plain": [
       "0.6829961198042657"
      ]
     },
     "execution_count": 64,
     "metadata": {},
     "output_type": "execute_result"
    }
   ],
   "source": [
    "probability_B_beats_A(148, 1598 - 148, 148, 1516 - 148)"
   ]
  },
  {
   "cell_type": "code",
   "execution_count": null,
   "id": "expressed-editing",
   "metadata": {},
   "outputs": [],
   "source": []
  }
 ],
 "metadata": {
  "kernelspec": {
   "display_name": "Python 3",
   "language": "python",
   "name": "python3"
  },
  "language_info": {
   "codemirror_mode": {
    "name": "ipython",
    "version": 3
   },
   "file_extension": ".py",
   "mimetype": "text/x-python",
   "name": "python",
   "nbconvert_exporter": "python",
   "pygments_lexer": "ipython3",
   "version": "3.9.1"
  }
 },
 "nbformat": 4,
 "nbformat_minor": 5
}
