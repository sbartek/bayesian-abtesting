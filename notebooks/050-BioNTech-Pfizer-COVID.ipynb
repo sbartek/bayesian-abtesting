{
 "cells": [
  {
   "cell_type": "markdown",
   "id": "beautiful-assessment",
   "metadata": {},
   "source": [
    "## Safety and Efficacy of the BNT162b2 mRNA Covid-19 Vaccine\n",
    "\n",
    "<https://www.nejm.org/doi/full/10.1056/NEJMoa2034577>"
   ]
  },
  {
   "cell_type": "markdown",
   "id": "incoming-hebrew",
   "metadata": {},
   "source": [
    "<img src=\"https://www.nejm.org/na101/home/literatum/publisher/mms/journals/content/nejm/2020/nejm_2020.383.issue-27/nejmoa2034577/20210201/images/img_xlarge/nejmoa2034577_f4.jpeg\">"
   ]
  },
  {
   "cell_type": "markdown",
   "id": "premium-mounting",
   "metadata": {},
   "source": [
    "<img src=\"../imgs/rct-table2.png\">"
   ]
  },
  {
   "cell_type": "markdown",
   "id": "dominant-banking",
   "metadata": {},
   "source": [
    "__Vaccine efficacy__ was estimated by $100\\times(1−\\textrm{IRR})$, "
   ]
  },
  {
   "cell_type": "markdown",
   "id": "ethical-lesson",
   "metadata": {},
   "source": [
    "$$\\textrm{Vaccine Efficacy} = 100 \\cdot (1 - \\textrm{IRR})$$\n",
    "\n",
    "where IRR is the calculated ratio of confirmed cases of Covid-19 illness per 1000 person-years of follow-up in the active vaccine group to the corresponding illness rate in the placebo group."
   ]
  },
  {
   "cell_type": "markdown",
   "id": "metallic-nudist",
   "metadata": {},
   "source": [
    "$$\\textrm{IRR} = \\frac{\\textrm{Vaccine Incidence Rate}}{\\textrm{Placebo Incidence Rate}}$$"
   ]
  },
  {
   "cell_type": "code",
   "execution_count": 1,
   "id": "monetary-cigarette",
   "metadata": {},
   "outputs": [],
   "source": [
    "from scipy import stats\n",
    "import pandas as pd\n",
    "import matplotlib.pyplot as plt\n",
    "import numpy as np"
   ]
  },
  {
   "cell_type": "code",
   "execution_count": null,
   "id": "exotic-genesis",
   "metadata": {},
   "outputs": [],
   "source": [
    "import seaborn as sns"
   ]
  },
  {
   "cell_type": "code",
   "execution_count": 3,
   "id": "periodic-breakdown",
   "metadata": {},
   "outputs": [
    {
     "data": {
      "text/plain": [
       "(0.00045947963930848316, 0.009251327736851122)"
      ]
     },
     "execution_count": 3,
     "metadata": {},
     "output_type": "execute_result"
    }
   ],
   "source": [
    "cases_vaccine, size_vaccine, cases_placebo, size_placebo = 8, 17411, 162, 17511\n",
    "cases_vaccine/size_vaccine, cases_placebo/size_placebo"
   ]
  },
  {
   "cell_type": "markdown",
   "id": "incomplete-proceeding",
   "metadata": {},
   "source": [
    "$$\\textrm{Vaccine Incidence Rate} = \\frac{8}{17411} = 0.000459$$"
   ]
  },
  {
   "cell_type": "markdown",
   "id": "rental-miniature",
   "metadata": {},
   "source": [
    "$$\\textrm{Placebo Incidence Rate} = \\frac{162}{17511} = 0.00925$$"
   ]
  },
  {
   "cell_type": "code",
   "execution_count": null,
   "id": "editorial-safety",
   "metadata": {},
   "outputs": [],
   "source": [
    "100 * (1-(cases_vaccine/size_vaccine)/(cases_placebo/size_placebo))"
   ]
  },
  {
   "cell_type": "markdown",
   "id": "worst-vaccine",
   "metadata": {},
   "source": [
    "$$\\pi_v = \\textrm{Vaccine Incidence Rate}$$\n",
    "\n",
    "$$\\pi_c = \\textrm{Placebo Incidence Rate}$$"
   ]
  },
  {
   "cell_type": "markdown",
   "id": "interpreted-exhibit",
   "metadata": {},
   "source": [
    "$$\\textrm{Vaccine Efficacy} = 100 \\cdot \\Bigg(1 - \\frac{\\frac{8}{17411}}{\\frac{162}{17511}}\\Bigg) = 95.0$$"
   ]
  },
  {
   "attachments": {},
   "cell_type": "markdown",
   "id": "substantial-introduction",
   "metadata": {},
   "source": [
    "$$(\\textrm{Posterior beliefs}) \\propto (\\textrm{Prior beliefs}) \\cdot (\\textrm{Likelihood of observed data})$$"
   ]
  },
  {
   "cell_type": "markdown",
   "id": "former-blink",
   "metadata": {},
   "source": [
    "$$\\textrm{Likelihood of observed data} = \\binom{n}{k} \\theta^{k}(1-\\theta)^{n-k} $$\n",
    "\n",
    "$$\\textrm{Prior beliefs} = \\textrm{constant} \\cdot \\theta^{\\alpha - 1}(1-\\theta)^{\\beta - 1},$$"
   ]
  },
  {
   "cell_type": "markdown",
   "id": "hazardous-czech",
   "metadata": {},
   "source": [
    "$$\\textrm{Posterior beliefs} \\propto \\theta^{k}(1-\\theta)^{n-k}\\cdot \\theta^{\\alpha - 1}(1-\\theta)^{\\beta - 1} $$\n",
    "$$\\,\\,\\,\\,\\,\\,\\,\\,\\,\\,\\,\\,\\,\\,\\,\\,\\,\\,\\,\\,\\propto \\theta^{\\alpha + k - 1}(1-\\theta)^{\\beta + n - k - 1} $$"
   ]
  },
  {
   "cell_type": "markdown",
   "id": "limited-thesis",
   "metadata": {},
   "source": [
    "$$k \\sim \\mathrm{Binomial}(n, \\theta) \\\\\n",
    "\\theta \\sim \\mathrm{Beta}(\\alpha,\\beta) $$"
   ]
  },
  {
   "cell_type": "markdown",
   "id": "informal-stable",
   "metadata": {},
   "source": [
    "$$\\frac{\\alpha}{\\alpha + \\beta} = 0.01.$$"
   ]
  },
  {
   "cell_type": "markdown",
   "id": "latin-thursday",
   "metadata": {},
   "source": [
    "$$\\pi_v = \\textrm{Vaccine Incidence Rate}  \\sim \\mathrm{Beta}(0.0101 + 8, 1 + 17411 - 8) $$\n",
    "\n",
    "$$\\pi_c = \\textrm{Placebo Incidence Rate} \\sim \\mathrm{Beta}(0.0101 + 168, 1 + 17511 - 162) $$"
   ]
  },
  {
   "cell_type": "code",
   "execution_count": 4,
   "id": "emotional-funeral",
   "metadata": {},
   "outputs": [],
   "source": [
    "samples_vaccine = stats.beta.rvs(0.010101 + 8, 1 + 17411 - 8, size=100000)\n",
    "samples_placebo = stats.beta.rvs(0.010101 + 162, 1 + 17511 - 162, size=100000)\n",
    "samples_vc_pd = pd.DataFrame(\n",
    "    {\n",
    "        'vaccine': samples_vaccine,\n",
    "        'placebo': samples_placebo\n",
    "    }\n",
    ").melt(value_vars=['vaccine', 'placebo'], var_name='group', value_name='rate')"
   ]
  },
  {
   "cell_type": "code",
   "execution_count": 14,
   "id": "nuclear-applicant",
   "metadata": {},
   "outputs": [
    {
     "data": {
      "text/plain": [
       "<seaborn.axisgrid.FacetGrid at 0x10e6708e0>"
      ]
     },
     "execution_count": 14,
     "metadata": {},
     "output_type": "execute_result"
    },
    {
     "data": {
      "image/png": "[encoded data removed]",
      "text/plain": [
       "<Figure size 939.125x288 with 1 Axes>"
      ]
     },
     "metadata": {
      "needs_background": "light"
     },
     "output_type": "display_data"
    }
   ],
   "source": [
    "sns.displot(samples_vc_pd , x=\"rate\", kind=\"kde\", hue='group', height=4, aspect=3)"
   ]
  },
  {
   "cell_type": "markdown",
   "id": "acoustic-daily",
   "metadata": {},
   "source": [
    "$$P(\\pi_v < \\pi_c)$$"
   ]
  },
  {
   "cell_type": "code",
   "execution_count": 49,
   "id": "pressed-engineer",
   "metadata": {},
   "outputs": [
    {
     "data": {
      "text/plain": [
       "1000000"
      ]
     },
     "execution_count": 49,
     "metadata": {},
     "output_type": "execute_result"
    }
   ],
   "source": [
    "from scipy import stats\n",
    "\n",
    "N = 1000000\n",
    "samples_vaccine = stats.beta.rvs(0.010101 + 8, 1 + 17411 - 8, size=N)\n",
    "samples_placebo = stats.beta.rvs(0.010101 + 162, 1 + 17511 - 162, size=N)\n",
    "\n",
    "sum(samples_vaccine < samples_placebo)"
   ]
  },
  {
   "cell_type": "markdown",
   "id": "offensive-baseball",
   "metadata": {},
   "source": [
    "$$P(\\pi_v < \\pi_c) > 99.99$$"
   ]
  },
  {
   "cell_type": "markdown",
   "id": "signed-graph",
   "metadata": {},
   "source": [
    "$$\\textrm{Vaccine Efficacy} = 100 \\cdot (1 - \\textrm{IRR}) = 100 \\cdot \\Big(1 - \\frac{\\pi_v}{\\pi_c}\\Big)$$"
   ]
  },
  {
   "cell_type": "code",
   "execution_count": 50,
   "id": "higher-mexico",
   "metadata": {},
   "outputs": [
    {
     "data": {
      "text/plain": [
       "1000000"
      ]
     },
     "execution_count": 50,
     "metadata": {},
     "output_type": "execute_result"
    }
   ],
   "source": [
    "samples_ve = 100 * (1 - samples_vaccine/samples_placebo)\n",
    "\n",
    "sum(samples_ve > 30)"
   ]
  },
  {
   "cell_type": "markdown",
   "id": "vertical-impact",
   "metadata": {},
   "source": [
    "$$P(\\textrm{Vaccine Efficacy} > 30\\%) > 99.99$$"
   ]
  },
  {
   "cell_type": "code",
   "execution_count": 51,
   "id": "basic-scroll",
   "metadata": {},
   "outputs": [
    {
     "data": {
      "text/plain": [
       "(90.83633149646201, 97.87347023573359)"
      ]
     },
     "execution_count": 51,
     "metadata": {},
     "output_type": "execute_result"
    }
   ],
   "source": [
    "import numpy as np\n",
    "np.percentile(samples_ve, 2.5), np.percentile(samples_ve, 97.5)"
   ]
  },
  {
   "cell_type": "code",
   "execution_count": null,
   "id": "third-allah",
   "metadata": {},
   "outputs": [],
   "source": [
    "thetas = stats.beta.rvs(0.700102 + 8, 1 + 162 + 8, size=1000000) \n",
    "#ves = (1-2*thetas)/(1-thetas)\n",
    "#np.percentile(ves, 2.5), np.percentile(ves, 97.5)\n",
    "thetas"
   ]
  },
  {
   "cell_type": "code",
   "execution_count": null,
   "id": "unsigned-symposium",
   "metadata": {},
   "outputs": [],
   "source": [
    "theta_mean = np.mean(thetas)\n",
    "theta_mean\n",
    "#theta_mean = (0.700102 + 8)/(1 + 162)"
   ]
  },
  {
   "cell_type": "code",
   "execution_count": null,
   "id": "acoustic-interference",
   "metadata": {},
   "outputs": [],
   "source": [
    "(1-2*theta_mean)/(1-theta_mean)"
   ]
  },
  {
   "cell_type": "code",
   "execution_count": null,
   "id": "peaceful-daisy",
   "metadata": {},
   "outputs": [],
   "source": [
    "1 - (theta_mean/(1-theta_mean))"
   ]
  },
  {
   "cell_type": "code",
   "execution_count": null,
   "id": "coordinated-diving",
   "metadata": {},
   "outputs": [],
   "source": [
    "theta_1 = np.percentile(thetas, 2.5)\n",
    "(1-2*theta_1)/(1-theta_1)"
   ]
  },
  {
   "cell_type": "code",
   "execution_count": null,
   "id": "basic-airfare",
   "metadata": {},
   "outputs": [],
   "source": [
    "a1 = 8 \n",
    "a2 = 4\n",
    "q1 = 2/3\n",
    "q2 = 1/3"
   ]
  },
  {
   "cell_type": "code",
   "execution_count": null,
   "id": "manufactured-bandwidth",
   "metadata": {},
   "outputs": [],
   "source": [
    "(a1/q1)/2, (a2/q2)/2"
   ]
  },
  {
   "cell_type": "code",
   "execution_count": null,
   "id": "still-license",
   "metadata": {},
   "outputs": [],
   "source": [
    "q1 = 17411/(17411 + 17511)\n",
    "q2 = 17511/(17411 + 17511)\n",
    "\n",
    "a1 = 8\n",
    "a2 = 162\n",
    "b1 = a1/(2*q1)\n",
    "b2 = a2/(2*q2)\n",
    "b1, b2"
   ]
  },
  {
   "cell_type": "code",
   "execution_count": null,
   "id": "motivated-gallery",
   "metadata": {},
   "outputs": [],
   "source": [
    "thetas = stats.beta.rvs(0.700102 + a1, 1 + a2 , size=1000000)\n",
    "ves = (1-2*thetas)/(1-thetas)\n",
    "np.percentile(ves, 2.5), np.percentile(ves, 97.5)"
   ]
  },
  {
   "cell_type": "code",
   "execution_count": null,
   "id": "about-ordering",
   "metadata": {},
   "outputs": [],
   "source": [
    "theta_mean = np.mean(theta)"
   ]
  },
  {
   "cell_type": "code",
   "execution_count": null,
   "id": "played-chest",
   "metadata": {},
   "outputs": [],
   "source": [
    "(1-2*theta_mean)/(1-theta_mean)"
   ]
  },
  {
   "cell_type": "code",
   "execution_count": null,
   "id": "muslim-meter",
   "metadata": {},
   "outputs": [],
   "source": [
    "samples = 1 - samples_vaccine/samples_placebo\n",
    "np.percentile(samples, 2.5), np.percentile(samples, 97.5)"
   ]
  },
  {
   "cell_type": "markdown",
   "id": "willing-salmon",
   "metadata": {},
   "source": [
    "## Participants without evidence of infection"
   ]
  },
  {
   "cell_type": "code",
   "execution_count": null,
   "id": "charged-increase",
   "metadata": {},
   "outputs": [],
   "source": [
    "sr1 = 2.214\n",
    "sr2 = 2.222\n",
    "\n",
    "18198 *2 * sr1/(sr1 + sr2)"
   ]
  },
  {
   "cell_type": "code",
   "execution_count": null,
   "id": "working-spider",
   "metadata": {},
   "outputs": [],
   "source": [
    "samples = stats.beta.rvs(0.5, 0.5, size=10000000)\n",
    "np.mean(samples), np.percentile(samples, 2.5), np.percentile(samples, 97.5)"
   ]
  },
  {
   "cell_type": "code",
   "execution_count": null,
   "id": "established-digit",
   "metadata": {},
   "outputs": [],
   "source": [
    "162/17511"
   ]
  },
  {
   "cell_type": "code",
   "execution_count": null,
   "id": "scheduled-edition",
   "metadata": {},
   "outputs": [],
   "source": [
    "x = 0.5* (1 - 0.3)\n",
    "x"
   ]
  },
  {
   "cell_type": "markdown",
   "id": "serious-metallic",
   "metadata": {},
   "source": [
    "a/(1+a) = x\n",
    "\n",
    "(1 + a -1)/(1+a) = x\n",
    "\n",
    "1 - 1/(1+a) = x\n",
    "\n",
    "1/(1+a) = 1 - x\n",
    "\n",
    "1+a = 1/(1-x)\n",
    "\n",
    "a = 1/(1-x) - 1= (1 - 1 + x)/(1-x) = x/(1-x)"
   ]
  },
  {
   "cell_type": "code",
   "execution_count": null,
   "id": "emotional-institution",
   "metadata": {},
   "outputs": [],
   "source": [
    "a = 1/(1 - .01) - 1\n",
    "a"
   ]
  },
  {
   "cell_type": "code",
   "execution_count": null,
   "id": "homeless-vampire",
   "metadata": {},
   "outputs": [],
   "source": [
    "p = a/(a+1)\n",
    "p"
   ]
  },
  {
   "cell_type": "code",
   "execution_count": null,
   "id": "logical-revelation",
   "metadata": {},
   "outputs": [],
   "source": [
    "1 - (p/0.5)"
   ]
  },
  {
   "cell_type": "code",
   "execution_count": null,
   "id": "human-syndication",
   "metadata": {},
   "outputs": [],
   "source": []
  },
  {
   "cell_type": "code",
   "execution_count": null,
   "id": "sonic-nudist",
   "metadata": {},
   "outputs": [],
   "source": [
    "samples_vaccine = stats.beta.rvs(0.5 + 8, 1 + 17411 - 8, size=100000)\n",
    "samples_placebo = stats.beta.rvs(1 + 162, 1 + 17511 - 162, size=100000)\n",
    "\n",
    "samples = 1 - samples_vaccine/samples_placebo\n",
    "np.percentile(samples, 2.5), np.percentile(samples, 97.5)"
   ]
  },
  {
   "cell_type": "code",
   "execution_count": null,
   "id": "confident-client",
   "metadata": {},
   "outputs": [],
   "source": [
    "hpd_mu, x_mu, y_mu, modes_mu = hpd_grid(samples, alpha=0.05, roundto=4)\n",
    "hpd_mu"
   ]
  },
  {
   "cell_type": "code",
   "execution_count": null,
   "id": "great-nothing",
   "metadata": {},
   "outputs": [],
   "source": [
    "samples_vaccine = stats.beta.rvs(0.700102 + 9, 1 + 18559 - 9, size=100000)\n",
    "samples_placebo = stats.beta.rvs(0.700102 + 169, 1 + 18708 - 169, size=100000)\n",
    "\n",
    "samples = 1 - samples_vaccine/samples_placebo\n",
    "np.percentile(samples, 2.5), np.percentile(samples, 97.5)"
   ]
  },
  {
   "cell_type": "code",
   "execution_count": null,
   "id": "paperback-gather",
   "metadata": {},
   "outputs": [],
   "source": [
    "hpd_mu, x_mu, y_mu, modes_mu = hpd_grid(samples, alpha=0.05, roundto=4)\n",
    "hpd_mu"
   ]
  },
  {
   "cell_type": "code",
   "execution_count": null,
   "id": "spare-hanging",
   "metadata": {},
   "outputs": [],
   "source": [
    "a = 0.700102 + cases_treatment\n",
    "b = 1 + size_treatment - cases_treatment\n",
    "samples_treatment = stats.beta.rvs(0.700102 + 8, 1 + 17511, size=100000)"
   ]
  },
  {
   "cell_type": "code",
   "execution_count": null,
   "id": "roman-tiffany",
   "metadata": {},
   "outputs": [],
   "source": [
    "samples = 1 - samples_treatment/samples_control\n",
    "hpd_mu, x_mu, y_mu, modes_mu = hpd_grid(samples, alpha=0.05, roundto=4)\n",
    "hpd_mu"
   ]
  },
  {
   "cell_type": "code",
   "execution_count": null,
   "id": "hired-thomas",
   "metadata": {},
   "outputs": [],
   "source": [
    "np.percentile(samples, 2.5), np.percentile(samples, 97.5)"
   ]
  },
  {
   "cell_type": "code",
   "execution_count": null,
   "id": "approximate-musical",
   "metadata": {},
   "outputs": [],
   "source": [
    "plt.hist(samples, density=True, bins=50)\n",
    "plt.show()"
   ]
  },
  {
   "cell_type": "code",
   "execution_count": null,
   "id": "featured-candidate",
   "metadata": {},
   "outputs": [],
   "source": [
    "coef_control = 1000 * cases_control/size_control\n",
    "coef_treatment = 1000 * cases_treatment/size_treatment\n",
    "coef_control, coef_treatment\n",
    "1 - coef_treatment/coef_control"
   ]
  },
  {
   "cell_type": "code",
   "execution_count": null,
   "id": "lyric-burke",
   "metadata": {},
   "outputs": [],
   "source": []
  },
  {
   "cell_type": "code",
   "execution_count": null,
   "id": "latter-inventory",
   "metadata": {},
   "outputs": [],
   "source": []
  },
  {
   "cell_type": "markdown",
   "id": "allied-basket",
   "metadata": {},
   "source": [
    "* <https://sph.unc.edu/wp-content/uploads/sites/112/2015/07/nciph_ERIC4.pdf>"
   ]
  },
  {
   "cell_type": "markdown",
   "id": "numerical-divorce",
   "metadata": {},
   "source": [
    "## Row two"
   ]
  },
  {
   "cell_type": "code",
   "execution_count": null,
   "id": "challenging-green",
   "metadata": {},
   "outputs": [],
   "source": [
    "cases_treatment, size_treatment, cases_control, size_control = 9, 18708, 169, 18559\n",
    "\n",
    "successes_control = size_control - cases_control\n",
    "successes_treatment = size_treatment - cases_treatment\n",
    "\n",
    "1-(cases_treatment/size_control)/(cases_control/size_treatment)"
   ]
  },
  {
   "cell_type": "code",
   "execution_count": null,
   "id": "experienced-retreat",
   "metadata": {},
   "outputs": [],
   "source": [
    "a = 0.700102 + cases_control\n",
    "b = 1 + size_control\n",
    "samples_control = stats.beta.rvs(a, b, size=100000)\n",
    "a = 0.700102 + cases_treatment\n",
    "b = 1 + size_treatment\n",
    "samples_treatment = stats.beta.rvs(a, b, size=100000)"
   ]
  },
  {
   "cell_type": "code",
   "execution_count": null,
   "id": "roman-world",
   "metadata": {},
   "outputs": [],
   "source": [
    "samples = 1 - samples_treatment/samples_control\n",
    "hpd_mu, x_mu, y_mu, modes_mu = hpd_grid(samples, alpha=0.06, roundto=4)\n",
    "hpd_mu"
   ]
  },
  {
   "cell_type": "code",
   "execution_count": null,
   "id": "arctic-community",
   "metadata": {},
   "outputs": [],
   "source": [
    "np.percentile(samples, 2.5), np.percentile(samples, 97.5)"
   ]
  },
  {
   "cell_type": "markdown",
   "id": "unnecessary-cocktail",
   "metadata": {},
   "source": [
    "## Subgroup analysis\n",
    "\n",
    "It uses __Clopper–Pearson interval__\n",
    "\n",
    "<https://en.wikipedia.org/wiki/Binomial_proportion_confidence_interval>"
   ]
  },
  {
   "cell_type": "markdown",
   "id": "macro-apparatus",
   "metadata": {},
   "source": [
    "<img src=\"../imgs/rct-table3.png\">"
   ]
  },
  {
   "cell_type": "code",
   "execution_count": null,
   "id": "surprised-worth",
   "metadata": {},
   "outputs": [],
   "source": [
    "cases_treatment, size_treatment, cases_control, size_control = 5, 9897, 114, 9955\n",
    "\n",
    "1-(cases_treatment/size_control)/(cases_control/size_treatment)"
   ]
  },
  {
   "cell_type": "code",
   "execution_count": null,
   "id": "waiting-ozone",
   "metadata": {},
   "outputs": [],
   "source": [
    "a = 0.700102 + cases_control\n",
    "b = 1 + size_control\n",
    "samples_control = stats.beta.rvs(a, b, size=100000)\n",
    "a = 0.700102 + cases_treatment\n",
    "b = 1 + size_treatment\n",
    "samples_treatment = stats.beta.rvs(a, b, size=100000)\n",
    "\n",
    "samples = 1 - samples_treatment/samples_control\n",
    "\n",
    "np.percentile(samples, 2.5), np.percentile(samples, 97.5)"
   ]
  },
  {
   "cell_type": "code",
   "execution_count": null,
   "id": "mobile-equilibrium",
   "metadata": {},
   "outputs": [],
   "source": [
    "samples = 1 - stats.beta.rvs(cases_treatment, cases_control + 1, size=100000)\n",
    "np.percentile(samples, 2.5), np.percentile(samples, 97.5)"
   ]
  },
  {
   "cell_type": "code",
   "execution_count": null,
   "id": "seeing-floating",
   "metadata": {},
   "outputs": [],
   "source": [
    "samples = 1 - stats.beta.rvs(cases_treatment + 1, cases_control, size=100000)\n",
    "np.percentile(samples, 2.5), np.percentile(samples, 97.5)"
   ]
  },
  {
   "cell_type": "code",
   "execution_count": null,
   "id": "comfortable-alert",
   "metadata": {},
   "outputs": [],
   "source": [
    "\n",
    "17411 / 2214 , 17511/2222\n"
   ]
  },
  {
   "cell_type": "code",
   "execution_count": null,
   "id": "trying-silence",
   "metadata": {},
   "outputs": [],
   "source": []
  }
 ],
 "metadata": {
  "kernelspec": {
   "display_name": "Python 3",
   "language": "python",
   "name": "python3"
  },
  "language_info": {
   "codemirror_mode": {
    "name": "ipython",
    "version": 3
   },
   "file_extension": ".py",
   "mimetype": "text/x-python",
   "name": "python",
   "nbconvert_exporter": "python",
   "pygments_lexer": "ipython3",
   "version": "3.9.1"
  }
 },
 "nbformat": 4,
 "nbformat_minor": 5
}
