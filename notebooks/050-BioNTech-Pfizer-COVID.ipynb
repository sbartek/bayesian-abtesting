{
 "cells": [
  {
   "cell_type": "markdown",
   "id": "beautiful-assessment",
   "metadata": {},
   "source": [
    "## Safety and Efficacy of the BNT162b2 mRNA Covid-19 Vaccine\n",
    "\n",
    "<https://www.nejm.org/doi/full/10.1056/NEJMoa2034577>"
   ]
  },
  {
   "cell_type": "markdown",
   "id": "incoming-hebrew",
   "metadata": {},
   "source": [
    "<img src=\"https://www.nejm.org/na101/home/literatum/publisher/mms/journals/content/nejm/2020/nejm_2020.383.issue-27/nejmoa2034577/20210201/images/img_xlarge/nejmoa2034577_f4.jpeg\">"
   ]
  },
  {
   "cell_type": "markdown",
   "id": "premium-mounting",
   "metadata": {},
   "source": [
    "<img src=\"../imgs/rct-table2.png\">"
   ]
  },
  {
   "cell_type": "markdown",
   "id": "whole-slave",
   "metadata": {},
   "source": [
    "<table style=\"width:90%\">\n",
    "    <tr style=\"background-color:white;\">\n",
    "        <td><strong>Efficacy End Point</strong>\n",
    "            <table >\n",
    "                <tr style=\"background-color:white;\">\n",
    "                    <td> </td>\n",
    "                </tr>\n",
    "            </table>\n",
    "        </td>\n",
    "        <td style=\"text-align: center; vertical-align: middle;\"><strong>BNT162b2</strong>\n",
    "            <table>\n",
    "                <tr style=\"background-color:white;\">\n",
    "                    <td>No. of Cases</td>\n",
    "                    <td>Surveillance Time (n)</td>\n",
    "                </tr>\n",
    "            </table>\n",
    "        </td>\n",
    "        <td style=\"text-align: center; vertical-align: middle;\"><strong>Placebo</strong>\n",
    "            <table>\n",
    "                <tr style=\"background-color:white;\">\n",
    "                    <td>No. of Cases</td>\n",
    "                    <td>Surveillance Time (n)</td>\n",
    "                </tr>\n",
    "            </table>\n",
    "        </td>\n",
    "        <td><strong>Vaccine Efficacy, %(95% Credible Interval)</strong>\n",
    "            <table>\n",
    "                <tr style=\"background-color:white;\">\n",
    "                    <td> </td>\n",
    "                </tr>\n",
    "            </table>\n",
    "        </td>\n",
    "        <td><strong>Posterior Probability (Vaccine Efficacy >30%)</strong>\n",
    "            <table>\n",
    "                <tr style=\"background-color:white;\">\n",
    "                    <td> </td>\n",
    "                </tr>\n",
    "            </table>\n",
    "        </td>\n",
    "    </tr>\n",
    "    <tr style=\"background-color:#FEF5E7;\">\n",
    "        <td>Covid-19 occurrence at least 7 days after the second dose in participants without evidence of infection\n",
    "        </td>\n",
    "        <td style=\"text-align: center; vertical-align: middle;\">\n",
    "            <strong>(N=18,198)</strong>\n",
    "            <table >\n",
    "                <tr style=\"background-color:#FEF5E7;\">\n",
    "                    <td>8</td>\n",
    "                    <td>2.214 (17,411)</td>\n",
    "                </tr>\n",
    "            </table>\n",
    "        </td>\n",
    "        <td style=\"text-align: center; vertical-align: middle;\">\n",
    "            <strong>(N=18,325)</strong>\n",
    "            <table >\n",
    "                <tr style=\"background-color:#FEF5E7;\">\n",
    "                    <td>162</td>\n",
    "                    <td>2.222 (17,511)</td>\n",
    "                </tr>\n",
    "            </table>\n",
    "        </td>\n",
    "        <td>95.0 (90.3-97.6)\n",
    "        </td>\n",
    "        <td>>0.9999\n",
    "        </td>\n",
    "    </tr>\n",
    "    <tr style=\"background-color:white;\">\n",
    "        <td>Covid-19 occurrence at least 7 days after the second dose in participants with and those without evidence of infection\n",
    "        </td>\n",
    "        <td style=\"text-align: center; vertical-align: middle;\">\n",
    "            <strong>(N=19,965)</strong>\n",
    "            <table >\n",
    "                <tr style=\"background-color:white;\">\n",
    "                    <td>9</td>\n",
    "                    <td>2.332 (18,559)</td>\n",
    "                </tr>\n",
    "            </table>\n",
    "        </td>\n",
    "        <td style=\"text-align: center; vertical-align: middle;\">\n",
    "            <strong>(N=20,172)</strong>\n",
    "            <table >\n",
    "                <tr style=\"background-color:white;\">\n",
    "                    <td>169</td>\n",
    "                    <td>2.345 (18,708)</td>\n",
    "                </tr>\n",
    "            </table>\n",
    "        </td>\n",
    "        <td>94.6 (89.9-97.3)\n",
    "        </td>\n",
    "        <td>>0.9999\n",
    "        </td>\n",
    "    </tr>\n",
    "</table>"
   ]
  },
  {
   "cell_type": "markdown",
   "id": "dominant-banking",
   "metadata": {},
   "source": [
    "__Vaccine efficacy__ was estimated by $100\\times(1−\\textrm{IRR})$, "
   ]
  },
  {
   "cell_type": "markdown",
   "id": "ethical-lesson",
   "metadata": {},
   "source": [
    "$$\\textrm{Vaccine Efficacy} = 100 \\cdot (1 - \\textrm{IRR})$$\n",
    "\n",
    "where IRR is the calculated ratio of confirmed cases of Covid-19 illness per 1000 person-years of follow-up in the active vaccine group to the corresponding illness rate in the placebo group."
   ]
  },
  {
   "cell_type": "markdown",
   "id": "metallic-nudist",
   "metadata": {},
   "source": [
    "$$\\textrm{IRR} = \\frac{\\textrm{Vaccine Incidence Rate}}{\\textrm{Placebo Incidence Rate}}$$"
   ]
  },
  {
   "cell_type": "code",
   "execution_count": 105,
   "id": "monetary-cigarette",
   "metadata": {},
   "outputs": [],
   "source": [
    "from scipy import stats\n",
    "import numpy as np\n",
    "import pandas as pd\n",
    "\n",
    "import matplotlib.pyplot as plt\n",
    "import seaborn as sns"
   ]
  },
  {
   "cell_type": "code",
   "execution_count": 106,
   "id": "aging-diamond",
   "metadata": {},
   "outputs": [],
   "source": [
    "plt.rcParams[\"figure.figsize\"] = (8,6)"
   ]
  },
  {
   "cell_type": "code",
   "execution_count": 26,
   "id": "periodic-breakdown",
   "metadata": {},
   "outputs": [
    {
     "data": {
      "text/plain": [
       "(0.00045947963930848316, 0.009251327736851122)"
      ]
     },
     "execution_count": 26,
     "metadata": {},
     "output_type": "execute_result"
    }
   ],
   "source": [
    "cases_vaccine, size_vaccine, cases_placebo, size_placebo = 8, 17411, 162, 17511\n",
    "cases_vaccine/size_vaccine, cases_placebo/size_placebo"
   ]
  },
  {
   "cell_type": "markdown",
   "id": "incomplete-proceeding",
   "metadata": {},
   "source": [
    "$$\\textrm{Vaccine Incidence Rate} = \\frac{8}{17411} = 0.000459$$"
   ]
  },
  {
   "cell_type": "markdown",
   "id": "rental-miniature",
   "metadata": {},
   "source": [
    "$$\\textrm{Placebo Incidence Rate} = \\frac{162}{17511} = 0.00925$$"
   ]
  },
  {
   "cell_type": "code",
   "execution_count": 27,
   "id": "editorial-safety",
   "metadata": {},
   "outputs": [
    {
     "data": {
      "text/plain": [
       "95.03336545436368"
      ]
     },
     "execution_count": 27,
     "metadata": {},
     "output_type": "execute_result"
    }
   ],
   "source": [
    "100 * (1-(cases_vaccine/size_vaccine)/(cases_placebo/size_placebo))"
   ]
  },
  {
   "cell_type": "markdown",
   "id": "worst-vaccine",
   "metadata": {},
   "source": [
    "$$\\pi_v = \\textrm{Vaccine Incidence Rate}$$\n",
    "\n",
    "$$\\pi_c = \\textrm{Placebo Incidence Rate}$$"
   ]
  },
  {
   "cell_type": "markdown",
   "id": "interpreted-exhibit",
   "metadata": {},
   "source": [
    "$$\\textrm{Vaccine Efficacy} = 100 \\cdot \\Bigg(1 - \\frac{\\frac{8}{17411}}{\\frac{162}{17511}}\\Bigg) = 95.0$$"
   ]
  },
  {
   "cell_type": "markdown",
   "id": "substantial-introduction",
   "metadata": {},
   "source": [
    "$$(\\textrm{Posterior beliefs}) \\propto (\\textrm{Prior beliefs}) \\cdot (\\textrm{Likelihood of observed data})$$"
   ]
  },
  {
   "cell_type": "markdown",
   "id": "former-blink",
   "metadata": {},
   "source": [
    "$$\\textrm{Likelihood of observed data} = \\binom{n}{k} \\theta^{k}(1-\\theta)^{n-k} $$\n",
    "\n",
    "$$\\textrm{Prior beliefs} = \\textrm{constant} \\cdot \\theta^{\\alpha - 1}(1-\\theta)^{\\beta - 1},$$"
   ]
  },
  {
   "cell_type": "markdown",
   "id": "hazardous-czech",
   "metadata": {},
   "source": [
    "$$\\textrm{Posterior beliefs} \\propto \\theta^{k}(1-\\theta)^{n-k}\\cdot \\theta^{\\alpha - 1}(1-\\theta)^{\\beta - 1} $$\n",
    "$$\\,\\,\\,\\,\\,\\,\\,\\,\\,\\,\\,\\,\\,\\,\\,\\,\\,\\,\\,\\,\\propto \\theta^{\\alpha + k - 1}(1-\\theta)^{\\beta + n - k - 1} $$"
   ]
  },
  {
   "cell_type": "markdown",
   "id": "limited-thesis",
   "metadata": {},
   "source": [
    "$$k \\sim \\mathrm{Binomial}(n, \\theta) \\\\\n",
    "\\theta \\sim \\mathrm{Beta}(\\alpha,\\beta) $$"
   ]
  },
  {
   "cell_type": "markdown",
   "id": "informal-stable",
   "metadata": {},
   "source": [
    "$$\\frac{\\alpha}{\\alpha + \\beta} = 0.01.$$"
   ]
  },
  {
   "cell_type": "markdown",
   "id": "numerous-reaction",
   "metadata": {},
   "source": [
    "$$0.01 = \\frac{\\alpha}{\\alpha + 1} = \\frac{\\alpha + 1 - 1}{\\alpha + 1} = 1 - \\frac{1}{\\alpha + 1}, $$\n",
    "\n",
    "$$\\alpha + 1 = \\frac{1}{1-0.01}$$"
   ]
  },
  {
   "cell_type": "code",
   "execution_count": 110,
   "id": "informal-liberal",
   "metadata": {},
   "outputs": [
    {
     "data": {
      "text/plain": [
       "0.010101010101010166"
      ]
     },
     "execution_count": 110,
     "metadata": {},
     "output_type": "execute_result"
    }
   ],
   "source": [
    "p = 0.01\n",
    "1/(1-p) -1"
   ]
  },
  {
   "cell_type": "code",
   "execution_count": 111,
   "id": "affected-wheel",
   "metadata": {},
   "outputs": [
    {
     "data": {
      "text/plain": [
       "0.007049345417925457"
      ]
     },
     "execution_count": 111,
     "metadata": {},
     "output_type": "execute_result"
    }
   ],
   "source": [
    "p = 0.007\n",
    "1/(1-p) -1"
   ]
  },
  {
   "cell_type": "markdown",
   "id": "latin-thursday",
   "metadata": {},
   "source": [
    "$$\\pi_v = \\textrm{Vaccine Incidence Rate}  \\sim \\mathrm{Beta}(0.010101 + 8, 1 + 17411 - 8) $$\n",
    "\n",
    "$$\\pi_c = \\textrm{Placebo Incidence Rate} \\sim \\mathrm{Beta}(0.010101 + 168, 1 + 17511 - 162) $$"
   ]
  },
  {
   "cell_type": "code",
   "execution_count": null,
   "id": "fundamental-fiction",
   "metadata": {},
   "outputs": [],
   "source": []
  },
  {
   "cell_type": "code",
   "execution_count": 121,
   "id": "least-advertiser",
   "metadata": {},
   "outputs": [
    {
     "data": {
      "image/png": "[encoded data removed]",
      "text/plain": [
       "<Figure size 864x288 with 1 Axes>"
      ]
     },
     "metadata": {
      "needs_background": "light"
     },
     "output_type": "display_data"
    }
   ],
   "source": [
    "samples = stats.beta.rvs(0.007049, 1, size=1000000)\n",
    "samples_df = pd.DataFrame(\n",
    "    {\n",
    "        'Priors: vaccine and placebo': samples\n",
    "    }\n",
    ").melt(value_vars=['Priors: vaccine and placebo'], var_name='group', value_name='rate')\n",
    "\n",
    "x = np.linspace(0, 1, 1001)\n",
    "y = stats.beta.pdf(x, 0.007049, 1)\n",
    "ax = sns.relplot(x=x, y=y, kind=\"line\", color='gray', height=4, aspect=3)"
   ]
  },
  {
   "cell_type": "code",
   "execution_count": 112,
   "id": "emotional-funeral",
   "metadata": {},
   "outputs": [],
   "source": [
    "samples_vaccine = stats.beta.rvs(0.007049 + 8, 1 + 17411 - 8, size=100000)\n",
    "samples_placebo = stats.beta.rvs(0.010101 + 162, 1 + 17511 - 162, size=100000)\n",
    "samples_vc_pd = pd.DataFrame(\n",
    "    {\n",
    "        'vaccine': samples_vaccine,\n",
    "        'placebo': samples_placebo\n",
    "    }\n",
    ").melt(value_vars=['vaccine', 'placebo'], var_name='group', value_name='rate')"
   ]
  },
  {
   "cell_type": "code",
   "execution_count": 113,
   "id": "nuclear-applicant",
   "metadata": {},
   "outputs": [
    {
     "data": {
      "text/plain": [
       "<seaborn.axisgrid.FacetGrid at 0x13f4eca60>"
      ]
     },
     "execution_count": 113,
     "metadata": {},
     "output_type": "execute_result"
    },
    {
     "data": {
      "image/png": "[encoded data removed]",
      "text/plain": [
       "<Figure size 939.125x288 with 1 Axes>"
      ]
     },
     "metadata": {
      "needs_background": "light"
     },
     "output_type": "display_data"
    }
   ],
   "source": [
    "sns.displot(samples_vc_pd , x=\"rate\", kind=\"kde\", hue='group', height=4, aspect=3)"
   ]
  },
  {
   "cell_type": "markdown",
   "id": "acoustic-daily",
   "metadata": {},
   "source": [
    "$$P(\\pi_v < \\pi_c)$$"
   ]
  },
  {
   "cell_type": "code",
   "execution_count": null,
   "id": "pressed-engineer",
   "metadata": {},
   "outputs": [],
   "source": [
    "from scipy import stats\n",
    "\n",
    "N = 1000000\n",
    "samples_vaccine = stats.beta.rvs(0.007049 + 8, 1 + 17411 - 8, size=N)\n",
    "samples_placebo = stats.beta.rvs(0.010101 + 162, 1 + 17511 - 162, size=N)\n",
    "\n",
    "sum(samples_vaccine < samples_placebo) / N"
   ]
  },
  {
   "cell_type": "markdown",
   "id": "offensive-baseball",
   "metadata": {},
   "source": [
    "$$P(\\pi_v < \\pi_c) > 99.99$$"
   ]
  },
  {
   "cell_type": "markdown",
   "id": "signed-graph",
   "metadata": {},
   "source": [
    "$$\\textrm{Vaccine Efficacy} = 100 \\cdot (1 - \\textrm{IRR}) = 100 \\cdot \\Big(1 - \\frac{\\pi_v}{\\pi_c}\\Big)$$"
   ]
  },
  {
   "cell_type": "code",
   "execution_count": null,
   "id": "higher-mexico",
   "metadata": {},
   "outputs": [],
   "source": [
    "samples_ve = 100 * (1 - samples_vaccine/samples_placebo)\n",
    "\n",
    "sum(samples_ve > 30) / N"
   ]
  },
  {
   "cell_type": "markdown",
   "id": "vertical-impact",
   "metadata": {},
   "source": [
    "$$P(\\textrm{Vaccine Efficacy} > 30\\%) > 99.99$$"
   ]
  },
  {
   "cell_type": "code",
   "execution_count": null,
   "id": "basic-scroll",
   "metadata": {},
   "outputs": [],
   "source": [
    "import numpy as np\n",
    "\n",
    "np.percentile(samples_ve, 2.5), np.percentile(samples_ve, 97.5)"
   ]
  },
  {
   "cell_type": "markdown",
   "id": "regulated-intake",
   "metadata": {},
   "source": [
    "## Niusance parameter"
   ]
  },
  {
   "cell_type": "markdown",
   "id": "optimum-expense",
   "metadata": {},
   "source": [
    "$$\\theta = \\frac{1 -\\textrm{Vaccine Efficacy}/100}{2 - \\textrm{Vaccine Efficacy}/100}.$$"
   ]
  },
  {
   "cell_type": "markdown",
   "id": "united-immigration",
   "metadata": {},
   "source": [
    "$$\\theta = \\frac{\\frac{\\pi_v}{\\pi_c}}{1-\\frac{\\pi_v}{\\pi_c}} = \\frac{\\pi_v}{\\pi_v +\\pi_c}. $$"
   ]
  },
  {
   "cell_type": "markdown",
   "id": "contrary-automation",
   "metadata": {},
   "source": [
    "$$\\theta = \n",
    "    \\frac{\\frac{k_v}{n/2}}{\\frac{k_v}{n/2}+\\frac{k_c}{n/2}}  = \n",
    "    \\frac{k_v}{k_v+k_c}.$$"
   ]
  },
  {
   "cell_type": "markdown",
   "id": "eight-neutral",
   "metadata": {},
   "source": [
    "$$\\theta = \\frac\n",
    "    {\\textrm{COVID-19 cases in vaccine group}}\n",
    "    {\\textrm{COVID-19 cases in vaccine group} + \\textrm{COVID-19 cases in placebo group}}.$$"
   ]
  },
  {
   "cell_type": "code",
   "execution_count": null,
   "id": "juvenile-breakfast",
   "metadata": {},
   "outputs": [],
   "source": [
    "(1-0.3)/(2-.3)"
   ]
  },
  {
   "cell_type": "markdown",
   "id": "executed-chemistry",
   "metadata": {},
   "source": [
    "$$\\theta = \\frac{1 -\\textrm{Vaccine Efficacy}}{2 - \\textrm{Vaccine Efficacy}} = \\frac{1-0.3}{2-0.3} = 0.4118.$$"
   ]
  },
  {
   "cell_type": "markdown",
   "id": "personalized-decrease",
   "metadata": {},
   "source": [
    "$$\\frac{\\alpha}{\\alpha + \\beta} = 0.4118.$$"
   ]
  },
  {
   "cell_type": "markdown",
   "id": "ambient-dietary",
   "metadata": {},
   "source": [
    "$$\\alpha = \\frac{1}{1-0.4118} - 1 = 0.700102.$$"
   ]
  },
  {
   "cell_type": "code",
   "execution_count": 169,
   "id": "stupid-cleveland",
   "metadata": {},
   "outputs": [],
   "source": [
    "thetas = stats.beta.rvs(0.700102, 1, size=10000000)\n",
    "ves = 1 - thetas/(1-thetas)"
   ]
  },
  {
   "cell_type": "code",
   "execution_count": 170,
   "id": "infectious-remains",
   "metadata": {},
   "outputs": [
    {
     "data": {
      "text/plain": [
       "(-17.188611195016605, -26.138673413264257, 0.9948327091467072)"
      ]
     },
     "execution_count": 170,
     "metadata": {},
     "output_type": "execute_result"
    }
   ],
   "source": [
    "np.mean(ves), np.percentile(ves, 2.5), np.percentile(ves, 97.5)"
   ]
  },
  {
   "cell_type": "code",
   "execution_count": 172,
   "id": "interim-brother",
   "metadata": {},
   "outputs": [
    {
     "data": {
      "text/plain": [
       "<seaborn.axisgrid.FacetGrid at 0x13f741880>"
      ]
     },
     "execution_count": 172,
     "metadata": {},
     "output_type": "execute_result"
    },
    {
     "data": {
      "image/png": "[encoded data removed]",
      "text/plain": [
       "<Figure size 1037.25x288 with 1 Axes>"
      ]
     },
     "metadata": {
      "needs_background": "light"
     },
     "output_type": "display_data"
    }
   ],
   "source": [
    "samples_df = pd.DataFrame(\n",
    "    {\n",
    "        'Priors: vaccine and placebo': ves\n",
    "    }\n",
    ").melt(value_vars=['Priors: vaccine and placebo'], var_name='group', value_name='rate')\n",
    "\n",
    "sns.displot(samples_df, x=\"rate\", kind=\"kde\", hue='group', height=4, aspect=3)"
   ]
  },
  {
   "cell_type": "code",
   "execution_count": 163,
   "id": "pointed-topic",
   "metadata": {},
   "outputs": [
    {
     "data": {
      "image/png": "[encoded data removed]",
      "text/plain": [
       "<Figure size 864x288 with 1 Axes>"
      ]
     },
     "metadata": {
      "needs_background": "light"
     },
     "output_type": "display_data"
    }
   ],
   "source": [
    "x = np.linspace(0.000, 1, 1001)\n",
    "y = stats.beta.pdf(x, 0.700102, 1)\n",
    "ax = sns.relplot(x=x, y=y, kind=\"line\", color='gray', height=4, aspect=3)"
   ]
  },
  {
   "cell_type": "markdown",
   "id": "private-virtue",
   "metadata": {},
   "source": [
    "#### Posterior distribution"
   ]
  },
  {
   "cell_type": "code",
   "execution_count": 164,
   "id": "requested-cambodia",
   "metadata": {},
   "outputs": [
    {
     "data": {
      "text/plain": [
       "0.7001020061203671"
      ]
     },
     "execution_count": 164,
     "metadata": {},
     "output_type": "execute_result"
    }
   ],
   "source": [
    "p = 0.4118\n",
    "1/(1-p) -1"
   ]
  },
  {
   "cell_type": "code",
   "execution_count": null,
   "id": "accepting-warning",
   "metadata": {},
   "outputs": [],
   "source": [
    "8 * (17411 + 17511)/17411 *1 /2"
   ]
  },
  {
   "cell_type": "code",
   "execution_count": null,
   "id": "engaging-asian",
   "metadata": {},
   "outputs": [],
   "source": [
    "162 * (17411 + 17511)/17511 *1 /2"
   ]
  },
  {
   "cell_type": "markdown",
   "id": "dimensional-argentina",
   "metadata": {},
   "source": [
    "$$\\textrm{adjusted number of occurrences in vaccine group} = 8 \\cdot \\frac{17411 + 17511}{17411} \\cdot \\frac{1}{2} = 8.02297$$\n",
    "\n",
    "$$\\textrm{adjusted number of occurrences in placego group} = 162 \\cdot \\frac{17411 + 17511}{17511} \\cdot \\frac{1}{2} = 161.5374$$"
   ]
  },
  {
   "cell_type": "code",
   "execution_count": 167,
   "id": "smart-belize",
   "metadata": {},
   "outputs": [
    {
     "data": {
      "image/png": "[encoded data removed]",
      "text/plain": [
       "<Figure size 864x288 with 1 Axes>"
      ]
     },
     "metadata": {
      "needs_background": "light"
     },
     "output_type": "display_data"
    }
   ],
   "source": [
    "x = np.linspace(0.000, .15, 1001)\n",
    "y = stats.beta.pdf(x, 0.700102+8.02297, 1+161.53743)\n",
    "ax = sns.relplot(x=x, y=y, kind=\"line\", color='gray', height=4, aspect=3)"
   ]
  },
  {
   "cell_type": "code",
   "execution_count": 168,
   "id": "processed-gathering",
   "metadata": {},
   "outputs": [],
   "source": [
    "thetas = stats.beta.rvs(0.700102, 1, size=1000000) \n",
    "ves = 1 - thetas/(1-thetas)"
   ]
  },
  {
   "cell_type": "code",
   "execution_count": 24,
   "id": "cosmetic-lease",
   "metadata": {},
   "outputs": [
    {
     "data": {
      "text/plain": [
       "0.9503336688593478"
      ]
     },
     "execution_count": 24,
     "metadata": {},
     "output_type": "execute_result"
    }
   ],
   "source": [
    "1- 8.02297/161.5374"
   ]
  },
  {
   "cell_type": "code",
   "execution_count": 22,
   "id": "appointed-banner",
   "metadata": {},
   "outputs": [
    {
     "data": {
      "text/plain": [
       "(0.023345990993792774, 0.08838690875349431)"
      ]
     },
     "execution_count": 22,
     "metadata": {},
     "output_type": "execute_result"
    }
   ],
   "source": [
    "theta025 = stats.beta.ppf(0.025, 0.700102 + 8.02297, 1 + 161.53743)\n",
    "theta975 = stats.beta.ppf(.975, 0.700102 + 8.022974, 1 + 161.53743)\n",
    "theta025, theta975"
   ]
  },
  {
   "cell_type": "code",
   "execution_count": 177,
   "id": "naughty-damage",
   "metadata": {},
   "outputs": [
    {
     "data": {
      "text/plain": [
       "(90.30433968070409, 97.60959451571306)"
      ]
     },
     "execution_count": 177,
     "metadata": {},
     "output_type": "execute_result"
    }
   ],
   "source": [
    "theta025 = stats.beta.ppf(0.025, 0.700102 + 8.02297, 1 + 161.53743)\n",
    "theta975 = stats.beta.ppf(.975, 0.700102 + 8.022974, 1 + 161.53743)\n",
    "ves975 = 100 * (1 - theta025/(1-theta025))\n",
    "ves025 = 100 * (1 - theta975/(1-theta975))\n",
    "ves025, ves975 \n",
    "\n",
    "#Out: (90.30433968070409, 97.60959451571306)"
   ]
  },
  {
   "cell_type": "code",
   "execution_count": 185,
   "id": "regulation-closer",
   "metadata": {},
   "outputs": [
    {
     "data": {
      "text/plain": [
       "(0.9030433968070408, 0.9760959451571305)"
      ]
     },
     "execution_count": 185,
     "metadata": {},
     "output_type": "execute_result"
    }
   ],
   "source": [
    "theta025 = stats.beta.ppf(0.025, 0.700102 + 8.02297, 1 + 161.53743)\n",
    "theta975 = stats.beta.ppf(.975, 0.700102 + 8.022974, 1 + 161.53743)\n",
    "ves975 = 1 - theta025/(1-theta025)\n",
    "ves025 = 1 - theta975/(1-theta975)\n",
    "ves025, ves975 "
   ]
  },
  {
   "cell_type": "code",
   "execution_count": 186,
   "id": "economic-warrior",
   "metadata": {},
   "outputs": [
    {
     "data": {
      "text/plain": [
       "(0.9031371659977501, 0.976101494783773)"
      ]
     },
     "execution_count": 186,
     "metadata": {},
     "output_type": "execute_result"
    }
   ],
   "source": [
    "thetas = stats.beta.rvs(0.700102 + 8.02297, 1 + 161.53743, size=1000000)\n",
    "ves = 1 - thetas/(1-thetas)\n",
    "np.percentile(ves, 2.5), np.percentile(ves, 97.5)"
   ]
  },
  {
   "cell_type": "code",
   "execution_count": 190,
   "id": "assigned-newspaper",
   "metadata": {},
   "outputs": [
    {
     "data": {
      "image/png": "[encoded data removed]",
      "text/plain": [
       "<Figure size 576x288 with 1 Axes>"
      ]
     },
     "metadata": {
      "needs_background": "light"
     },
     "output_type": "display_data"
    }
   ],
   "source": [
    "kde = stats.gaussian_kde(ves)\n",
    "pos_all = np.linspace(0.85, ves.max(), 101)\n",
    "ax = sns.relplot(x=pos_all, y=kde(pos_all), kind=\"line\", color='darkorange')\n",
    "ax.fig.set_figwidth(8)\n",
    "ax.fig.set_figheight(4)\n",
    "pos = np.linspace(ves025, ves975, 101)\n",
    "plt.fill_between(pos, kde(pos), alpha=0.3, color='darkorange')\n",
    "plt.show()"
   ]
  },
  {
   "cell_type": "code",
   "execution_count": null,
   "id": "third-allah",
   "metadata": {},
   "outputs": [],
   "source": [
    "thetas = stats.beta.rvs(0.700102 + 8, 1 + 162, size=1000000) \n",
    "#ves = (1-2*thetas)/(1-thetas)\n",
    "#np.percentile(ves, 2.5), np.percentile(ves, 97.5)\n",
    "thetas"
   ]
  },
  {
   "cell_type": "code",
   "execution_count": null,
   "id": "unsigned-symposium",
   "metadata": {},
   "outputs": [],
   "source": [
    "theta_mean = np.mean(thetas)\n",
    "theta_mean\n",
    "#theta_mean = (0.700102 + 8)/(1 + 162)"
   ]
  },
  {
   "cell_type": "code",
   "execution_count": null,
   "id": "acoustic-interference",
   "metadata": {},
   "outputs": [],
   "source": [
    "(1-2*theta_mean)/(1-theta_mean)"
   ]
  },
  {
   "cell_type": "code",
   "execution_count": null,
   "id": "peaceful-daisy",
   "metadata": {},
   "outputs": [],
   "source": [
    "1 - (theta_mean/(1-theta_mean))"
   ]
  },
  {
   "cell_type": "code",
   "execution_count": null,
   "id": "coordinated-diving",
   "metadata": {},
   "outputs": [],
   "source": [
    "theta_1 = np.percentile(thetas, 2.5)\n",
    "(1-2*theta_1)/(1-theta_1)"
   ]
  },
  {
   "cell_type": "code",
   "execution_count": null,
   "id": "basic-airfare",
   "metadata": {},
   "outputs": [],
   "source": [
    "a1 = 8 \n",
    "a2 = 4\n",
    "q1 = 2/3\n",
    "q2 = 1/3"
   ]
  },
  {
   "cell_type": "code",
   "execution_count": null,
   "id": "manufactured-bandwidth",
   "metadata": {},
   "outputs": [],
   "source": [
    "(a1/q1)/2, (a2/q2)/2"
   ]
  },
  {
   "cell_type": "code",
   "execution_count": null,
   "id": "normal-wright",
   "metadata": {},
   "outputs": [],
   "source": [
    "8 * (17411 + 17511)/17411 *1 /2"
   ]
  },
  {
   "cell_type": "code",
   "execution_count": null,
   "id": "italian-croatia",
   "metadata": {},
   "outputs": [],
   "source": [
    "162 * (17411 + 17511)/17511 *1 /2"
   ]
  },
  {
   "cell_type": "code",
   "execution_count": null,
   "id": "still-license",
   "metadata": {},
   "outputs": [],
   "source": [
    "q1 = 17411/(17411 + 17511)\n",
    "q2 = 17511/(17411 + 17511)\n",
    "\n",
    "a1 = 8\n",
    "a2 = 162\n",
    "b1 = a1/(2*q1)\n",
    "b2 = a2/(2*q2)\n",
    "b1, b2"
   ]
  },
  {
   "cell_type": "code",
   "execution_count": 13,
   "id": "motivated-gallery",
   "metadata": {},
   "outputs": [
    {
     "data": {
      "text/plain": [
       "(0.9459982638730382, 0.9030435730211366, 0.9761243481131912)"
      ]
     },
     "execution_count": 13,
     "metadata": {},
     "output_type": "execute_result"
    }
   ],
   "source": [
    "thetas = stats.beta.rvs(0.700102 + 8.02297, 1 + 161.5374 , size=1000000)\n",
    "ves = (1-2*thetas)/(1-thetas)\n",
    "#ves = 1 - thetas/(1-thetas)\n",
    "np.mean(ves), np.percentile(ves, 2.5), np.percentile(ves, 97.5)"
   ]
  },
  {
   "cell_type": "code",
   "execution_count": 14,
   "id": "artificial-diary",
   "metadata": {},
   "outputs": [
    {
     "data": {
      "text/plain": [
       "(0.9459982638730382, 0.9030435730211365, 0.9761243481131913)"
      ]
     },
     "execution_count": 14,
     "metadata": {},
     "output_type": "execute_result"
    }
   ],
   "source": [
    "ves = 1 - thetas/(1-thetas)\n",
    "np.mean(ves), np.percentile(ves, 2.5), np.percentile(ves, 97.5)"
   ]
  },
  {
   "cell_type": "code",
   "execution_count": null,
   "id": "alpha-government",
   "metadata": {},
   "outputs": [],
   "source": [
    "theta025 = stats.beta.ppf(0.025, 0.700102 + 8.02297, 1 + 161.53743)\n",
    "ves975 = 1 - theta1/(1-theta1)\n",
    "theta975 = stats.beta.ppf(.975, 0.700102 + 8.022974, 1 + 161.5374336)\n",
    "ves025 = 1 - theta2/(1-theta2)\n",
    "ves025, theta975 \n",
    "\n",
    "#Out: (0.9030433990045095, 0.08838690692731344)"
   ]
  },
  {
   "cell_type": "code",
   "execution_count": null,
   "id": "about-ordering",
   "metadata": {},
   "outputs": [],
   "source": [
    "theta_mean = np.mean(theta)"
   ]
  },
  {
   "cell_type": "code",
   "execution_count": null,
   "id": "played-chest",
   "metadata": {},
   "outputs": [],
   "source": [
    "(1-2*theta_mean)/(1-theta_mean)"
   ]
  },
  {
   "cell_type": "code",
   "execution_count": null,
   "id": "muslim-meter",
   "metadata": {},
   "outputs": [],
   "source": [
    "samples = 1 - samples_vaccine/samples_placebo\n",
    "np.percentile(samples, 2.5), np.percentile(samples, 97.5)"
   ]
  },
  {
   "cell_type": "markdown",
   "id": "straight-funds",
   "metadata": {},
   "source": [
    "$$\\theta = \\frac{1 -\\textrm{Vaccine Efficacy}/100}{2 - \\textrm{Vaccine Efficacy}/100}.$$"
   ]
  },
  {
   "cell_type": "markdown",
   "id": "prerequisite-greenhouse",
   "metadata": {},
   "source": [
    "$$\\textrm{Vaccine Efficacy} = 100\\cdot \\Big(1 - \\frac{\\theta}{1-\\theta}\\Big).$$"
   ]
  },
  {
   "cell_type": "code",
   "execution_count": null,
   "id": "raising-winner",
   "metadata": {},
   "outputs": [],
   "source": []
  },
  {
   "cell_type": "markdown",
   "id": "liberal-collins",
   "metadata": {},
   "source": [
    "### Participants with and those without evidence of infection"
   ]
  },
  {
   "cell_type": "code",
   "execution_count": 10,
   "id": "behind-thriller",
   "metadata": {},
   "outputs": [
    {
     "data": {
      "text/plain": [
       "(9.03612802413923, 168.3269991447509)"
      ]
     },
     "execution_count": 10,
     "metadata": {},
     "output_type": "execute_result"
    }
   ],
   "source": [
    "q1 = 18559/(18559 + 18708)\n",
    "q2 = 18708/(18559 + 18708)\n",
    "\n",
    "a1 = 9\n",
    "a2 = 169\n",
    "b1 = a1/(2*q1)\n",
    "b2 = a2/(2*q2)\n",
    "b1, b2"
   ]
  },
  {
   "cell_type": "markdown",
   "id": "careful-houston",
   "metadata": {},
   "source": [
    "$$\\textrm{addjusted number of occurrences in vaccine group} = 9 \\cdot \\frac{18559 + 18708}{18559} \\cdot \\frac{1}{2} = 9.03613$$\n",
    "\n",
    "$$\\textrm{addjusted number of occurrences in placego group} = 169 \\cdot \\frac{18559 + 18708}{18708} \\cdot \\frac{1}{2} = 168.327$$"
   ]
  },
  {
   "cell_type": "code",
   "execution_count": 192,
   "id": "breathing-overview",
   "metadata": {},
   "outputs": [
    {
     "data": {
      "text/plain": [
       "(89.88055638026545, 97.30728685161121)"
      ]
     },
     "execution_count": 192,
     "metadata": {},
     "output_type": "execute_result"
    }
   ],
   "source": [
    "theta025 = stats.beta.ppf(0.025, 0.700102 + 9.03613, 1 + 168.327)\n",
    "theta975 = stats.beta.ppf(.975, 0.700102 + 9.03613, 1 + 168.327)\n",
    "ves975 = 100 * (1 - theta025/(1-theta025))\n",
    "ves025 = 100 * (1 - theta975/(1-theta975))\n",
    "ves025, ves975 \n",
    "\n",
    "#Out: (89.88055638026545, 97.30728685161121)"
   ]
  },
  {
   "cell_type": "code",
   "execution_count": 21,
   "id": "known-atmosphere",
   "metadata": {},
   "outputs": [
    {
     "data": {
      "text/plain": [
       "(0.8988055638026544, 0.9730728685161121)"
      ]
     },
     "execution_count": 21,
     "metadata": {},
     "output_type": "execute_result"
    }
   ],
   "source": [
    "theta025 = stats.beta.ppf(0.025, 0.700102 + 9.03613, 1 + 168.327)\n",
    "theta975 = stats.beta.ppf(.975, 0.700102 + 9.03613, 1 + 168.327)\n",
    "ves975 = 1 - theta025/(1-theta025)\n",
    "ves025 = 1 - theta975/(1-theta975)\n",
    "ves025, ves975 "
   ]
  },
  {
   "cell_type": "code",
   "execution_count": 79,
   "id": "listed-uncle",
   "metadata": {},
   "outputs": [
    {
     "data": {
      "text/plain": [
       "<seaborn.axisgrid.FacetGrid at 0x13d8670a0>"
      ]
     },
     "execution_count": 79,
     "metadata": {},
     "output_type": "execute_result"
    },
    {
     "data": {
      "image/png": "[encoded data removed]",
      "text/plain": [
       "<Figure size 360x360 with 1 Axes>"
      ]
     },
     "metadata": {
      "needs_background": "light"
     },
     "output_type": "display_data"
    }
   ],
   "source": [
    "x = np.arange(0, 1, .001)\n",
    "theta = stats.beta.pdf(x, 0.700102 + 9.03613, 1 + 168.327)\n",
    "y = (1 - theta)/(2-theta)\n",
    "ve_plot_df = pd.DataFrame({'x': x, 'y': theta})\n",
    "sns.relplot(x=\"x\", y=\"y\", kind=\"line\", data=ve_plot_df)"
   ]
  },
  {
   "cell_type": "code",
   "execution_count": 180,
   "id": "handled-intent",
   "metadata": {},
   "outputs": [
    {
     "data": {
      "text/plain": [
       "(0.8988207489196189, 0.9730687437357025)"
      ]
     },
     "execution_count": 180,
     "metadata": {},
     "output_type": "execute_result"
    }
   ],
   "source": [
    "thetas = stats.beta.rvs(0.700102 + 9.03613, 1 + 168.327 , size=1000000)\n",
    "ves = 1 - thetas/(1-thetas)\n",
    "np.percentile(ves, 2.5), np.percentile(ves, 97.5)"
   ]
  },
  {
   "cell_type": "code",
   "execution_count": 181,
   "id": "whole-longitude",
   "metadata": {},
   "outputs": [
    {
     "data": {
      "text/plain": [
       "(0.8988207489196189, 0.9730687437357025)"
      ]
     },
     "execution_count": 181,
     "metadata": {},
     "output_type": "execute_result"
    }
   ],
   "source": [
    "ves = 1 - thetas/(1-thetas)\n",
    "np.percentile(ves, 2.5), np.percentile(ves, 97.5)"
   ]
  },
  {
   "cell_type": "code",
   "execution_count": 182,
   "id": "certified-bloom",
   "metadata": {},
   "outputs": [
    {
     "data": {
      "image/png": "[encoded data removed]",
      "text/plain": [
       "<Figure size 576x360 with 1 Axes>"
      ]
     },
     "metadata": {
      "needs_background": "light"
     },
     "output_type": "display_data"
    }
   ],
   "source": [
    "kde = stats.gaussian_kde(ves)\n",
    "pos_all = np.linspace(ves.min(), ves.max(), 101)\n",
    "ax = sns.relplot(x=pos_all, y=kde(pos_all), kind=\"line\", color='darkorange')\n",
    "ax.fig.set_figwidth(8)\n",
    "ax.fig.set_figheight(5)\n",
    "pos = np.linspace(ves025, ves975, 101)\n",
    "plt.fill_between(pos, kde(pos), alpha=0.3, color='darkorange')\n",
    "plt.show()"
   ]
  },
  {
   "cell_type": "code",
   "execution_count": 67,
   "id": "measured-watch",
   "metadata": {},
   "outputs": [
    {
     "data": {
      "image/png": "[encoded data removed]",
      "text/plain": [
       "<Figure size 432x288 with 1 Axes>"
      ]
     },
     "metadata": {
      "needs_background": "light"
     },
     "output_type": "display_data"
    }
   ],
   "source": [
    "dist = np.random.normal(loc=0, scale=1, size=1000)\n",
    "ax = sns.kdeplot(dist, shade=True)\n",
    "line = ax.get_lines()"
   ]
  },
  {
   "cell_type": "code",
   "execution_count": 68,
   "id": "valid-taiwan",
   "metadata": {},
   "outputs": [
    {
     "data": {
      "text/plain": [
       "<a list of 0 Line2D objects>"
      ]
     },
     "execution_count": 68,
     "metadata": {},
     "output_type": "execute_result"
    }
   ],
   "source": [
    "line"
   ]
  },
  {
   "cell_type": "code",
   "execution_count": 66,
   "id": "weekly-plenty",
   "metadata": {},
   "outputs": [
    {
     "data": {
      "text/plain": [
       "array([0.96669826, 0.96560292, 0.9436391 , ..., 0.9457778 , 0.92958985,\n",
       "       0.93328491])"
      ]
     },
     "execution_count": 66,
     "metadata": {},
     "output_type": "execute_result"
    }
   ],
   "source": [
    "ves"
   ]
  },
  {
   "cell_type": "code",
   "execution_count": 64,
   "id": "sealed-devon",
   "metadata": {},
   "outputs": [
    {
     "data": {
      "image/png": "[encoded data removed]",
      "text/plain": [
       "<Figure size 432x288 with 1 Axes>"
      ]
     },
     "metadata": {
      "needs_background": "light"
     },
     "output_type": "display_data"
    }
   ],
   "source": [
    "ax = sns.kdeplot(ves, shade=True)\n",
    "line = ax.get_lines()"
   ]
  },
  {
   "cell_type": "code",
   "execution_count": 65,
   "id": "fewer-newton",
   "metadata": {},
   "outputs": [
    {
     "data": {
      "text/plain": [
       "<a list of 0 Line2D objects>"
      ]
     },
     "execution_count": 65,
     "metadata": {},
     "output_type": "execute_result"
    }
   ],
   "source": [
    "line"
   ]
  },
  {
   "cell_type": "code",
   "execution_count": 99,
   "id": "confused-newsletter",
   "metadata": {},
   "outputs": [
    {
     "data": {
      "image/png": "[encoded data removed]",
      "text/plain": [
       "<Figure size 432x288 with 1 Axes>"
      ]
     },
     "metadata": {
      "needs_background": "light"
     },
     "output_type": "display_data"
    }
   ],
   "source": [
    "pos = np.linspace(dist.min(), dist.max(), 101)\n",
    "plt.plot(pos, kde(pos))\n",
    "# plot shaded kde only right of x=0.5\n",
    "shade = np.linspace(0.5,dist.max(), 101)\n",
    "plt.fill_between(shade,kde(shade), alpha=0.5)\n",
    "\n",
    "plt.ylim(0,None)\n",
    "plt.show()"
   ]
  },
  {
   "cell_type": "code",
   "execution_count": null,
   "id": "stunning-conversation",
   "metadata": {},
   "outputs": [],
   "source": [
    "ax = sns.kdeplot(dist, shade=True)\n",
    "line = ax.get_lines()[-1]\n",
    "x, y = line.get_data()\n",
    "mask = x > 0\n",
    "x, y = x[mask], y[mask]\n",
    "ax.fill_between(x, y1=y, alpha=0.5, facecolor='red')\n",
    "plt.show()"
   ]
  },
  {
   "cell_type": "code",
   "execution_count": null,
   "id": "spread-camping",
   "metadata": {},
   "outputs": [],
   "source": []
  },
  {
   "cell_type": "code",
   "execution_count": null,
   "id": "amended-spouse",
   "metadata": {},
   "outputs": [],
   "source": []
  },
  {
   "cell_type": "code",
   "execution_count": null,
   "id": "liberal-grove",
   "metadata": {},
   "outputs": [],
   "source": []
  },
  {
   "cell_type": "code",
   "execution_count": null,
   "id": "accredited-conversion",
   "metadata": {},
   "outputs": [],
   "source": []
  },
  {
   "cell_type": "markdown",
   "id": "willing-salmon",
   "metadata": {},
   "source": [
    "## Participants without evidence of infection"
   ]
  },
  {
   "cell_type": "code",
   "execution_count": null,
   "id": "charged-increase",
   "metadata": {},
   "outputs": [],
   "source": [
    "sr1 = 2.214\n",
    "sr2 = 2.222\n",
    "\n",
    "18198 *2 * sr1/(sr1 + sr2)"
   ]
  },
  {
   "cell_type": "code",
   "execution_count": null,
   "id": "working-spider",
   "metadata": {},
   "outputs": [],
   "source": [
    "samples = stats.beta.rvs(0.5, 0.5, size=10000000)\n",
    "np.mean(samples), np.percentile(samples, 2.5), np.percentile(samples, 97.5)"
   ]
  },
  {
   "cell_type": "code",
   "execution_count": null,
   "id": "established-digit",
   "metadata": {},
   "outputs": [],
   "source": [
    "162/17511"
   ]
  },
  {
   "cell_type": "code",
   "execution_count": null,
   "id": "scheduled-edition",
   "metadata": {},
   "outputs": [],
   "source": [
    "x = 0.5* (1 - 0.3)\n",
    "x"
   ]
  },
  {
   "cell_type": "markdown",
   "id": "serious-metallic",
   "metadata": {},
   "source": [
    "a/(1+a) = x\n",
    "\n",
    "(1 + a -1)/(1+a) = x\n",
    "\n",
    "1 - 1/(1+a) = x\n",
    "\n",
    "1/(1+a) = 1 - x\n",
    "\n",
    "1+a = 1/(1-x)\n",
    "\n",
    "a = 1/(1-x) - 1= (1 - 1 + x)/(1-x) = x/(1-x)"
   ]
  },
  {
   "cell_type": "code",
   "execution_count": null,
   "id": "emotional-institution",
   "metadata": {},
   "outputs": [],
   "source": [
    "a = 1/(1 - .01) - 1\n",
    "a"
   ]
  },
  {
   "cell_type": "code",
   "execution_count": null,
   "id": "homeless-vampire",
   "metadata": {},
   "outputs": [],
   "source": [
    "p = a/(a+1)\n",
    "p"
   ]
  },
  {
   "cell_type": "code",
   "execution_count": null,
   "id": "logical-revelation",
   "metadata": {},
   "outputs": [],
   "source": [
    "1 - (p/0.5)"
   ]
  },
  {
   "cell_type": "code",
   "execution_count": null,
   "id": "human-syndication",
   "metadata": {},
   "outputs": [],
   "source": []
  },
  {
   "cell_type": "code",
   "execution_count": null,
   "id": "sonic-nudist",
   "metadata": {},
   "outputs": [],
   "source": [
    "samples_vaccine = stats.beta.rvs(0.5 + 8, 1 + 17411 - 8, size=100000)\n",
    "samples_placebo = stats.beta.rvs(1 + 162, 1 + 17511 - 162, size=100000)\n",
    "\n",
    "samples = 1 - samples_vaccine/samples_placebo\n",
    "np.percentile(samples, 2.5), np.percentile(samples, 97.5)"
   ]
  },
  {
   "cell_type": "code",
   "execution_count": null,
   "id": "confident-client",
   "metadata": {},
   "outputs": [],
   "source": [
    "hpd_mu, x_mu, y_mu, modes_mu = hpd_grid(samples, alpha=0.05, roundto=4)\n",
    "hpd_mu"
   ]
  },
  {
   "cell_type": "code",
   "execution_count": null,
   "id": "great-nothing",
   "metadata": {},
   "outputs": [],
   "source": [
    "samples_vaccine = stats.beta.rvs(0.700102 + 9, 1 + 18559 - 9, size=100000)\n",
    "samples_placebo = stats.beta.rvs(0.700102 + 169, 1 + 18708 - 169, size=100000)\n",
    "\n",
    "samples = 1 - samples_vaccine/samples_placebo\n",
    "np.percentile(samples, 2.5), np.percentile(samples, 97.5)"
   ]
  },
  {
   "cell_type": "code",
   "execution_count": null,
   "id": "paperback-gather",
   "metadata": {},
   "outputs": [],
   "source": [
    "hpd_mu, x_mu, y_mu, modes_mu = hpd_grid(samples, alpha=0.05, roundto=4)\n",
    "hpd_mu"
   ]
  },
  {
   "cell_type": "code",
   "execution_count": null,
   "id": "spare-hanging",
   "metadata": {},
   "outputs": [],
   "source": [
    "a = 0.700102 + cases_treatment\n",
    "b = 1 + size_treatment - cases_treatment\n",
    "samples_treatment = stats.beta.rvs(0.700102 + 8, 1 + 17511, size=100000)"
   ]
  },
  {
   "cell_type": "code",
   "execution_count": null,
   "id": "roman-tiffany",
   "metadata": {},
   "outputs": [],
   "source": [
    "samples = 1 - samples_treatment/samples_control\n",
    "hpd_mu, x_mu, y_mu, modes_mu = hpd_grid(samples, alpha=0.05, roundto=4)\n",
    "hpd_mu"
   ]
  },
  {
   "cell_type": "code",
   "execution_count": null,
   "id": "hired-thomas",
   "metadata": {},
   "outputs": [],
   "source": [
    "np.percentile(samples, 2.5), np.percentile(samples, 97.5)"
   ]
  },
  {
   "cell_type": "code",
   "execution_count": null,
   "id": "approximate-musical",
   "metadata": {},
   "outputs": [],
   "source": [
    "plt.hist(samples, density=True, bins=50)\n",
    "plt.show()"
   ]
  },
  {
   "cell_type": "code",
   "execution_count": null,
   "id": "featured-candidate",
   "metadata": {},
   "outputs": [],
   "source": [
    "coef_control = 1000 * cases_control/size_control\n",
    "coef_treatment = 1000 * cases_treatment/size_treatment\n",
    "coef_control, coef_treatment\n",
    "1 - coef_treatment/coef_control"
   ]
  },
  {
   "cell_type": "code",
   "execution_count": null,
   "id": "lyric-burke",
   "metadata": {},
   "outputs": [],
   "source": []
  },
  {
   "cell_type": "code",
   "execution_count": null,
   "id": "latter-inventory",
   "metadata": {},
   "outputs": [],
   "source": []
  },
  {
   "cell_type": "markdown",
   "id": "allied-basket",
   "metadata": {},
   "source": [
    "* <https://sph.unc.edu/wp-content/uploads/sites/112/2015/07/nciph_ERIC4.pdf>"
   ]
  },
  {
   "cell_type": "markdown",
   "id": "numerical-divorce",
   "metadata": {},
   "source": [
    "## Row two"
   ]
  },
  {
   "cell_type": "code",
   "execution_count": null,
   "id": "challenging-green",
   "metadata": {},
   "outputs": [],
   "source": [
    "cases_treatment, size_treatment, cases_control, size_control = 9, 18708, 169, 18559\n",
    "\n",
    "successes_control = size_control - cases_control\n",
    "successes_treatment = size_treatment - cases_treatment\n",
    "\n",
    "1-(cases_treatment/size_control)/(cases_control/size_treatment)"
   ]
  },
  {
   "cell_type": "code",
   "execution_count": null,
   "id": "experienced-retreat",
   "metadata": {},
   "outputs": [],
   "source": [
    "a = 0.700102 + cases_control\n",
    "b = 1 + size_control\n",
    "samples_control = stats.beta.rvs(a, b, size=100000)\n",
    "a = 0.700102 + cases_treatment\n",
    "b = 1 + size_treatment\n",
    "samples_treatment = stats.beta.rvs(a, b, size=100000)"
   ]
  },
  {
   "cell_type": "code",
   "execution_count": null,
   "id": "roman-world",
   "metadata": {},
   "outputs": [],
   "source": [
    "samples = 1 - samples_treatment/samples_control\n",
    "hpd_mu, x_mu, y_mu, modes_mu = hpd_grid(samples, alpha=0.06, roundto=4)\n",
    "hpd_mu"
   ]
  },
  {
   "cell_type": "code",
   "execution_count": null,
   "id": "arctic-community",
   "metadata": {},
   "outputs": [],
   "source": [
    "np.percentile(samples, 2.5), np.percentile(samples, 97.5)"
   ]
  },
  {
   "cell_type": "markdown",
   "id": "unnecessary-cocktail",
   "metadata": {},
   "source": [
    "## Subgroup analysis\n",
    "\n",
    "It uses __Clopper–Pearson interval__\n",
    "\n",
    "<https://en.wikipedia.org/wiki/Binomial_proportion_confidence_interval>"
   ]
  },
  {
   "cell_type": "markdown",
   "id": "macro-apparatus",
   "metadata": {},
   "source": [
    "<img src=\"../imgs/rct-table3.png\">"
   ]
  },
  {
   "cell_type": "code",
   "execution_count": null,
   "id": "surprised-worth",
   "metadata": {},
   "outputs": [],
   "source": [
    "cases_treatment, size_treatment, cases_control, size_control = 5, 9897, 114, 9955\n",
    "\n",
    "1-(cases_treatment/size_control)/(cases_control/size_treatment)"
   ]
  },
  {
   "cell_type": "code",
   "execution_count": null,
   "id": "waiting-ozone",
   "metadata": {},
   "outputs": [],
   "source": [
    "a = 0.700102 + cases_control\n",
    "b = 1 + size_control\n",
    "samples_control = stats.beta.rvs(a, b, size=100000)\n",
    "a = 0.700102 + cases_treatment\n",
    "b = 1 + size_treatment\n",
    "samples_treatment = stats.beta.rvs(a, b, size=100000)\n",
    "\n",
    "samples = 1 - samples_treatment/samples_control\n",
    "\n",
    "np.percentile(samples, 2.5), np.percentile(samples, 97.5)"
   ]
  },
  {
   "cell_type": "code",
   "execution_count": null,
   "id": "mobile-equilibrium",
   "metadata": {},
   "outputs": [],
   "source": [
    "samples = 1 - stats.beta.rvs(cases_treatment, cases_control + 1, size=100000)\n",
    "np.percentile(samples, 2.5), np.percentile(samples, 97.5)"
   ]
  },
  {
   "cell_type": "code",
   "execution_count": null,
   "id": "seeing-floating",
   "metadata": {},
   "outputs": [],
   "source": [
    "samples = 1 - stats.beta.rvs(cases_treatment + 1, cases_control, size=100000)\n",
    "np.percentile(samples, 2.5), np.percentile(samples, 97.5)"
   ]
  },
  {
   "cell_type": "code",
   "execution_count": null,
   "id": "comfortable-alert",
   "metadata": {},
   "outputs": [],
   "source": [
    "\n",
    "17411 / 2214 , 17511/2222\n"
   ]
  },
  {
   "cell_type": "code",
   "execution_count": null,
   "id": "trying-silence",
   "metadata": {},
   "outputs": [],
   "source": []
  }
 ],
 "metadata": {
  "kernelspec": {
   "display_name": "Python 3",
   "language": "python",
   "name": "python3"
  },
  "language_info": {
   "codemirror_mode": {
    "name": "ipython",
    "version": 3
   },
   "file_extension": ".py",
   "mimetype": "text/x-python",
   "name": "python",
   "nbconvert_exporter": "python",
   "pygments_lexer": "ipython3",
   "version": "3.9.2"
  }
 },
 "nbformat": 4,
 "nbformat_minor": 5
}
