{
 "cells": [
  {
   "cell_type": "markdown",
   "id": "beautiful-assessment",
   "metadata": {},
   "source": [
    "<https://www.nejm.org/doi/full/10.1056/NEJMoa2034577>"
   ]
  },
  {
   "cell_type": "code",
   "execution_count": 78,
   "id": "structural-holmes",
   "metadata": {},
   "outputs": [
    {
     "data": {
      "text/plain": [
       "0.9963996399639964"
      ]
     },
     "execution_count": 78,
     "metadata": {},
     "output_type": "execute_result"
    }
   ],
   "source": [
    "from scipy import stats\n",
    "import matplotlib.pyplot as plt\n",
    "import numpy as np\n",
    "\n",
    "size_control = 21728 \n",
    "size_treatment = 21720\n",
    "size_control = 18198 \n",
    "size_treatment = 18325\n",
    "size_control = 17411\n",
    "size_treatment = 17511\n",
    "\n",
    "#size_control = 2214 \n",
    "#size_treatment = 2222\n",
    "\n",
    "cases_treatment = 8\n",
    "cases_control = 162\n",
    "successes_control = size_control - cases_control\n",
    "successes_treatment = size_treatment - cases_treatment\n",
    "\n",
    "alpha_A = successes_control\n",
    "beta_A = size_control - successes_control\n",
    "alpha_B = successes_treatment\n",
    "beta_B = size_treatment - successes_treatment\n",
    "successes_treatment / size_treatment"
   ]
  },
  {
   "cell_type": "code",
   "execution_count": 66,
   "id": "editorial-safety",
   "metadata": {},
   "outputs": [
    {
     "data": {
      "text/plain": [
       "0.9504388459522455"
      ]
     },
     "execution_count": 66,
     "metadata": {},
     "output_type": "execute_result"
    }
   ],
   "source": [
    "1-(cases_treatment/size_control)/(cases_control/size_treatment)"
   ]
  },
  {
   "cell_type": "markdown",
   "id": "requested-white",
   "metadata": {},
   "source": [
    "## Method 1"
   ]
  },
  {
   "cell_type": "code",
   "execution_count": 52,
   "id": "figured-handbook",
   "metadata": {},
   "outputs": [
    {
     "data": {
      "text/plain": [
       "0.00045947963930848316"
      ]
     },
     "execution_count": 52,
     "metadata": {},
     "output_type": "execute_result"
    }
   ],
   "source": [
    "cases_treatment/size_control"
   ]
  },
  {
   "cell_type": "code",
   "execution_count": 43,
   "id": "moving-training",
   "metadata": {},
   "outputs": [
    {
     "data": {
      "text/plain": [
       "0.9450214148308839"
      ]
     },
     "execution_count": 43,
     "metadata": {},
     "output_type": "execute_result"
    }
   ],
   "source": [
    "a = 0.700102 + cases_control - cases_treatment\n",
    "b = 1 + cases_treatment\n",
    "a/(a+b)"
   ]
  },
  {
   "cell_type": "code",
   "execution_count": 55,
   "id": "sharing-portal",
   "metadata": {},
   "outputs": [
    {
     "data": {
      "text/plain": [
       "[(0.6746, 1.0)]"
      ]
     },
     "execution_count": 55,
     "metadata": {},
     "output_type": "execute_result"
    }
   ],
   "source": [
    "from hpd import hpd_grid\n",
    "samples = stats.beta.rvs(a, b, size=100000)\n",
    "hpd_mu, x_mu, y_mu, modes_mu = hpd_grid(samples, alpha=0.05, roundto=4)\n",
    "hpd_mu"
   ]
  },
  {
   "cell_type": "code",
   "execution_count": 35,
   "id": "partial-artwork",
   "metadata": {},
   "outputs": [
    {
     "data": {
      "image/png": "[encoded data removed]",
      "text/plain": [
       "<Figure size 432x288 with 1 Axes>"
      ]
     },
     "metadata": {
      "needs_background": "light"
     },
     "output_type": "display_data"
    }
   ],
   "source": [
    "plt.hist(samples, density=True, bins=30)\n",
    "plt.show()"
   ]
  },
  {
   "cell_type": "markdown",
   "id": "removed-david",
   "metadata": {},
   "source": [
    "## Method 2"
   ]
  },
  {
   "cell_type": "code",
   "execution_count": 67,
   "id": "strong-samoa",
   "metadata": {},
   "outputs": [
    {
     "data": {
      "text/plain": [
       "0.9507950795079508"
      ]
     },
     "execution_count": 67,
     "metadata": {},
     "output_type": "execute_result"
    }
   ],
   "source": [
    "coef_control = 1000 * cases_control/size_control\n",
    "coef_treatment = 1000 * cases_treatment/size_treatment\n",
    "coef_control, coef_treatment\n",
    "1 - coef_treatment/coef_control"
   ]
  },
  {
   "cell_type": "code",
   "execution_count": 68,
   "id": "dominican-construction",
   "metadata": {},
   "outputs": [
    {
     "data": {
      "text/plain": [
       "(3.6003600360036003, 73.17073170731707)"
      ]
     },
     "execution_count": 68,
     "metadata": {},
     "output_type": "execute_result"
    }
   ],
   "source": [
    "coef_treatment , coef_control"
   ]
  },
  {
   "cell_type": "code",
   "execution_count": 69,
   "id": "large-salon",
   "metadata": {},
   "outputs": [
    {
     "data": {
      "text/plain": [
       "0.9385560463506097"
      ]
     },
     "execution_count": 69,
     "metadata": {},
     "output_type": "execute_result"
    }
   ],
   "source": [
    "a = 0.700102 + coef_control - coef_treatment \n",
    "b = 1 + coef_treatment\n",
    "a/(a+b)"
   ]
  },
  {
   "cell_type": "code",
   "execution_count": 70,
   "id": "looking-opera",
   "metadata": {},
   "outputs": [
    {
     "data": {
      "text/plain": [
       "[(0.8838, 0.9862)]"
      ]
     },
     "execution_count": 70,
     "metadata": {},
     "output_type": "execute_result"
    }
   ],
   "source": [
    "samples = stats.beta.rvs(a, b, size=100000)\n",
    "hpd_mu, x_mu, y_mu, modes_mu = hpd_grid(samples, alpha=0.05, roundto=4)\n",
    "hpd_mu"
   ]
  },
  {
   "cell_type": "markdown",
   "id": "allied-eleven",
   "metadata": {},
   "source": [
    "## Method 3"
   ]
  },
  {
   "cell_type": "code",
   "execution_count": 79,
   "id": "significant-right",
   "metadata": {},
   "outputs": [],
   "source": [
    "a = 0.700102 + cases_control\n",
    "b = 1 + size_control\n",
    "samples_control = stats.beta.rvs(a, b, size=100000)\n",
    "a = 0.700102 + cases_treatment\n",
    "b = 1 + size_treatment\n",
    "samples_treatment = stats.beta.rvs(a, b, size=100000)"
   ]
  },
  {
   "cell_type": "code",
   "execution_count": 80,
   "id": "roman-tiffany",
   "metadata": {},
   "outputs": [
    {
     "data": {
      "text/plain": [
       "[(0.9054, 0.9776)]"
      ]
     },
     "execution_count": 80,
     "metadata": {},
     "output_type": "execute_result"
    }
   ],
   "source": [
    "samples = 1 - samples_treatment/samples_control\n",
    "hpd_mu, x_mu, y_mu, modes_mu = hpd_grid(samples, alpha=0.06, roundto=4)\n",
    "hpd_mu"
   ]
  },
  {
   "cell_type": "code",
   "execution_count": 81,
   "id": "hired-thomas",
   "metadata": {},
   "outputs": [
    {
     "data": {
      "text/plain": [
       "(0.8973800956665212, 0.9746006422005179)"
      ]
     },
     "execution_count": 81,
     "metadata": {},
     "output_type": "execute_result"
    }
   ],
   "source": [
    "np.percentile(samples, 2.5), np.percentile(samples, 97.5)"
   ]
  },
  {
   "cell_type": "code",
   "execution_count": 16,
   "id": "approximate-musical",
   "metadata": {},
   "outputs": [],
   "source": []
  },
  {
   "cell_type": "code",
   "execution_count": 11,
   "id": "efficient-resource",
   "metadata": {},
   "outputs": [
    {
     "data": {
      "text/plain": [
       "(0.9056403598673711, 0.9743023113489846)"
      ]
     },
     "execution_count": 11,
     "metadata": {},
     "output_type": "execute_result"
    }
   ],
   "source": [
    "np.percentile(samples, 2.5), np.percentile(samples, 97.5)"
   ]
  },
  {
   "cell_type": "code",
   "execution_count": 49,
   "id": "million-argument",
   "metadata": {},
   "outputs": [
    {
     "data": {
      "text/plain": [
       "(Mean(statistic=0.9452406640957275, minmax=(0.9448928333783991, 0.9455884948130558)),\n",
       " Variance(statistic=0.0003149486004260627, minmax=(0.0003062188310299815, 0.0003236783698221439)),\n",
       " Std_dev(statistic=0.017746791271271063, minmax=(0.017500837812343163, 0.017992744730198962)))"
      ]
     },
     "execution_count": 49,
     "metadata": {},
     "output_type": "execute_result"
    }
   ],
   "source": [
    "stats.bayes_mvs(samples, alpha=0.95)"
   ]
  },
  {
   "cell_type": "code",
   "execution_count": 61,
   "id": "electrical-identification",
   "metadata": {},
   "outputs": [
    {
     "data": {
      "text/plain": [
       "array([0.90966664, 0.97707911])"
      ]
     },
     "execution_count": 61,
     "metadata": {},
     "output_type": "execute_result"
    }
   ],
   "source": [
    "import pymc3\n",
    "pymc3.stats.hpd(samples, hdi_prob=.95)"
   ]
  },
  {
   "cell_type": "code",
   "execution_count": 17,
   "id": "false-emperor",
   "metadata": {},
   "outputs": [
    {
     "data": {
      "text/plain": [
       "0.999279158674047"
      ]
     },
     "execution_count": 17,
     "metadata": {},
     "output_type": "execute_result"
    }
   ],
   "source": [
    "np.percentile(samples_B, 2.5)"
   ]
  },
  {
   "cell_type": "code",
   "execution_count": 7,
   "id": "unlikely-chrome",
   "metadata": {},
   "outputs": [
    {
     "data": {
      "image/png": "[encoded data removed]",
      "text/plain": [
       "<Figure size 432x288 with 1 Axes>"
      ]
     },
     "metadata": {
      "needs_background": "light"
     },
     "output_type": "display_data"
    }
   ],
   "source": [
    "x = np.linspace(0.8, 1, 100)\n",
    "y1 = beta.pdf(x, alpha_A, beta_A)\n",
    "y2 = beta.pdf(x, alpha_B, beta_B)\n",
    "#plt.plot(x, y1, label = \"control: level 40\")\n",
    "plt.plot(x, y2, label = \"test: level 30\")\n",
    "plt.legend()\n",
    "plt.show()"
   ]
  },
  {
   "cell_type": "code",
   "execution_count": 63,
   "id": "numeric-message",
   "metadata": {},
   "outputs": [],
   "source": [
    "import scipy.special as sc\n",
    "import numpy as np\n",
    "\n",
    "def probability_B_beats_A(alpha_A, beta_A, alpha_B, beta_B):\n",
    "    total = 0.\n",
    "    for i in range(alpha_B):\n",
    "        total += np.exp(sc.betaln(alpha_A+i, beta_B+beta_A) - \n",
    "                        np.log(beta_B+i) - sc.betaln(1+i, beta_B) - sc.betaln(alpha_A, beta_A))\n",
    "    return total"
   ]
  },
  {
   "cell_type": "code",
   "execution_count": 64,
   "id": "subject-holder",
   "metadata": {},
   "outputs": [
    {
     "data": {
      "text/plain": [
       "0.6829961198042657"
      ]
     },
     "execution_count": 64,
     "metadata": {},
     "output_type": "execute_result"
    }
   ],
   "source": [
    "probability_B_beats_A(148, 1598 - 148, 148, 1516 - 148)"
   ]
  },
  {
   "cell_type": "code",
   "execution_count": null,
   "id": "expressed-editing",
   "metadata": {},
   "outputs": [],
   "source": []
  }
 ],
 "metadata": {
  "kernelspec": {
   "display_name": "Python 3",
   "language": "python",
   "name": "python3"
  },
  "language_info": {
   "codemirror_mode": {
    "name": "ipython",
    "version": 3
   },
   "file_extension": ".py",
   "mimetype": "text/x-python",
   "name": "python",
   "nbconvert_exporter": "python",
   "pygments_lexer": "ipython3",
   "version": "3.9.1"
  }
 },
 "nbformat": 4,
 "nbformat_minor": 5
}
