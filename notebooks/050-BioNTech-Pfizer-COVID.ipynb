{
 "cells": [
  {
   "cell_type": "markdown",
   "id": "beautiful-assessment",
   "metadata": {},
   "source": [
    "## Safety and Efficacy of the BNT162b2 mRNA Covid-19 Vaccine\n",
    "\n",
    "<https://www.nejm.org/doi/full/10.1056/NEJMoa2034577>"
   ]
  },
  {
   "cell_type": "markdown",
   "id": "incoming-hebrew",
   "metadata": {},
   "source": [
    "<img src=\"https://www.nejm.org/na101/home/literatum/publisher/mms/journals/content/nejm/2020/nejm_2020.383.issue-27/nejmoa2034577/20210201/images/img_xlarge/nejmoa2034577_f4.jpeg\">"
   ]
  },
  {
   "cell_type": "markdown",
   "id": "premium-mounting",
   "metadata": {},
   "source": [
    "<img src=\"../imgs/rct-table2.png\">"
   ]
  },
  {
   "cell_type": "markdown",
   "id": "dominant-banking",
   "metadata": {},
   "source": [
    "__Vaccine efficacy__ was estimated by $100\\times(1−\\textrm{IRR})$, "
   ]
  },
  {
   "cell_type": "markdown",
   "id": "ethical-lesson",
   "metadata": {},
   "source": [
    "$$\\textrm{Vaccine Efficacy} = 100 \\cdot (1 - \\textrm{IRR})$$\n",
    "\n",
    "where IRR is the calculated ratio of confirmed cases of Covid-19 illness per 1000 person-years of follow-up in the active vaccine group to the corresponding illness rate in the placebo group."
   ]
  },
  {
   "cell_type": "markdown",
   "id": "metallic-nudist",
   "metadata": {},
   "source": [
    "$$\\textrm{IRR} = \\frac{\\textrm{Vaccine Incidence Rate}}{\\textrm{Placebo Incidence Rate}}$$"
   ]
  },
  {
   "cell_type": "code",
   "execution_count": 131,
   "id": "periodic-breakdown",
   "metadata": {},
   "outputs": [
    {
     "data": {
      "text/plain": [
       "(0.00045947963930848316, 0.009251327736851122)"
      ]
     },
     "execution_count": 131,
     "metadata": {},
     "output_type": "execute_result"
    }
   ],
   "source": [
    "from scipy import stats\n",
    "import matplotlib.pyplot as plt\n",
    "import numpy as np\n",
    "\n",
    "cases_vaccine, size_vaccine, cases_placebo, size_placebo = 8, 17411, 162, 17511\n",
    "cases_vaccine/size_vaccine, cases_placebo/size_placebo"
   ]
  },
  {
   "cell_type": "markdown",
   "id": "incomplete-proceeding",
   "metadata": {},
   "source": [
    "$$\\textrm{Vaccine Incidence Rate} = \\frac{8}{17411} = 0.000459$$"
   ]
  },
  {
   "cell_type": "markdown",
   "id": "rental-miniature",
   "metadata": {},
   "source": [
    "$$\\textrm{Placebo Incidence Rate} = \\frac{162}{17511} = 0.00925$$"
   ]
  },
  {
   "cell_type": "code",
   "execution_count": 133,
   "id": "editorial-safety",
   "metadata": {},
   "outputs": [
    {
     "data": {
      "text/plain": [
       "95.03336545436368"
      ]
     },
     "execution_count": 133,
     "metadata": {},
     "output_type": "execute_result"
    }
   ],
   "source": [
    "100 * (1-(cases_vaccine/size_vaccine)/(cases_placebo/size_placebo))"
   ]
  },
  {
   "cell_type": "markdown",
   "id": "worst-vaccine",
   "metadata": {},
   "source": [
    "$$\\pi_v = \\textrm{Vaccine Incidence Rate}$$\n",
    "\n",
    "$$\\pi_c = \\textrm{Placebo Incidence Rate}$$"
   ]
  },
  {
   "cell_type": "markdown",
   "id": "interpreted-exhibit",
   "metadata": {},
   "source": [
    "$$\\textrm{Vaccine Efficacy} = 100 \\cdot \\Bigg(1 - \\frac{\\frac{8}{17411}}{\\frac{162}{17511}}\\Bigg) = 95.0$$"
   ]
  },
  {
   "cell_type": "markdown",
   "id": "substantial-introduction",
   "metadata": {},
   "source": [
    "$$(\\textrm{Posterior beliefs}) \\propto (\\textrm{Prior beliefs}) \\cdot (\\textrm{Likelihood of observed data})$$"
   ]
  },
  {
   "cell_type": "code",
   "execution_count": 134,
   "id": "third-allah",
   "metadata": {},
   "outputs": [],
   "source": [
    "thetas = stats.beta.rvs(0.700102 + 8, 1 + 162 + 8, size=1000000) \n",
    "#ves = (1-2*thetas)/(1-thetas)\n",
    "#np.percentile(ves, 2.5), np.percentile(ves, 97.5)"
   ]
  },
  {
   "cell_type": "code",
   "execution_count": 135,
   "id": "unsigned-symposium",
   "metadata": {},
   "outputs": [
    {
     "data": {
      "text/plain": [
       "0.048399438728483735"
      ]
     },
     "execution_count": 135,
     "metadata": {},
     "output_type": "execute_result"
    }
   ],
   "source": [
    "theta_mean = np.mean(thetas)\n",
    "theta_mean\n",
    "#theta_mean = (0.700102 + 8)/(1 + 162)"
   ]
  },
  {
   "cell_type": "code",
   "execution_count": 53,
   "id": "acoustic-interference",
   "metadata": {},
   "outputs": [
    {
     "data": {
      "text/plain": [
       "0.9490907714717061"
      ]
     },
     "execution_count": 53,
     "metadata": {},
     "output_type": "execute_result"
    }
   ],
   "source": [
    "(1-2*theta_mean)/(1-theta_mean)"
   ]
  },
  {
   "cell_type": "code",
   "execution_count": 31,
   "id": "peaceful-daisy",
   "metadata": {},
   "outputs": [
    {
     "data": {
      "text/plain": [
       "0.9466354024758556"
      ]
     },
     "execution_count": 31,
     "metadata": {},
     "output_type": "execute_result"
    }
   ],
   "source": [
    "1 - (theta_mean/(1-theta_mean))"
   ]
  },
  {
   "cell_type": "code",
   "execution_count": 55,
   "id": "coordinated-diving",
   "metadata": {},
   "outputs": [
    {
     "data": {
      "text/plain": [
       "0.9773357990686233"
      ]
     },
     "execution_count": 55,
     "metadata": {},
     "output_type": "execute_result"
    }
   ],
   "source": [
    "theta_1 = np.percentile(thetas, 2.5)\n",
    "(1-2*theta_1)/(1-theta_1)"
   ]
  },
  {
   "cell_type": "code",
   "execution_count": 71,
   "id": "basic-airfare",
   "metadata": {},
   "outputs": [],
   "source": [
    "a1 = 8 \n",
    "a2 = 4\n",
    "q1 = 2/3\n",
    "q2 = 1/3"
   ]
  },
  {
   "cell_type": "code",
   "execution_count": 74,
   "id": "manufactured-bandwidth",
   "metadata": {},
   "outputs": [
    {
     "data": {
      "text/plain": [
       "(6.0, 6.0)"
      ]
     },
     "execution_count": 74,
     "metadata": {},
     "output_type": "execute_result"
    }
   ],
   "source": [
    "(a1/q1)/2, (a2/q2)/2"
   ]
  },
  {
   "cell_type": "code",
   "execution_count": 86,
   "id": "still-license",
   "metadata": {},
   "outputs": [
    {
     "data": {
      "text/plain": [
       "(8.022973981965425, 161.53743361315742)"
      ]
     },
     "execution_count": 86,
     "metadata": {},
     "output_type": "execute_result"
    }
   ],
   "source": [
    "q1 = 17411/(17411 + 17511)\n",
    "q2 = 17511/(17411 + 17511)\n",
    "\n",
    "a1 = 8\n",
    "a2 = 162\n",
    "b1 = a1/(2*q1)\n",
    "b2 = a2/(2*q2)\n",
    "b1, b2"
   ]
  },
  {
   "cell_type": "code",
   "execution_count": 91,
   "id": "motivated-gallery",
   "metadata": {},
   "outputs": [
    {
     "data": {
      "text/plain": [
       "(0.9037945945833996, 0.9762350872821473)"
      ]
     },
     "execution_count": 91,
     "metadata": {},
     "output_type": "execute_result"
    }
   ],
   "source": [
    "thetas = stats.beta.rvs(0.700102 + a1, 1 + a2 , size=1000000)\n",
    "ves = (1-2*thetas)/(1-thetas)\n",
    "np.percentile(ves, 2.5), np.percentile(ves, 97.5)"
   ]
  },
  {
   "cell_type": "code",
   "execution_count": 61,
   "id": "about-ordering",
   "metadata": {},
   "outputs": [],
   "source": [
    "theta_mean = np.mean(theta)"
   ]
  },
  {
   "cell_type": "code",
   "execution_count": 63,
   "id": "played-chest",
   "metadata": {},
   "outputs": [
    {
     "data": {
      "text/plain": [
       "0.949113576357418"
      ]
     },
     "execution_count": 63,
     "metadata": {},
     "output_type": "execute_result"
    }
   ],
   "source": [
    "(1-2*theta_mean)/(1-theta_mean)"
   ]
  },
  {
   "cell_type": "code",
   "execution_count": null,
   "id": "muslim-meter",
   "metadata": {},
   "outputs": [],
   "source": [
    "samples = 1 - samples_vaccine/samples_placebo\n",
    "np.percentile(samples, 2.5), np.percentile(samples, 97.5)"
   ]
  },
  {
   "cell_type": "markdown",
   "id": "willing-salmon",
   "metadata": {},
   "source": [
    "## Participants without evidence of infection"
   ]
  },
  {
   "cell_type": "code",
   "execution_count": 129,
   "id": "charged-increase",
   "metadata": {},
   "outputs": [
    {
     "data": {
      "text/plain": [
       "18165.181244364292"
      ]
     },
     "execution_count": 129,
     "metadata": {},
     "output_type": "execute_result"
    }
   ],
   "source": [
    "sr1 = 2.214\n",
    "sr2 = 2.222\n",
    "\n",
    "18198 *2 * sr1/(sr1 + sr2)"
   ]
  },
  {
   "cell_type": "code",
   "execution_count": 105,
   "id": "working-spider",
   "metadata": {},
   "outputs": [
    {
     "data": {
      "text/plain": [
       "(0.5000428198808858, 0.0015480816328275872, 0.9984552595467301)"
      ]
     },
     "execution_count": 105,
     "metadata": {},
     "output_type": "execute_result"
    }
   ],
   "source": [
    "samples = stats.beta.rvs(0.5, 0.5, size=10000000)\n",
    "np.mean(samples), np.percentile(samples, 2.5), np.percentile(samples, 97.5)"
   ]
  },
  {
   "cell_type": "code",
   "execution_count": null,
   "id": "established-digit",
   "metadata": {},
   "outputs": [],
   "source": []
  },
  {
   "cell_type": "code",
   "execution_count": 102,
   "id": "scheduled-edition",
   "metadata": {},
   "outputs": [
    {
     "data": {
      "text/plain": [
       "0.35"
      ]
     },
     "execution_count": 102,
     "metadata": {},
     "output_type": "execute_result"
    }
   ],
   "source": [
    "x = 0.5* (1 - 0.3)\n",
    "x"
   ]
  },
  {
   "cell_type": "markdown",
   "id": "serious-metallic",
   "metadata": {},
   "source": [
    "a/(1+a) = x\n",
    "(1 + a -1)/(1+a) = x\n",
    "1 - 1/(1+a) = x\n",
    "1/(1+a) = 1 - x\n",
    "1+a = 1/(1-x)\n",
    "a = 1/(1-x) - 1= (1 - 1 + x)/(1-x) = x/(1-x)"
   ]
  },
  {
   "cell_type": "code",
   "execution_count": 114,
   "id": "emotional-institution",
   "metadata": {},
   "outputs": [
    {
     "data": {
      "text/plain": [
       "0.5384615384615383"
      ]
     },
     "execution_count": 114,
     "metadata": {},
     "output_type": "execute_result"
    }
   ],
   "source": [
    "a = 1/(1 - .35) - 1\n",
    "a"
   ]
  },
  {
   "cell_type": "code",
   "execution_count": 119,
   "id": "homeless-vampire",
   "metadata": {},
   "outputs": [
    {
     "data": {
      "text/plain": [
       "0.3499999999999999"
      ]
     },
     "execution_count": 119,
     "metadata": {},
     "output_type": "execute_result"
    }
   ],
   "source": [
    "p = a/(a+1)\n",
    "p"
   ]
  },
  {
   "cell_type": "code",
   "execution_count": 120,
   "id": "logical-revelation",
   "metadata": {},
   "outputs": [
    {
     "data": {
      "text/plain": [
       "0.30000000000000016"
      ]
     },
     "execution_count": 120,
     "metadata": {},
     "output_type": "execute_result"
    }
   ],
   "source": [
    "1 - (p/0.5)"
   ]
  },
  {
   "cell_type": "code",
   "execution_count": 123,
   "id": "human-syndication",
   "metadata": {},
   "outputs": [
    {
     "data": {
      "text/plain": [
       "(0.9083023918081317, 0.9785803597095938)"
      ]
     },
     "execution_count": 123,
     "metadata": {},
     "output_type": "execute_result"
    }
   ],
   "source": [
    "samples_vaccine = stats.beta.rvs(0.02 + 8, 1 + 17411 - 8, size=100000)\n",
    "samples_placebo = stats.beta.rvs(1 + 162, 1 + 17511 - 162, size=100000)\n",
    "\n",
    "samples = 1 - samples_vaccine/samples_placebo\n",
    "np.percentile(samples, 2.5), np.percentile(samples, 97.5)"
   ]
  },
  {
   "cell_type": "code",
   "execution_count": 96,
   "id": "sonic-nudist",
   "metadata": {},
   "outputs": [
    {
     "data": {
      "text/plain": [
       "(0.9041338055345283, 0.9768944567417971)"
      ]
     },
     "execution_count": 96,
     "metadata": {},
     "output_type": "execute_result"
    }
   ],
   "source": [
    "samples_vaccine = stats.beta.rvs(0.5 + 8, 1 + 17411 - 8, size=100000)\n",
    "samples_placebo = stats.beta.rvs(1 + 162, 1 + 17511 - 162, size=100000)\n",
    "\n",
    "samples = 1 - samples_vaccine/samples_placebo\n",
    "np.percentile(samples, 2.5), np.percentile(samples, 97.5)"
   ]
  },
  {
   "cell_type": "code",
   "execution_count": 62,
   "id": "confident-client",
   "metadata": {},
   "outputs": [
    {
     "data": {
      "text/plain": [
       "[(0.9037, 0.9765)]"
      ]
     },
     "execution_count": 62,
     "metadata": {},
     "output_type": "execute_result"
    }
   ],
   "source": [
    "hpd_mu, x_mu, y_mu, modes_mu = hpd_grid(samples, alpha=0.05, roundto=4)\n",
    "hpd_mu"
   ]
  },
  {
   "cell_type": "code",
   "execution_count": 59,
   "id": "great-nothing",
   "metadata": {},
   "outputs": [
    {
     "data": {
      "text/plain": [
       "(0.898786082726379, 0.9729908780738307)"
      ]
     },
     "execution_count": 59,
     "metadata": {},
     "output_type": "execute_result"
    }
   ],
   "source": [
    "samples_vaccine = stats.beta.rvs(0.700102 + 9, 1 + 18559 - 9, size=100000)\n",
    "samples_placebo = stats.beta.rvs(0.700102 + 169, 1 + 18708 - 169, size=100000)\n",
    "\n",
    "samples = 1 - samples_vaccine/samples_placebo\n",
    "np.percentile(samples, 2.5), np.percentile(samples, 97.5)"
   ]
  },
  {
   "cell_type": "code",
   "execution_count": 57,
   "id": "paperback-gather",
   "metadata": {},
   "outputs": [
    {
     "data": {
      "text/plain": [
       "[(0.9072, 0.9794)]"
      ]
     },
     "execution_count": 57,
     "metadata": {},
     "output_type": "execute_result"
    }
   ],
   "source": [
    "hpd_mu, x_mu, y_mu, modes_mu = hpd_grid(samples, alpha=0.05, roundto=4)\n",
    "hpd_mu"
   ]
  },
  {
   "cell_type": "code",
   "execution_count": 49,
   "id": "spare-hanging",
   "metadata": {},
   "outputs": [],
   "source": [
    "a = 0.700102 + cases_treatment\n",
    "b = 1 + size_treatment - cases_treatment\n",
    "samples_treatment = stats.beta.rvs(0.700102 + 8, 1 + 17511, size=100000)"
   ]
  },
  {
   "cell_type": "code",
   "execution_count": 51,
   "id": "roman-tiffany",
   "metadata": {},
   "outputs": [
    {
     "data": {
      "text/plain": [
       "[(0.9089, 0.9797)]"
      ]
     },
     "execution_count": 51,
     "metadata": {},
     "output_type": "execute_result"
    }
   ],
   "source": [
    "samples = 1 - samples_treatment/samples_control\n",
    "hpd_mu, x_mu, y_mu, modes_mu = hpd_grid(samples, alpha=0.05, roundto=4)\n",
    "hpd_mu"
   ]
  },
  {
   "cell_type": "code",
   "execution_count": 52,
   "id": "hired-thomas",
   "metadata": {},
   "outputs": [
    {
     "data": {
      "text/plain": [
       "(0.9040089087947439, 0.9764364829356902)"
      ]
     },
     "execution_count": 52,
     "metadata": {},
     "output_type": "execute_result"
    }
   ],
   "source": [
    "np.percentile(samples, 2.5), np.percentile(samples, 97.5)"
   ]
  },
  {
   "cell_type": "code",
   "execution_count": 9,
   "id": "approximate-musical",
   "metadata": {},
   "outputs": [
    {
     "data": {
      "image/png": "[encoded data removed]",
      "text/plain": [
       "<Figure size 432x288 with 1 Axes>"
      ]
     },
     "metadata": {
      "needs_background": "light"
     },
     "output_type": "display_data"
    }
   ],
   "source": [
    "plt.hist(samples, density=True, bins=50)\n",
    "plt.show()"
   ]
  },
  {
   "cell_type": "code",
   "execution_count": 10,
   "id": "featured-candidate",
   "metadata": {},
   "outputs": [
    {
     "data": {
      "text/plain": [
       "0.9508992936362399"
      ]
     },
     "execution_count": 10,
     "metadata": {},
     "output_type": "execute_result"
    }
   ],
   "source": [
    "coef_control = 1000 * cases_control/size_control\n",
    "coef_treatment = 1000 * cases_treatment/size_treatment\n",
    "coef_control, coef_treatment\n",
    "1 - coef_treatment/coef_control"
   ]
  },
  {
   "cell_type": "code",
   "execution_count": null,
   "id": "lyric-burke",
   "metadata": {},
   "outputs": [],
   "source": []
  },
  {
   "cell_type": "code",
   "execution_count": null,
   "id": "latter-inventory",
   "metadata": {},
   "outputs": [],
   "source": []
  },
  {
   "cell_type": "markdown",
   "id": "allied-basket",
   "metadata": {},
   "source": [
    "* <https://sph.unc.edu/wp-content/uploads/sites/112/2015/07/nciph_ERIC4.pdf>"
   ]
  },
  {
   "cell_type": "markdown",
   "id": "numerical-divorce",
   "metadata": {},
   "source": [
    "## Row two"
   ]
  },
  {
   "cell_type": "code",
   "execution_count": 9,
   "id": "challenging-green",
   "metadata": {},
   "outputs": [
    {
     "data": {
      "text/plain": [
       "0.9463180115486481"
      ]
     },
     "execution_count": 9,
     "metadata": {},
     "output_type": "execute_result"
    }
   ],
   "source": [
    "cases_treatment, size_treatment, cases_control, size_control = 9, 18708, 169, 18559\n",
    "\n",
    "successes_control = size_control - cases_control\n",
    "successes_treatment = size_treatment - cases_treatment\n",
    "\n",
    "1-(cases_treatment/size_control)/(cases_control/size_treatment)"
   ]
  },
  {
   "cell_type": "code",
   "execution_count": 10,
   "id": "experienced-retreat",
   "metadata": {},
   "outputs": [],
   "source": [
    "a = 0.700102 + cases_control\n",
    "b = 1 + size_control\n",
    "samples_control = stats.beta.rvs(a, b, size=100000)\n",
    "a = 0.700102 + cases_treatment\n",
    "b = 1 + size_treatment\n",
    "samples_treatment = stats.beta.rvs(a, b, size=100000)"
   ]
  },
  {
   "cell_type": "code",
   "execution_count": 11,
   "id": "roman-world",
   "metadata": {},
   "outputs": [
    {
     "data": {
      "text/plain": [
       "[(0.9062, 0.9758)]"
      ]
     },
     "execution_count": 11,
     "metadata": {},
     "output_type": "execute_result"
    }
   ],
   "source": [
    "samples = 1 - samples_treatment/samples_control\n",
    "hpd_mu, x_mu, y_mu, modes_mu = hpd_grid(samples, alpha=0.06, roundto=4)\n",
    "hpd_mu"
   ]
  },
  {
   "cell_type": "code",
   "execution_count": 12,
   "id": "arctic-community",
   "metadata": {},
   "outputs": [
    {
     "data": {
      "text/plain": [
       "(0.8990384002144081, 0.9732483098844845)"
      ]
     },
     "execution_count": 12,
     "metadata": {},
     "output_type": "execute_result"
    }
   ],
   "source": [
    "np.percentile(samples, 2.5), np.percentile(samples, 97.5)"
   ]
  },
  {
   "cell_type": "markdown",
   "id": "unnecessary-cocktail",
   "metadata": {},
   "source": [
    "## Subgroup analysis\n",
    "\n",
    "It uses __Clopper–Pearson interval__\n",
    "\n",
    "<https://en.wikipedia.org/wiki/Binomial_proportion_confidence_interval>"
   ]
  },
  {
   "cell_type": "markdown",
   "id": "macro-apparatus",
   "metadata": {},
   "source": [
    "<img src=\"../imgs/rct-table3.png\">"
   ]
  },
  {
   "cell_type": "code",
   "execution_count": 27,
   "id": "surprised-worth",
   "metadata": {},
   "outputs": [
    {
     "data": {
      "text/plain": [
       "0.9563958867535489"
      ]
     },
     "execution_count": 27,
     "metadata": {},
     "output_type": "execute_result"
    }
   ],
   "source": [
    "cases_treatment, size_treatment, cases_control, size_control = 5, 9897, 114, 9955\n",
    "\n",
    "1-(cases_treatment/size_control)/(cases_control/size_treatment)"
   ]
  },
  {
   "cell_type": "code",
   "execution_count": 32,
   "id": "waiting-ozone",
   "metadata": {},
   "outputs": [
    {
     "data": {
      "text/plain": [
       "(0.8976378605646331, 0.9822013239447627)"
      ]
     },
     "execution_count": 32,
     "metadata": {},
     "output_type": "execute_result"
    }
   ],
   "source": [
    "a = 0.700102 + cases_control\n",
    "b = 1 + size_control\n",
    "samples_control = stats.beta.rvs(a, b, size=100000)\n",
    "a = 0.700102 + cases_treatment\n",
    "b = 1 + size_treatment\n",
    "samples_treatment = stats.beta.rvs(a, b, size=100000)\n",
    "\n",
    "samples = 1 - samples_treatment/samples_control\n",
    "\n",
    "np.percentile(samples, 2.5), np.percentile(samples, 97.5)"
   ]
  },
  {
   "cell_type": "code",
   "execution_count": 35,
   "id": "mobile-equilibrium",
   "metadata": {},
   "outputs": [
    {
     "data": {
      "text/plain": [
       "(0.9166742539775998, 0.9861670804860104)"
      ]
     },
     "execution_count": 35,
     "metadata": {},
     "output_type": "execute_result"
    }
   ],
   "source": [
    "samples = 1 - stats.beta.rvs(cases_treatment, cases_control + 1, size=100000)\n",
    "np.percentile(samples, 2.5), np.percentile(samples, 97.5)"
   ]
  },
  {
   "cell_type": "code",
   "execution_count": 36,
   "id": "seeing-floating",
   "metadata": {},
   "outputs": [
    {
     "data": {
      "text/plain": [
       "(0.9045008296688809, 0.9814486432862337)"
      ]
     },
     "execution_count": 36,
     "metadata": {},
     "output_type": "execute_result"
    }
   ],
   "source": [
    "samples = 1 - stats.beta.rvs(cases_treatment + 1, cases_control, size=100000)\n",
    "np.percentile(samples, 2.5), np.percentile(samples, 97.5)"
   ]
  },
  {
   "cell_type": "code",
   "execution_count": 13,
   "id": "comfortable-alert",
   "metadata": {},
   "outputs": [
    {
     "data": {
      "text/plain": [
       "(7.864046973803071, 7.880738073807381)"
      ]
     },
     "execution_count": 13,
     "metadata": {},
     "output_type": "execute_result"
    }
   ],
   "source": [
    "\n",
    "17411 / 2214 , 17511/2222\n"
   ]
  },
  {
   "cell_type": "code",
   "execution_count": null,
   "id": "trying-silence",
   "metadata": {},
   "outputs": [],
   "source": []
  }
 ],
 "metadata": {
  "kernelspec": {
   "display_name": "Python 3",
   "language": "python",
   "name": "python3"
  },
  "language_info": {
   "codemirror_mode": {
    "name": "ipython",
    "version": 3
   },
   "file_extension": ".py",
   "mimetype": "text/x-python",
   "name": "python",
   "nbconvert_exporter": "python",
   "pygments_lexer": "ipython3",
   "version": "3.9.1"
  }
 },
 "nbformat": 4,
 "nbformat_minor": 5
}
