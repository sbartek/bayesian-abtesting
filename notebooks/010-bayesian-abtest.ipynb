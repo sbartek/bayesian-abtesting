{
 "cells": [
  {
   "cell_type": "markdown",
   "id": "adaptive-jewelry",
   "metadata": {
    "slideshow": {
     "slide_type": "slide"
    }
   },
   "source": [
    "# Bayesian A/B Testing\n",
    "\n",
    "## ALGO, Jan 2021\n",
    "\n",
    "by Bartek"
   ]
  },
  {
   "cell_type": "markdown",
   "id": "opponent-serbia",
   "metadata": {
    "slideshow": {
     "slide_type": "subslide"
    }
   },
   "source": [
    "## Bayesian A/B Testing: Plan"
   ]
  },
  {
   "cell_type": "markdown",
   "id": "humanitarian-spread",
   "metadata": {
    "slideshow": {
     "slide_type": "fragment"
    }
   },
   "source": [
    "#### 1. Few comments on Clinical Trials"
   ]
  },
  {
   "cell_type": "markdown",
   "id": "considered-modeling",
   "metadata": {
    "slideshow": {
     "slide_type": "fragment"
    }
   },
   "source": [
    "#### 2. Null Hypothesis Testing"
   ]
  },
  {
   "cell_type": "markdown",
   "id": "distributed-delivery",
   "metadata": {
    "slideshow": {
     "slide_type": "fragment"
    }
   },
   "source": [
    "#### 3. Frequentist Example"
   ]
  },
  {
   "cell_type": "markdown",
   "id": "round-laundry",
   "metadata": {
    "slideshow": {
     "slide_type": "fragment"
    }
   },
   "source": [
    "#### 4. Bayesian Example\n",
    "\n",
    "* Direct calculation\n",
    "* Using Metropolis algorithm with `pymc3`"
   ]
  },
  {
   "cell_type": "markdown",
   "id": "welcome-warrior",
   "metadata": {
    "slideshow": {
     "slide_type": "slide"
    }
   },
   "source": [
    "## A/B Testing, Clinical Trials, Randomized Controlled Trials, Hypothesis Testing"
   ]
  },
  {
   "cell_type": "markdown",
   "id": "adaptive-fusion",
   "metadata": {
    "slideshow": {
     "slide_type": "fragment"
    }
   },
   "source": [
    "<img src=\"imgs/JamesLind.jpg\" align=\"center\">"
   ]
  },
  {
   "cell_type": "markdown",
   "id": "concrete-madagascar",
   "metadata": {
    "slideshow": {
     "slide_type": "subslide"
    }
   },
   "source": [
    "### James Lind: Scurvy\n",
    "\n",
    "Lind: Scurvy is due __putrefaction__, thus it can be helped by acids. "
   ]
  },
  {
   "cell_type": "markdown",
   "id": "adult-faith",
   "metadata": {
    "slideshow": {
     "slide_type": "fragment"
    }
   },
   "source": [
    "#### Expermients\n",
    "\n",
    "Lind divided twelve scorbutic sailors into the following six groups of two.\n",
    "1. Group one: was given a quart of cider daily, \n",
    "2. Group two: twenty-five drops of elixir of vitriol (sulfuric acid), \n",
    "3. Group three: six spoonfuls of vinegar, \n",
    "4. Group four: half a pint of seawater, \n",
    "5. Group five: received two oranges and one lemon,\n",
    "6. Group six: a spicy paste plus a drink of barley water.\n",
    "\n",
    "In addition, they all received the same diet."
   ]
  },
  {
   "cell_type": "markdown",
   "id": "norwegian-custom",
   "metadata": {
    "slideshow": {
     "slide_type": "fragment"
    }
   },
   "source": [
    "#### Results\n",
    "\n",
    "The treatment of __group five__ stopped after six days when they ran out of fruit, but by that time one sailor was fit for duty while the other had almost recovered. \n",
    "\n",
    "Apart from that, only __group one__ also showed some effect of its treatment."
   ]
  },
  {
   "cell_type": "markdown",
   "id": "spiritual-digest",
   "metadata": {
    "slideshow": {
     "slide_type": "subslide"
    }
   },
   "source": [
    "## Null Hypothesis Testing"
   ]
  },
  {
   "cell_type": "markdown",
   "id": "immune-worship",
   "metadata": {
    "slideshow": {
     "slide_type": "fragment"
    }
   },
   "source": [
    "<img src=\"imgs/null_hypothesis.png\" align=\"center\">"
   ]
  },
  {
   "cell_type": "markdown",
   "id": "encouraging-crest",
   "metadata": {
    "slideshow": {
     "slide_type": "subslide"
    }
   },
   "source": [
    "#### Null Hypothesis Testing (Steps)\n",
    "\n",
    "* There is an initial research hypothesis of which the truth is unknown."
   ]
  },
  {
   "cell_type": "markdown",
   "id": "municipal-marathon",
   "metadata": {
    "slideshow": {
     "slide_type": "fragment"
    }
   },
   "source": [
    "* State the relevant __null hypotheses__ $H_0$ and __alternative hypotheses__ $H_1$."
   ]
  },
  {
   "cell_type": "markdown",
   "id": "unexpected-category",
   "metadata": {
    "slideshow": {
     "slide_type": "fragment"
    }
   },
   "source": [
    "* State the __statistical assumptions__ that are made about the sample in doing the test."
   ]
  },
  {
   "cell_type": "markdown",
   "id": "restricted-oxford",
   "metadata": {
    "slideshow": {
     "slide_type": "fragment"
    }
   },
   "source": [
    "* Decide which test is appropriate, and state the relevant __test statistic__."
   ]
  },
  {
   "cell_type": "markdown",
   "id": "involved-bullet",
   "metadata": {
    "slideshow": {
     "slide_type": "fragment"
    }
   },
   "source": [
    "* Derive the distribution of _T_, the test statistic under the null hypothesis from the assumptions."
   ]
  },
  {
   "cell_type": "markdown",
   "id": "common-committee",
   "metadata": {
    "slideshow": {
     "slide_type": "fragment"
    }
   },
   "source": [
    "* Select a significance level $\\alpha$, a probability threshold below which the null hypothesis will be rejected. "
   ]
  },
  {
   "cell_type": "markdown",
   "id": "dying-productivity",
   "metadata": {
    "slideshow": {
     "slide_type": "fragment"
    }
   },
   "source": [
    "* The distribution of the test statistic under the null hypothesis partitions the possible values of _T_ into those for which the null hypothesis is rejected—the so-called __critical region__—and those for which it is not."
   ]
  },
  {
   "cell_type": "markdown",
   "id": "supported-consent",
   "metadata": {
    "slideshow": {
     "slide_type": "fragment"
    }
   },
   "source": [
    "* Compute from the observations the value $t_\\textrm{obs}$ of the test statistic _T_."
   ]
  },
  {
   "cell_type": "markdown",
   "id": "brief-legislature",
   "metadata": {
    "slideshow": {
     "slide_type": "fragment"
    }
   },
   "source": [
    "* Decide to either reject the null hypothesis in favor of the alternative or not reject it. The decision rule is to reject the null hypothesis $H_0$ if the observed value $t_\\textrm{obs}$ is in the critical region, and to accept or \"fail to reject\" the hypothesis otherwise."
   ]
  },
  {
   "cell_type": "markdown",
   "id": "adjusted-purse",
   "metadata": {
    "slideshow": {
     "slide_type": "subslide"
    }
   },
   "source": [
    "### Type I and Type II errors\n",
    "\n",
    "#### Type I error\n",
    "\n",
    "The rejection of a true null hypothesis as the result of a test procedure. "
   ]
  },
  {
   "cell_type": "markdown",
   "id": "incoming-haiti",
   "metadata": {
    "slideshow": {
     "slide_type": "fragment"
    }
   },
   "source": [
    "#### Type II error\n",
    "\n",
    "The failure to reject a false null hypothesis as the result of a test procedure."
   ]
  },
  {
   "cell_type": "markdown",
   "id": "proved-chance",
   "metadata": {
    "slideshow": {
     "slide_type": "fragment"
    }
   },
   "source": [
    "<img src=\"imgs/sn.png\" align=\"center\">"
   ]
  },
  {
   "cell_type": "markdown",
   "id": "handed-playback",
   "metadata": {
    "slideshow": {
     "slide_type": "slide"
    }
   },
   "source": [
    "## Example: Cookie Cats\n",
    "\n",
    "\n",
    "\n",
    "<https://www.kaggle.com/yufengsui/mobile-games-ab-testing>\n"
   ]
  },
  {
   "cell_type": "code",
   "execution_count": 1,
   "id": "mechanical-conflict",
   "metadata": {
    "slideshow": {
     "slide_type": "subslide"
    }
   },
   "outputs": [
    {
     "data": {
      "image/jpeg": "[encoded data removed]",
      "text/html": [
       "\n",
       "        <iframe\n",
       "            width=\"900\"\n",
       "            height=\"600\"\n",
       "            src=\"https://www.youtube.com/embed/GaP5f0jVTWE\"\n",
       "            frameborder=\"0\"\n",
       "            allowfullscreen\n",
       "        ></iframe>\n",
       "        "
      ],
      "text/plain": [
       "<IPython.lib.display.YouTubeVideo at 0x106ac8b80>"
      ]
     },
     "execution_count": 1,
     "metadata": {},
     "output_type": "execute_result"
    }
   ],
   "source": [
    "from IPython.display import YouTubeVideo\n",
    "\n",
    "YouTubeVideo('GaP5f0jVTWE', width=900, height=600)"
   ]
  },
  {
   "cell_type": "markdown",
   "id": "regulated-reminder",
   "metadata": {
    "slideshow": {
     "slide_type": "subslide"
    }
   },
   "source": [
    "### Question: where we should a put gate (blocker)\n",
    "\n",
    "\n",
    "<img src=\"imgs/cc_gates.png\" align=\"center\">"
   ]
  },
  {
   "cell_type": "markdown",
   "id": "premier-deployment",
   "metadata": {
    "slideshow": {
     "slide_type": "subslide"
    }
   },
   "source": [
    "#### Initial hypothesis\n",
    "\n",
    "More players come back and play 7 days after installing if the gate is located at level 30?"
   ]
  },
  {
   "cell_type": "markdown",
   "id": "based-suite",
   "metadata": {
    "slideshow": {
     "slide_type": "fragment"
    }
   },
   "source": [
    "* Group A: blocker at level 30\n",
    "* Group B: blocker at leval 40"
   ]
  },
  {
   "cell_type": "markdown",
   "id": "geographic-belly",
   "metadata": {
    "slideshow": {
     "slide_type": "subslide"
    }
   },
   "source": [
    "### Dataset"
   ]
  },
  {
   "cell_type": "code",
   "execution_count": 2,
   "id": "pleasant-medicare",
   "metadata": {
    "slideshow": {
     "slide_type": "fragment"
    }
   },
   "outputs": [
    {
     "data": {
      "text/html": [
       "<div>\n",
       "<style scoped>\n",
       "    .dataframe tbody tr th:only-of-type {\n",
       "        vertical-align: middle;\n",
       "    }\n",
       "\n",
       "    .dataframe tbody tr th {\n",
       "        vertical-align: top;\n",
       "    }\n",
       "\n",
       "    .dataframe thead th {\n",
       "        text-align: right;\n",
       "    }\n",
       "</style>\n",
       "<table border=\"1\" class=\"dataframe\">\n",
       "  <thead>\n",
       "    <tr style=\"text-align: right;\">\n",
       "      <th></th>\n",
       "      <th>userid</th>\n",
       "      <th>version</th>\n",
       "      <th>sum_gamerounds</th>\n",
       "      <th>retention_1</th>\n",
       "      <th>retention_7</th>\n",
       "    </tr>\n",
       "  </thead>\n",
       "  <tbody>\n",
       "    <tr>\n",
       "      <th>0</th>\n",
       "      <td>116</td>\n",
       "      <td>gate_30</td>\n",
       "      <td>3</td>\n",
       "      <td>False</td>\n",
       "      <td>False</td>\n",
       "    </tr>\n",
       "    <tr>\n",
       "      <th>1</th>\n",
       "      <td>337</td>\n",
       "      <td>gate_30</td>\n",
       "      <td>38</td>\n",
       "      <td>True</td>\n",
       "      <td>False</td>\n",
       "    </tr>\n",
       "    <tr>\n",
       "      <th>2</th>\n",
       "      <td>377</td>\n",
       "      <td>gate_40</td>\n",
       "      <td>165</td>\n",
       "      <td>True</td>\n",
       "      <td>False</td>\n",
       "    </tr>\n",
       "    <tr>\n",
       "      <th>3</th>\n",
       "      <td>483</td>\n",
       "      <td>gate_40</td>\n",
       "      <td>1</td>\n",
       "      <td>False</td>\n",
       "      <td>False</td>\n",
       "    </tr>\n",
       "    <tr>\n",
       "      <th>4</th>\n",
       "      <td>488</td>\n",
       "      <td>gate_40</td>\n",
       "      <td>179</td>\n",
       "      <td>True</td>\n",
       "      <td>True</td>\n",
       "    </tr>\n",
       "  </tbody>\n",
       "</table>\n",
       "</div>"
      ],
      "text/plain": [
       "   userid  version  sum_gamerounds  retention_1  retention_7\n",
       "0     116  gate_30               3        False        False\n",
       "1     337  gate_30              38         True        False\n",
       "2     377  gate_40             165         True        False\n",
       "3     483  gate_40               1        False        False\n",
       "4     488  gate_40             179         True         True"
      ]
     },
     "execution_count": 2,
     "metadata": {},
     "output_type": "execute_result"
    }
   ],
   "source": [
    "import pandas as pd\n",
    "\n",
    "df = pd.read_csv('../data/cookie_cats.csv')\n",
    "df.head()"
   ]
  },
  {
   "cell_type": "code",
   "execution_count": 3,
   "id": "disabled-nowhere",
   "metadata": {
    "slideshow": {
     "slide_type": "fragment"
    }
   },
   "outputs": [
    {
     "data": {
      "text/html": [
       "<div>\n",
       "<style scoped>\n",
       "    .dataframe tbody tr th:only-of-type {\n",
       "        vertical-align: middle;\n",
       "    }\n",
       "\n",
       "    .dataframe tbody tr th {\n",
       "        vertical-align: top;\n",
       "    }\n",
       "\n",
       "    .dataframe thead th {\n",
       "        text-align: right;\n",
       "    }\n",
       "</style>\n",
       "<table border=\"1\" class=\"dataframe\">\n",
       "  <thead>\n",
       "    <tr style=\"text-align: right;\">\n",
       "      <th></th>\n",
       "      <th>version</th>\n",
       "      <th>userid</th>\n",
       "      <th>sum_gamerounds</th>\n",
       "      <th>retention_1</th>\n",
       "      <th>retention_7</th>\n",
       "      <th>avg_gamerounds</th>\n",
       "      <th>norm_retention_1</th>\n",
       "      <th>norm_retention_7</th>\n",
       "    </tr>\n",
       "  </thead>\n",
       "  <tbody>\n",
       "    <tr>\n",
       "      <th>0</th>\n",
       "      <td>gate_30</td>\n",
       "      <td>44700</td>\n",
       "      <td>2344795</td>\n",
       "      <td>20034</td>\n",
       "      <td>8502</td>\n",
       "      <td>52.456264</td>\n",
       "      <td>0.448188</td>\n",
       "      <td>0.190201</td>\n",
       "    </tr>\n",
       "    <tr>\n",
       "      <th>1</th>\n",
       "      <td>gate_40</td>\n",
       "      <td>45489</td>\n",
       "      <td>2333530</td>\n",
       "      <td>20119</td>\n",
       "      <td>8279</td>\n",
       "      <td>51.298776</td>\n",
       "      <td>0.442283</td>\n",
       "      <td>0.182000</td>\n",
       "    </tr>\n",
       "  </tbody>\n",
       "</table>\n",
       "</div>"
      ],
      "text/plain": [
       "   version  userid  sum_gamerounds  retention_1  retention_7  avg_gamerounds  \\\n",
       "0  gate_30   44700         2344795        20034         8502       52.456264   \n",
       "1  gate_40   45489         2333530        20119         8279       51.298776   \n",
       "\n",
       "   norm_retention_1  norm_retention_7  \n",
       "0          0.448188          0.190201  \n",
       "1          0.442283          0.182000  "
      ]
     },
     "execution_count": 3,
     "metadata": {},
     "output_type": "execute_result"
    }
   ],
   "source": [
    "df_agg = df.groupby('version', as_index=False).agg({\n",
    "    'userid': 'count', \n",
    "    'sum_gamerounds': 'sum', \n",
    "    'retention_1': 'sum',\n",
    "    'retention_7': 'sum'\n",
    "})\n",
    "df_agg['avg_gamerounds'] = df_agg['sum_gamerounds'] / df_agg['userid']\n",
    "df_agg['norm_retention_1'] = df_agg['retention_1'] / df_agg['userid']\n",
    "df_agg['norm_retention_7'] = df_agg['retention_7'] / df_agg['userid']\n",
    "df_agg"
   ]
  },
  {
   "cell_type": "markdown",
   "id": "recreational-operation",
   "metadata": {
    "slideshow": {
     "slide_type": "slide"
    }
   },
   "source": [
    "### Two-proportion z-test\n",
    "\n",
    "pooled for $H_0\\colon p_1=p_2$\n",
    "\n",
    "$$ z=\\frac{(\\hat{p}_1 - \\hat{p}_2)}{\\sqrt{\\hat{p}(1 - \\hat{p})(\\frac{1}{n_1} + \\frac{1}{n_2})}}$$\n",
    "\n",
    "where $\\hat{p}=\\frac{x_1 + x_2}{n_1 + n_2}$."
   ]
  },
  {
   "cell_type": "code",
   "execution_count": 4,
   "id": "strategic-reception",
   "metadata": {
    "slideshow": {
     "slide_type": "fragment"
    }
   },
   "outputs": [],
   "source": [
    "import math\n",
    "\n",
    "def pooled_two_proportions_zscore(size_control, size_treatment, successes_control, successes_treatment):\n",
    "    p_control, p_treatment = successes_control/size_control, successes_treatment/size_treatment\n",
    "    \n",
    "    p_pooled = (successes_control + successes_treatment) / (size_control + size_treatment)\n",
    "    sd_pooled = math.sqrt(p_pooled * (1-p_pooled))\n",
    "    se_pooled = sd_pooled * math.sqrt(1/size_control + 1/size_treatment)\n",
    "    z_score = (p_treatment - p_control) / se_pooled\n",
    "    return z_score"
   ]
  },
  {
   "cell_type": "markdown",
   "id": "infinite-failing",
   "metadata": {
    "slideshow": {
     "slide_type": "subslide"
    }
   },
   "source": [
    "### p-value"
   ]
  },
  {
   "cell_type": "markdown",
   "id": "central-pharmacy",
   "metadata": {
    "slideshow": {
     "slide_type": "fragment"
    }
   },
   "source": [
    "<img src=\"imgs/sn.png\" align=\"center\">"
   ]
  },
  {
   "cell_type": "markdown",
   "id": "naughty-quarter",
   "metadata": {
    "slideshow": {
     "slide_type": "subslide"
    }
   },
   "source": [
    "### p-value"
   ]
  },
  {
   "cell_type": "code",
   "execution_count": 5,
   "id": "waiting-fitness",
   "metadata": {
    "slideshow": {
     "slide_type": "fragment"
    }
   },
   "outputs": [],
   "source": [
    "from scipy import stats\n",
    "\n",
    "def p_value(z_score, side=1):\n",
    "    \"\"\"\n",
    "    side: 0  if null hypotesis successes_control == successes_treatment, \n",
    "          1  if null hypothesis successes_control >= successes_treatment\n",
    "          -1 if null hypothesis successes_control <= successes_treatment\n",
    "    \"\"\"\n",
    "    cum_dist = stats.norm.cdf(z_score)\n",
    "    if side == 1:\n",
    "        return 1 - cum_dist\n",
    "    if side == -1:\n",
    "        return cum_dist\n",
    "    return 2 * min(1 - cum_dist, cum_dist) \n",
    "\n",
    "def get_p_value(size_control, size_treatment, successes_control, successes_treatment, side=0):\n",
    "    z_score = pooled_two_proportions_zscore(size_control, size_treatment, successes_control, successes_treatment)\n",
    "    return p_value(z_score, side)"
   ]
  },
  {
   "cell_type": "markdown",
   "id": "european-cassette",
   "metadata": {
    "slideshow": {
     "slide_type": "subslide"
    }
   },
   "source": [
    "### 7-day retention"
   ]
  },
  {
   "cell_type": "code",
   "execution_count": 14,
   "id": "historic-substitute",
   "metadata": {
    "slideshow": {
     "slide_type": "fragment"
    }
   },
   "outputs": [],
   "source": [
    "# Gate at level 40\n",
    "size_control = 45489\n",
    "successes_control = 8279\n",
    "\n",
    "# Gate at level 30\n",
    "size_treatment = 44700\n",
    "successes_treatment = 8502"
   ]
  },
  {
   "cell_type": "code",
   "execution_count": 6,
   "id": "impressive-robert",
   "metadata": {
    "slideshow": {
     "slide_type": "fragment"
    }
   },
   "outputs": [
    {
     "data": {
      "text/plain": [
       "0.0015542499756142636"
      ]
     },
     "execution_count": 6,
     "metadata": {},
     "output_type": "execute_result"
    }
   ],
   "source": [
    "get_p_value(size_control, size_treatment, successes_control, successes_treatment, side=0)"
   ]
  },
  {
   "cell_type": "markdown",
   "id": "atmospheric-central",
   "metadata": {
    "slideshow": {
     "slide_type": "slide"
    }
   },
   "source": [
    "## Bayesian approach"
   ]
  },
  {
   "cell_type": "markdown",
   "id": "manual-trauma",
   "metadata": {
    "slideshow": {
     "slide_type": "fragment"
    }
   },
   "source": [
    "<img src=\"imgs/frequentists_vs_bayesians_2x.png\" align=\"center\">"
   ]
  },
  {
   "cell_type": "markdown",
   "id": "exciting-editing",
   "metadata": {
    "slideshow": {
     "slide_type": "subslide"
    }
   },
   "source": [
    "## Bayesian approach (steps)\n",
    "\n",
    "* There is an initial research hypothesis of which the truth is unknown."
   ]
  },
  {
   "cell_type": "markdown",
   "id": "english-chuck",
   "metadata": {
    "slideshow": {
     "slide_type": "fragment"
    }
   },
   "source": [
    "* State the __statistical assumptions__ that are made about the sample in doing the test and the metrics $m_A$ and $m_B$ we compare."
   ]
  },
  {
   "cell_type": "markdown",
   "id": "undefined-knife",
   "metadata": {
    "slideshow": {
     "slide_type": "fragment"
    }
   },
   "source": [
    "* Derive the distribution of $m_A$ and $m_B$."
   ]
  },
  {
   "cell_type": "markdown",
   "id": "random-version",
   "metadata": {
    "slideshow": {
     "slide_type": "fragment"
    }
   },
   "source": [
    "* Compute from the observations the probability $\\mathrm{Pr}(m_A > m_B)$."
   ]
  },
  {
   "cell_type": "markdown",
   "id": "accredited-layer",
   "metadata": {
    "slideshow": {
     "slide_type": "subslide"
    }
   },
   "source": [
    "### Example: 7 day retention, which distribution?"
   ]
  },
  {
   "cell_type": "markdown",
   "id": "distant-executive",
   "metadata": {
    "slideshow": {
     "slide_type": "fragment"
    }
   },
   "source": [
    "$$\n",
    "x_i | p \\sim \\mathrm{Bernoulli}(p) \\\\\n",
    "p \\sim \\mathrm{Beta}(\\alpha,\\beta) \n",
    "$$"
   ]
  },
  {
   "cell_type": "markdown",
   "id": "sixth-opportunity",
   "metadata": {
    "slideshow": {
     "slide_type": "fragment"
    }
   },
   "source": [
    "$\n",
    "\\mathrm{Beta}(\\alpha,\\beta)(p)\n",
    "    = \\frac{p^{\\alpha-1} (1-p)^{\\beta-1}}{\\mathrm{B}(\\alpha,\\beta)} \\quad \\text{for } 0\\le p\\le 1,\n",
    "$\n",
    "\n",
    "where $\\mathrm{B}(\\alpha,\\beta) = \\frac{\\Gamma(\\alpha)\\Gamma(\\beta)}{\\Gamma(\\alpha + \\beta)}$\n",
    "\n",
    "and $\\Gamma(x) = \\int_0^\\infty t^{x-1} e^{-t}\\,dt, x > 0$. In particular, $\\Gamma(n) = (n-1)!$"
   ]
  },
  {
   "cell_type": "markdown",
   "id": "portuguese-intermediate",
   "metadata": {
    "slideshow": {
     "slide_type": "subslide"
    }
   },
   "source": [
    "## Conjugate prior probability for Bernoulli\n",
    "\n",
    "The __beta distribution__ is the conjugate prior probability distribution for the Bernoulli, binomial and geometric.\n"
   ]
  },
  {
   "cell_type": "markdown",
   "id": "saving-bowling",
   "metadata": {
    "slideshow": {
     "slide_type": "fragment"
    }
   },
   "source": [
    "${\\rm Pr}(p=x) = {x^{\\alpha-1}(1-x)^{\\beta-1} \\over \\mathrm{B}(\\alpha,\\beta)}$\n",
    "\n",
    "${\\rm Pr}(s, f \\mid p=x) = {s+f \\choose s} x^s(1-x)^f$\n",
    "\n",
    "${\\rm Pr}(p=x \\mid s,f) = \\frac{{\\rm Pr}(s, f \\mid x){\\rm Pr}(x)}{\\int {\\rm Pr}(s, f \\mid y){\\rm Pr}(y)dy}$\n",
    "\n",
    "$\\,\\,\\,\\,\\, = {{{s+f \\choose s} x^{s+\\alpha-1}(1-x)^{f+\\beta-1} / \\mathrm{B}(\\alpha,\\beta)} \\over \\int_{y=0}^1 \\left({s+f \\choose s} y^{s+\\alpha-1}(1-y)^{f+\\beta-1} / \\mathrm{B}(\\alpha,\\beta)\\right) dy}$\n",
    "\n",
    "$\\,\\,\\,\\,\\, = {x^{s+\\alpha-1}(1-x)^{f+\\beta-1} \\over \\mathrm{B}(s+\\alpha,f+\\beta)}.$"
   ]
  },
  {
   "cell_type": "markdown",
   "id": "automotive-portugal",
   "metadata": {
    "slideshow": {
     "slide_type": "subslide"
    }
   },
   "source": [
    "### Posterior betas for the experiment"
   ]
  },
  {
   "cell_type": "markdown",
   "id": "external-magic",
   "metadata": {
    "slideshow": {
     "slide_type": "fragment"
    }
   },
   "source": [
    "Let choose the prior distribution for $p_A, p_B \\sim {\\rm Beta}(1, 1)$ \n",
    "\n",
    "Then posterior distributions are:\n",
    "\n",
    "$ p_A \\sim {\\rm Beta}(\\alpha_A, \\beta_A)$, where $\\alpha_A = 1 + s_A$ and $\\beta_B = 1 + f_A$ \n",
    "\n",
    "$ p_B \\sim {\\rm Beta}(\\alpha_B, \\beta_B)$, where $\\alpha_B = 1 + s_B$ and $\\beta_B = 1 + f_B$"
   ]
  },
  {
   "cell_type": "code",
   "execution_count": 7,
   "id": "marine-synthetic",
   "metadata": {
    "slideshow": {
     "slide_type": "subslide"
    }
   },
   "outputs": [
    {
     "data": {
      "image/png": "[encoded data removed]",
      "text/plain": [
       "<Figure size 432x288 with 1 Axes>"
      ]
     },
     "metadata": {
      "needs_background": "light"
     },
     "output_type": "display_data"
    }
   ],
   "source": [
    "from scipy.stats import beta\n",
    "import matplotlib.pyplot as plt\n",
    "import numpy as np\n",
    "\n",
    "size_control = 45489\n",
    "size_treatment = 44700\n",
    "successes_control = 8279 \n",
    "successes_treatment = 8502\n",
    "\n",
    "alpha_A = 1 + successes_control\n",
    "beta_A = 1 + size_control - successes_control\n",
    "alpha_B = 1 + successes_treatment\n",
    "beta_B = 1 + size_treatment - successes_treatment\n",
    "\n",
    "x = np.linspace(0.15, 0.25, 100)\n",
    "y1 = beta.pdf(x, alpha_A, beta_A)\n",
    "y2 = beta.pdf(x, alpha_B, beta_B)\n",
    "plt.plot(x, y1, label = \"control: level 40\")\n",
    "plt.plot(x, y2, label = \"test: level 30\")\n",
    "plt.legend()\n",
    "plt.show()"
   ]
  },
  {
   "cell_type": "markdown",
   "id": "assisted-carry",
   "metadata": {
    "slideshow": {
     "slide_type": "subslide"
    }
   },
   "source": [
    "### Probability"
   ]
  },
  {
   "cell_type": "markdown",
   "id": "silent-street",
   "metadata": {
    "slideshow": {
     "slide_type": "fragment"
    }
   },
   "source": [
    "$$\n",
    "{\\rm Pr}(p_B > p_A) = \\int_0^1 \\int_{p_A}^1 \\frac{p_A^{\\alpha_A-1}(1-p_A)^{\\beta_A-1}}{B(\\alpha_A, \\beta_A)} \\frac{{p_B}^{\\alpha_B-1}(1-p_B)^{\\beta_B-1}}{B(\\alpha_B, \\beta_B)} dp_B dp_A\n",
    "$$"
   ]
  },
  {
   "cell_type": "markdown",
   "id": "banned-fashion",
   "metadata": {
    "slideshow": {
     "slide_type": "fragment"
    }
   },
   "source": [
    "$$\n",
    "{\\rm Pr}(p_B > p_A) = 1 - \\int_0^1 \\frac{p_A^{\\alpha_A-1}(1-p_A)^{\\beta_A-1}}{B(\\alpha_A,\\beta_A)}I_{p_A}(\\alpha_B, \\beta_B)dp_A\n",
    "$$\n",
    "\n",
    "where  $I_x$ is the __regularized incomplete beta function__:\n",
    "\n",
    "$$I_x(a,b) = \\frac{\\mathrm{B}(x;\\,a,b)}{\\mathrm{B}(a,b)}$$\n",
    "\n",
    "where $\\mathrm{B}(x;\\,a,b) = \\int_0^x t^{a-1}\\,(1-t)^{b-1}\\,dt.$"
   ]
  },
  {
   "cell_type": "markdown",
   "id": "derived-activity",
   "metadata": {
    "slideshow": {
     "slide_type": "subslide"
    }
   },
   "source": [
    "Using the identity $I_x(1,b) = 1 - (1 - x)^b$, \n",
    "\n",
    "the recursive relationship $I_x(a, b) = I_x(a-1, b) - \\frac{x^{a-1}(1-x)^b}{(a-1)B(a-1,b)}$\n",
    "\n",
    "and the fact that $\\alpha$ and $\\beta$ are integers, we can express $I_x$ as:\n",
    "\n",
    "$$\n",
    "I_x(a, b) = 1 - (1 - x)^b - \\sum_{j=1}^{a-1}\\frac{x^{a-j}(1-x)^b}{(a-j)B(a-j,b)}\n",
    "$$\n",
    "\n",
    "Or equivalently\n",
    "\n",
    "$$\n",
    "I_x(a, b) = 1 - \\sum_{i=0}^{a-1} \\frac{x^{i}(1 - x)^b}{(b+i)B(1+i,b)}\n",
    "$$\n",
    "   "
   ]
  },
  {
   "cell_type": "markdown",
   "id": "typical-jersey",
   "metadata": {
    "slideshow": {
     "slide_type": "subslide"
    }
   },
   "source": [
    "\n",
    "Then using\n",
    "$$\n",
    "{\\rm Pr}(p_B > p_A) = 1 - \\int_0^1 \\frac{p_A^{\\alpha_A-1}(1-p_A)^{\\beta_A-1}}{B(\\alpha_A,\\beta_A)}I_{p_A}(\\alpha_B, \\beta_B)dp_A\n",
    "$$\n",
    "and\n",
    "$$\n",
    "I_x(a, b) = 1 - \\sum_{i=0}^{a-1} \\frac{x^{i}(1 - x)^b}{(b+i)B(1+i,b)}\n",
    "$$\n",
    "we have\n",
    "$$\n",
    "\\begin{array}{ll}\n",
    "{\\rm Pr}(p_B > p_A) & =&  1 - \\int_0^1 \\frac{p_A^{\\alpha_A-1}(1-p_A)^{\\beta_A-1}}{B(\\alpha_A,\\beta_A)} \\left(1 - \\sum_{i=0}^{\\alpha_B-1}{\\frac{p_A^i(1-p_A)^{\\beta_B}}{(\\beta_B+i)B(1+i, \\beta_B)}}\\right)dp_A \\\\\n",
    "& =&  1 - 1 + \\int_0^1 \\frac{p_A^{\\alpha_A-1}(1-p_A)^{\\beta_A-1}}{B(\\alpha_A,\\beta_A)} \\sum_{i=0}^{\\alpha_B-1}{\\frac{p_A^i(1-p_A)^{\\beta_B}}{(\\beta_B+i)B(1+i, \\beta_B)}}dp_A \\\\\n",
    "& =& \\int_0^1 \\sum_{i=0}^{\\alpha_B-1}{\\frac{p_A^{\\alpha_A-1+i}(1-p_A)^{\\beta_A+\\beta_B-1}}{(\\beta_B+i)B(\\alpha_A, \\beta_A)B(1+i, \\beta_B)}}dp_A \\\\\n",
    "& =& \\sum_{i=0}^{\\alpha_B-1}\\int_0^1{\\frac{p_A^{\\alpha_A-1+i}(1-p_A)^{\\beta_A+\\beta_B-1}}{(\\beta_B+i)B(\\alpha_A, \\beta_A)B(1+i, \\beta_B)}}dp_A \\\\\n",
    "& =& \\sum_{i=0}^{\\alpha_B-1}\\frac{B(\\alpha_A+i,\\beta_A+\\beta_B)}{(\\beta_B+i)B(\\alpha_A, \\beta_A)B(1+i, \\beta_B)} \\int_0^1{\\frac{p_A^{\\alpha_A-1+i}(1-p_A)^{\\beta_A+\\beta_B-1}}{B(\\alpha_A+i,\\beta_A+\\beta_B)}}dp_A \n",
    "\\end{array}\n",
    "$$"
   ]
  },
  {
   "cell_type": "markdown",
   "id": "posted-mailman",
   "metadata": {
    "slideshow": {
     "slide_type": "subslide"
    }
   },
   "source": [
    "Finally\n",
    "$$\n",
    "{\\rm Pr}(p_B > p_A) = \\sum_{i=0}^{\\alpha_B-1}\\frac{B(\\alpha_A+i,\\beta_A+\\beta_B)}{(\\beta_B+i) \n",
    "B(1+i, \\beta_B)\n",
    "B(\\alpha_A, \\beta_A)\n",
    "}\n",
    "$$"
   ]
  },
  {
   "cell_type": "code",
   "execution_count": 8,
   "id": "acoustic-payday",
   "metadata": {
    "slideshow": {
     "slide_type": "fragment"
    }
   },
   "outputs": [],
   "source": [
    "import scipy.special as sc\n",
    "import numpy as np\n",
    "\n",
    "def probability_B_beats_A(alpha_A, beta_A, alpha_B, beta_B):\n",
    "    total = 0.\n",
    "    for i in range(alpha_B):\n",
    "        total += np.exp(sc.betaln(alpha_A+i, beta_B+beta_A) - \n",
    "                        np.log(beta_B+i) - sc.betaln(1+i, beta_B) - sc.betaln(alpha_A, beta_A))\n",
    "    return total"
   ]
  },
  {
   "cell_type": "code",
   "execution_count": 9,
   "id": "foster-knife",
   "metadata": {
    "slideshow": {
     "slide_type": "subslide"
    }
   },
   "outputs": [
    {
     "data": {
      "text/plain": [
       "0.9992228415122071"
      ]
     },
     "execution_count": 9,
     "metadata": {},
     "output_type": "execute_result"
    }
   ],
   "source": [
    "size_control = 45489\n",
    "size_treatment = 44700\n",
    "successes_control = 8279 \n",
    "successes_treatment = 8502\n",
    "\n",
    "alpha_A = successes_control\n",
    "beta_A = size_control - successes_control\n",
    "alpha_B = successes_treatment\n",
    "beta_B = size_treatment - successes_treatment\n",
    "\n",
    "probability_B_beats_A(alpha_A, beta_A, alpha_B, beta_B)"
   ]
  },
  {
   "cell_type": "markdown",
   "id": "yellow-civilization",
   "metadata": {
    "slideshow": {
     "slide_type": "subslide"
    }
   },
   "source": [
    "### Metropolis algoriths"
   ]
  },
  {
   "cell_type": "markdown",
   "id": "faced-beaver",
   "metadata": {
    "slideshow": {
     "slide_type": "fragment"
    }
   },
   "source": [
    "$$\n",
    "x_i | p \\sim \\mathrm{Bernoulli}(p) \\\\\n",
    "p \\sim \\mathrm{Beta}(\\alpha,\\beta) \n",
    "$$"
   ]
  },
  {
   "cell_type": "code",
   "execution_count": 20,
   "id": "referenced-tutorial",
   "metadata": {
    "slideshow": {
     "slide_type": "fragment"
    }
   },
   "outputs": [
    {
     "name": "stderr",
     "output_type": "stream",
     "text": [
      "/Users/bartekskorulski/.virtualenvs/bayesian-abtesting-3.9.1/lib/python3.9/site-packages/pymc3/sampling.py:465: FutureWarning: In an upcoming release, pm.sample will return an `arviz.InferenceData` object instead of a `MultiTrace` by default. You can pass return_inferencedata=True or return_inferencedata=False to be safe and silence this warning.\n",
      "  warnings.warn(\n",
      "Multiprocess sampling (4 chains in 4 jobs)\n",
      "CompoundStep\n",
      ">Metropolis: [p_B]\n",
      ">Metropolis: [p_A]\n"
     ]
    },
    {
     "data": {
      "text/html": [
       "\n",
       "    <div>\n",
       "        <style>\n",
       "            /* Turns off some styling */\n",
       "            progress {\n",
       "                /* gets rid of default border in Firefox and Opera. */\n",
       "                border: none;\n",
       "                /* Needs to be in here for Safari polyfill so background images work as expected. */\n",
       "                background-size: auto;\n",
       "            }\n",
       "            .progress-bar-interrupted, .progress-bar-interrupted::-webkit-progress-bar {\n",
       "                background: #F44336;\n",
       "            }\n",
       "        </style>\n",
       "      <progress value='84000' class='' max='84000' style='width:300px; height:20px; vertical-align: middle;'></progress>\n",
       "      100.00% [84000/84000 00:28<00:00 Sampling 4 chains, 0 divergences]\n",
       "    </div>\n",
       "    "
      ],
      "text/plain": [
       "<IPython.core.display.HTML object>"
      ]
     },
     "metadata": {},
     "output_type": "display_data"
    },
    {
     "name": "stderr",
     "output_type": "stream",
     "text": [
      "Sampling 4 chains for 1_000 tune and 20_000 draw iterations (4_000 + 80_000 draws total) took 39 seconds.\n",
      "The number of effective samples is smaller than 10% for some parameters.\n"
     ]
    }
   ],
   "source": [
    "import pymc3 as pm\n",
    "dfA = df.query(\"version == 'gate_30'\")\n",
    "dfB = df.query(\"version == 'gate_40'\")\n",
    "colname = 'retention_7'\n",
    "\n",
    "with pm.Model() as model:\n",
    "    p_A = pm.Beta(\"p_A\", 1, 1) \n",
    "    p_B = pm.Beta(\"p_B\", 1, 1)\n",
    "    \n",
    "    delta = pm.Deterministic(\"delta\", p_A - p_B)\n",
    "    obs_A = pm.Bernoulli(\"obs_A\", p_A, observed=dfA[colname].values.astype(int))\n",
    "    obs_B = pm.Bernoulli(\"obs_B\", p_B, observed=dfB[colname].values.astype(int))\n",
    "\n",
    "    \n",
    "    step = pm.Metropolis()\n",
    "    trace = pm.sample(20000, step=step)\n",
    "    burned_trace = trace[1000:] "
   ]
  },
  {
   "cell_type": "code",
   "execution_count": 12,
   "id": "structural-choice",
   "metadata": {
    "slideshow": {
     "slide_type": "subslide"
    }
   },
   "outputs": [],
   "source": [
    "p_A_samples = burned_trace[\"p_A\"] \n",
    "p_B_samples = burned_trace[\"p_B\"] \n",
    "delta_samples = burned_trace[\"delta\"] "
   ]
  },
  {
   "cell_type": "code",
   "execution_count": 13,
   "id": "artistic-sound",
   "metadata": {
    "slideshow": {
     "slide_type": "fragment"
    }
   },
   "outputs": [
    {
     "data": {
      "text/plain": [
       "0.9995263157894737"
      ]
     },
     "execution_count": 13,
     "metadata": {},
     "output_type": "execute_result"
    }
   ],
   "source": [
    "np.mean(delta_samples > 0)"
   ]
  },
  {
   "cell_type": "markdown",
   "id": "level-cargo",
   "metadata": {
    "slideshow": {
     "slide_type": "slide"
    }
   },
   "source": [
    "## We are hiring\n",
    "\n",
    "## https://koahealth.com/contact#work-with-us\n"
   ]
  }
 ],
 "metadata": {
  "celltoolbar": "Slideshow",
  "kernelspec": {
   "display_name": "Python 3",
   "language": "python",
   "name": "python3"
  },
  "language_info": {
   "codemirror_mode": {
    "name": "ipython",
    "version": 3
   },
   "file_extension": ".py",
   "mimetype": "text/x-python",
   "name": "python",
   "nbconvert_exporter": "python",
   "pygments_lexer": "ipython3",
   "version": "3.9.1"
  }
 },
 "nbformat": 4,
 "nbformat_minor": 5
}
