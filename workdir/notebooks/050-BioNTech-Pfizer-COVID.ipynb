{
 "cells": [
  {
   "cell_type": "markdown",
   "id": "fresh-institute",
   "metadata": {},
   "source": [
    "## Safety and Efficacy of the BNT162b2 mRNA Covid-19 Vaccine\n",
    "\n",
    "<https://www.nejm.org/doi/full/10.1056/NEJMoa2034577>"
   ]
  },
  {
   "cell_type": "markdown",
   "id": "local-minister",
   "metadata": {},
   "source": [
    "<img src=\"https://www.nejm.org/na101/home/literatum/publisher/mms/journals/content/nejm/2020/nejm_2020.383.issue-27/nejmoa2034577/20210201/images/img_xlarge/nejmoa2034577_f4.jpeg\">"
   ]
  },
  {
   "cell_type": "markdown",
   "id": "northern-conditioning",
   "metadata": {},
   "source": [
    "<img src=\"../imgs/rct-table2.png\">"
   ]
  },
  {
   "cell_type": "markdown",
   "id": "played-color",
   "metadata": {},
   "source": [
    "<table style=\"width:90%\">\n",
    "    <tr style=\"background-color:white;\">\n",
    "        <td><strong>Efficacy End Point</strong>\n",
    "            <table >\n",
    "                <tr style=\"background-color:white;\">\n",
    "                    <td> </td>\n",
    "                </tr>\n",
    "            </table>\n",
    "        </td>\n",
    "        <td style=\"text-align: center; vertical-align: middle;\"><strong>BNT162b2</strong>\n",
    "            <table>\n",
    "                <tr style=\"background-color:white;\">\n",
    "                    <td>No. of Cases</td>\n",
    "                    <td>Surveillance Time (n)</td>\n",
    "                </tr>\n",
    "            </table>\n",
    "        </td>\n",
    "        <td style=\"text-align: center; vertical-align: middle;\"><strong>Placebo</strong>\n",
    "            <table>\n",
    "                <tr style=\"background-color:white;\">\n",
    "                    <td>No. of Cases</td>\n",
    "                    <td>Surveillance Time (n)</td>\n",
    "                </tr>\n",
    "            </table>\n",
    "        </td>\n",
    "        <td><strong>Vaccine Efficacy, %(95% Credible Interval)</strong>\n",
    "            <table>\n",
    "                <tr style=\"background-color:white;\">\n",
    "                    <td> </td>\n",
    "                </tr>\n",
    "            </table>\n",
    "        </td>\n",
    "        <td><strong>Posterior Probability (Vaccine Efficacy >30%)</strong>\n",
    "            <table>\n",
    "                <tr style=\"background-color:white;\">\n",
    "                    <td> </td>\n",
    "                </tr>\n",
    "            </table>\n",
    "        </td>\n",
    "    </tr>\n",
    "    <tr style=\"background-color:#FEF5E7;\">\n",
    "        <td>Covid-19 occurrence at least 7 days after the second dose in participants without evidence of infection\n",
    "        </td>\n",
    "        <td style=\"text-align: center; vertical-align: middle;\">\n",
    "            <strong>(N=18,198)</strong>\n",
    "            <table >\n",
    "                <tr style=\"background-color:#FEF5E7;\">\n",
    "                    <td>8</td>\n",
    "                    <td>2.214 (17,411)</td>\n",
    "                </tr>\n",
    "            </table>\n",
    "        </td>\n",
    "        <td style=\"text-align: center; vertical-align: middle;\">\n",
    "            <strong>(N=18,325)</strong>\n",
    "            <table >\n",
    "                <tr style=\"background-color:#FEF5E7;\">\n",
    "                    <td>162</td>\n",
    "                    <td>2.222 (17,511)</td>\n",
    "                </tr>\n",
    "            </table>\n",
    "        </td>\n",
    "        <td>95.0 (90.3-97.6)\n",
    "        </td>\n",
    "        <td>>0.9999\n",
    "        </td>\n",
    "    </tr>\n",
    "    <tr style=\"background-color:white;\">\n",
    "        <td>Covid-19 occurrence at least 7 days after the second dose in participants with and those without evidence of infection\n",
    "        </td>\n",
    "        <td style=\"text-align: center; vertical-align: middle;\">\n",
    "            <strong>(N=19,965)</strong>\n",
    "            <table >\n",
    "                <tr style=\"background-color:white;\">\n",
    "                    <td>9</td>\n",
    "                    <td>2.332 (18,559)</td>\n",
    "                </tr>\n",
    "            </table>\n",
    "        </td>\n",
    "        <td style=\"text-align: center; vertical-align: middle;\">\n",
    "            <strong>(N=20,172)</strong>\n",
    "            <table >\n",
    "                <tr style=\"background-color:white;\">\n",
    "                    <td>169</td>\n",
    "                    <td>2.345 (18,708)</td>\n",
    "                </tr>\n",
    "            </table>\n",
    "        </td>\n",
    "        <td>94.6 (89.9-97.3)\n",
    "        </td>\n",
    "        <td>>0.9999\n",
    "        </td>\n",
    "    </tr>\n",
    "</table>"
   ]
  },
  {
   "cell_type": "markdown",
   "id": "prostate-belgium",
   "metadata": {},
   "source": [
    "__Vaccine efficacy__ was estimated by $100\\times(1−\\textrm{IRR})$, "
   ]
  },
  {
   "cell_type": "markdown",
   "id": "recreational-melbourne",
   "metadata": {},
   "source": [
    "$$\\textrm{Vaccine Efficacy} = 100 \\cdot (1 - \\textrm{IRR})$$\n",
    "\n",
    "where IRR is the calculated ratio of confirmed cases of Covid-19 illness per 1000 person-years of follow-up in the active vaccine group to the corresponding illness rate in the placebo group."
   ]
  },
  {
   "cell_type": "markdown",
   "id": "pending-things",
   "metadata": {},
   "source": [
    "$$\\textrm{IRR} = \\frac{\\textrm{Vaccine Incidence Rate}}{\\textrm{Placebo Incidence Rate}}$$"
   ]
  },
  {
   "cell_type": "code",
   "execution_count": 1,
   "id": "preceding-positive",
   "metadata": {},
   "outputs": [],
   "source": [
    "from scipy import stats\n",
    "import numpy as np\n",
    "import pandas as pd\n",
    "\n",
    "import matplotlib.pyplot as plt\n",
    "import seaborn as sns"
   ]
  },
  {
   "cell_type": "code",
   "execution_count": 2,
   "id": "specific-freedom",
   "metadata": {},
   "outputs": [],
   "source": [
    "plt.rcParams[\"figure.figsize\"] = (8,6)"
   ]
  },
  {
   "cell_type": "code",
   "execution_count": 3,
   "id": "comfortable-maryland",
   "metadata": {},
   "outputs": [
    {
     "data": {
      "text/plain": [
       "(0.00045947963930848316, 0.009251327736851122)"
      ]
     },
     "execution_count": 3,
     "metadata": {},
     "output_type": "execute_result"
    }
   ],
   "source": [
    "cases_vaccine, size_vaccine, cases_placebo, size_placebo = 8, 17411, 162, 17511\n",
    "cases_vaccine/size_vaccine, cases_placebo/size_placebo"
   ]
  },
  {
   "cell_type": "markdown",
   "id": "aware-athens",
   "metadata": {},
   "source": [
    "$$\\textrm{Vaccine Incidence Rate} = \\frac{8}{17411} = 0.000459$$"
   ]
  },
  {
   "cell_type": "markdown",
   "id": "dried-venice",
   "metadata": {},
   "source": [
    "$$\\textrm{Placebo Incidence Rate} = \\frac{162}{17511} = 0.00925$$"
   ]
  },
  {
   "cell_type": "code",
   "execution_count": 4,
   "id": "fitting-roller",
   "metadata": {},
   "outputs": [
    {
     "data": {
      "text/plain": [
       "95.03336545436368"
      ]
     },
     "execution_count": 4,
     "metadata": {},
     "output_type": "execute_result"
    }
   ],
   "source": [
    "100 * (1-(cases_vaccine/size_vaccine)/(cases_placebo/size_placebo))"
   ]
  },
  {
   "cell_type": "markdown",
   "id": "facial-eclipse",
   "metadata": {},
   "source": [
    "$$\\pi_v = \\textrm{Vaccine Incidence Rate}$$\n",
    "\n",
    "$$\\pi_c = \\textrm{Placebo Incidence Rate}$$"
   ]
  },
  {
   "cell_type": "markdown",
   "id": "ready-juice",
   "metadata": {},
   "source": [
    "$$\\textrm{Vaccine Efficacy} = 100 \\cdot \\Bigg(1 - \\frac{\\frac{8}{17411}}{\\frac{162}{17511}}\\Bigg) = 95.0$$"
   ]
  },
  {
   "cell_type": "markdown",
   "id": "attempted-brooklyn",
   "metadata": {},
   "source": [
    "$$(\\textrm{Posterior beliefs}) \\propto (\\textrm{Prior beliefs}) \\cdot (\\textrm{Likelihood of observed data})$$"
   ]
  },
  {
   "cell_type": "markdown",
   "id": "linear-stack",
   "metadata": {},
   "source": [
    "$$\\textrm{Likelihood of observed data} = \\binom{n}{k} \\theta^{k}(1-\\theta)^{n-k} $$\n",
    "\n",
    "$$\\textrm{Prior beliefs} = \\textrm{constant} \\cdot \\theta^{\\alpha - 1}(1-\\theta)^{\\beta - 1},$$"
   ]
  },
  {
   "cell_type": "markdown",
   "id": "thrown-atlas",
   "metadata": {},
   "source": [
    "$$\\textrm{Posterior beliefs} \\propto \\theta^{k}(1-\\theta)^{n-k}\\cdot \\theta^{\\alpha - 1}(1-\\theta)^{\\beta - 1} $$\n",
    "$$\\,\\,\\,\\,\\,\\,\\,\\,\\,\\,\\,\\,\\,\\,\\,\\,\\,\\,\\,\\,\\propto \\theta^{\\alpha + k - 1}(1-\\theta)^{\\beta + n - k - 1} $$"
   ]
  },
  {
   "cell_type": "markdown",
   "id": "imposed-gibson",
   "metadata": {},
   "source": [
    "$$k \\sim \\mathrm{Binomial}(n, \\theta) \\\\\n",
    "\\theta \\sim \\mathrm{Beta}(\\alpha,\\beta) $$"
   ]
  },
  {
   "cell_type": "markdown",
   "id": "decreased-reward",
   "metadata": {},
   "source": [
    "$$\\frac{\\alpha}{\\alpha + \\beta} = 0.01.$$"
   ]
  },
  {
   "cell_type": "markdown",
   "id": "private-still",
   "metadata": {},
   "source": [
    "$$0.01 = \\frac{\\alpha}{\\alpha + 1} = \\frac{\\alpha + 1 - 1}{\\alpha + 1} = 1 - \\frac{1}{\\alpha + 1}, $$\n",
    "\n",
    "$$\\alpha + 1 = \\frac{1}{1-0.01}$$"
   ]
  },
  {
   "cell_type": "code",
   "execution_count": 5,
   "id": "exotic-communist",
   "metadata": {},
   "outputs": [
    {
     "data": {
      "text/plain": [
       "0.010101010101010166"
      ]
     },
     "execution_count": 5,
     "metadata": {},
     "output_type": "execute_result"
    }
   ],
   "source": [
    "p = 0.01\n",
    "1/(1-p) -1"
   ]
  },
  {
   "cell_type": "code",
   "execution_count": 6,
   "id": "square-packing",
   "metadata": {},
   "outputs": [
    {
     "data": {
      "text/plain": [
       "0.007049345417925457"
      ]
     },
     "execution_count": 6,
     "metadata": {},
     "output_type": "execute_result"
    }
   ],
   "source": [
    "p = 0.007\n",
    "1/(1-p) -1"
   ]
  },
  {
   "cell_type": "markdown",
   "id": "floppy-force",
   "metadata": {},
   "source": [
    "$$\\pi_v = \\textrm{Vaccine Incidence Rate}  \\sim \\mathrm{Beta}(0.010101 + 8, 1 + 17411 - 8) $$\n",
    "\n",
    "$$\\pi_c = \\textrm{Placebo Incidence Rate} \\sim \\mathrm{Beta}(0.010101 + 168, 1 + 17511 - 162) $$"
   ]
  },
  {
   "cell_type": "code",
   "execution_count": 7,
   "id": "overall-jackson",
   "metadata": {},
   "outputs": [
    {
     "data": {
      "image/png": "[encoded data removed]",
      "text/plain": [
       "<Figure size 864x288 with 1 Axes>"
      ]
     },
     "metadata": {
      "needs_background": "light"
     },
     "output_type": "display_data"
    }
   ],
   "source": [
    "samples = stats.beta.rvs(0.007049, 1, size=1000000)\n",
    "samples_df = pd.DataFrame(\n",
    "    {\n",
    "        'Priors: vaccine and placebo': samples\n",
    "    }\n",
    ").melt(value_vars=['Priors: vaccine and placebo'], var_name='group', value_name='rate')\n",
    "\n",
    "x = np.linspace(0, 1, 1001)\n",
    "y = stats.beta.pdf(x, 0.007049, 1)\n",
    "ax = sns.relplot(x=x, y=y, kind=\"line\", color='gray', height=4, aspect=3)"
   ]
  },
  {
   "cell_type": "code",
   "execution_count": 8,
   "id": "funky-breeding",
   "metadata": {},
   "outputs": [],
   "source": [
    "samples_vaccine = stats.beta.rvs(0.007049 + 8, 1 + 17411 - 8, size=100000)\n",
    "samples_placebo = stats.beta.rvs(0.010101 + 162, 1 + 17511 - 162, size=100000)\n",
    "samples_vc_pd = pd.DataFrame(\n",
    "    {\n",
    "        'vaccine': samples_vaccine,\n",
    "        'placebo': samples_placebo\n",
    "    }\n",
    ").melt(value_vars=['vaccine', 'placebo'], var_name='group', value_name='rate')"
   ]
  },
  {
   "cell_type": "code",
   "execution_count": 9,
   "id": "olympic-issue",
   "metadata": {},
   "outputs": [
    {
     "data": {
      "text/plain": [
       "<seaborn.axisgrid.FacetGrid at 0x7f098d6e6a90>"
      ]
     },
     "execution_count": 9,
     "metadata": {},
     "output_type": "execute_result"
    },
    {
     "data": {
      "image/png": "[encoded data removed]",
      "text/plain": [
       "<Figure size 939.125x288 with 1 Axes>"
      ]
     },
     "metadata": {
      "needs_background": "light"
     },
     "output_type": "display_data"
    }
   ],
   "source": [
    "sns.displot(samples_vc_pd , x=\"rate\", kind=\"kde\", hue='group', height=4, aspect=3)"
   ]
  },
  {
   "cell_type": "markdown",
   "id": "downtown-plastic",
   "metadata": {},
   "source": [
    "$$P(\\pi_v < \\pi_c)$$"
   ]
  },
  {
   "cell_type": "code",
   "execution_count": 10,
   "id": "greek-hydrogen",
   "metadata": {},
   "outputs": [
    {
     "data": {
      "text/plain": [
       "1.0"
      ]
     },
     "execution_count": 10,
     "metadata": {},
     "output_type": "execute_result"
    }
   ],
   "source": [
    "from scipy import stats\n",
    "\n",
    "N = 1000000\n",
    "samples_vaccine = stats.beta.rvs(0.007049 + 8, 1 + 17411 - 8, size=N)\n",
    "samples_placebo = stats.beta.rvs(0.010101 + 162, 1 + 17511 - 162, size=N)\n",
    "\n",
    "sum(samples_vaccine < samples_placebo) / N"
   ]
  },
  {
   "cell_type": "markdown",
   "id": "standard-subsection",
   "metadata": {},
   "source": [
    "$$P(\\pi_v < \\pi_c) > 99.99$$"
   ]
  },
  {
   "cell_type": "markdown",
   "id": "provincial-shark",
   "metadata": {},
   "source": [
    "$$\\textrm{Vaccine Efficacy} = 100 \\cdot (1 - \\textrm{IRR}) = 100 \\cdot \\Big(1 - \\frac{\\pi_v}{\\pi_c}\\Big)$$"
   ]
  },
  {
   "cell_type": "code",
   "execution_count": 11,
   "id": "dominant-certificate",
   "metadata": {},
   "outputs": [
    {
     "data": {
      "text/plain": [
       "1.0"
      ]
     },
     "execution_count": 11,
     "metadata": {},
     "output_type": "execute_result"
    }
   ],
   "source": [
    "samples_ve = 100 * (1 - samples_vaccine/samples_placebo)\n",
    "\n",
    "sum(samples_ve > 30) / N"
   ]
  },
  {
   "cell_type": "markdown",
   "id": "universal-showcase",
   "metadata": {},
   "source": [
    "$$P(\\textrm{Vaccine Efficacy} > 30\\%) > 99.99$$"
   ]
  },
  {
   "cell_type": "code",
   "execution_count": 13,
   "id": "shaped-rebound",
   "metadata": {},
   "outputs": [
    {
     "data": {
      "text/plain": [
       "(90.84801954179959, 97.87084686187218)"
      ]
     },
     "execution_count": 13,
     "metadata": {},
     "output_type": "execute_result"
    }
   ],
   "source": [
    "import numpy as np\n",
    "\n",
    "ves025, ves975 = np.percentile(samples_ve, 2.5), np.percentile(samples_ve, 97.5)\n",
    "ves025, ves975"
   ]
  },
  {
   "cell_type": "code",
   "execution_count": 26,
   "id": "educated-compilation",
   "metadata": {},
   "outputs": [
    {
     "data": {
      "image/png": "[encoded data removed]",
      "text/plain": [
       "<Figure size 576x288 with 1 Axes>"
      ]
     },
     "metadata": {
      "needs_background": "light"
     },
     "output_type": "display_data"
    }
   ],
   "source": [
    "kde = stats.gaussian_kde(samples_ve)\n",
    "pos_all = np.linspace(85, samples_ve.max(), 201)\n",
    "ax = sns.relplot(x=pos_all, y=kde(pos_all), kind=\"line\", color='darkred')\n",
    "ax.fig.set_figwidth(8)\n",
    "ax.fig.set_figheight(4)\n",
    "plt.text(93, .05, '95% Credible Interval', fontsize=10, color='darkorange')\n",
    "pos = np.linspace(ves025, ves975, 201)\n",
    "plt.fill_between(pos, kde(pos), alpha=0.1, color='darkorange')\n",
    "plt.show()"
   ]
  },
  {
   "cell_type": "markdown",
   "id": "absolute-jacksonville",
   "metadata": {},
   "source": [
    "## Niusance parameter"
   ]
  },
  {
   "cell_type": "markdown",
   "id": "genuine-drilling",
   "metadata": {},
   "source": [
    "$$\\theta = \\frac{1 -\\textrm{Vaccine Efficacy}/100}{2 - \\textrm{Vaccine Efficacy}/100}.$$"
   ]
  },
  {
   "cell_type": "markdown",
   "id": "guided-script",
   "metadata": {},
   "source": [
    "$$\\theta = \\frac{\\frac{\\pi_v}{\\pi_c}}{1-\\frac{\\pi_v}{\\pi_c}} = \\frac{\\pi_v}{\\pi_v +\\pi_c}. $$"
   ]
  },
  {
   "cell_type": "markdown",
   "id": "cultural-danish",
   "metadata": {},
   "source": [
    "$$\\theta = \n",
    "    \\frac{\\frac{k_v}{n/2}}{\\frac{k_v}{n/2}+\\frac{k_c}{n/2}}  = \n",
    "    \\frac{k_v}{k_v+k_c}.$$"
   ]
  },
  {
   "cell_type": "markdown",
   "id": "chinese-naples",
   "metadata": {},
   "source": [
    "$$\\theta = \\frac\n",
    "    {\\textrm{COVID-19 cases in vaccine group}}\n",
    "    {\\textrm{COVID-19 cases in vaccine group} + \\textrm{COVID-19 cases in placebo group}}.$$"
   ]
  },
  {
   "cell_type": "code",
   "execution_count": null,
   "id": "sweet-suggestion",
   "metadata": {},
   "outputs": [],
   "source": [
    "(1-0.3)/(2-.3)"
   ]
  },
  {
   "cell_type": "markdown",
   "id": "infinite-ukraine",
   "metadata": {},
   "source": [
    "$$\\theta = \\frac{1 -\\textrm{Vaccine Efficacy}}{2 - \\textrm{Vaccine Efficacy}} = \\frac{1-0.3}{2-0.3} = 0.4118.$$"
   ]
  },
  {
   "cell_type": "markdown",
   "id": "prescription-investment",
   "metadata": {},
   "source": [
    "$$\\frac{\\alpha}{\\alpha + \\beta} = 0.4118.$$"
   ]
  },
  {
   "cell_type": "markdown",
   "id": "dramatic-usage",
   "metadata": {},
   "source": [
    "$$\\alpha = \\frac{1}{1-0.4118} - 1 = 0.700102.$$"
   ]
  },
  {
   "cell_type": "code",
   "execution_count": 169,
   "id": "cutting-joint",
   "metadata": {},
   "outputs": [],
   "source": [
    "thetas = stats.beta.rvs(0.700102, 1, size=10000000)\n",
    "ves = 1 - thetas/(1-thetas)"
   ]
  },
  {
   "cell_type": "code",
   "execution_count": 170,
   "id": "figured-doctrine",
   "metadata": {},
   "outputs": [
    {
     "data": {
      "text/plain": [
       "(-17.188611195016605, -26.138673413264257, 0.9948327091467072)"
      ]
     },
     "execution_count": 170,
     "metadata": {},
     "output_type": "execute_result"
    }
   ],
   "source": [
    "np.mean(ves), np.percentile(ves, 2.5), np.percentile(ves, 97.5)"
   ]
  },
  {
   "cell_type": "code",
   "execution_count": 172,
   "id": "settled-variance",
   "metadata": {},
   "outputs": [
    {
     "data": {
      "text/plain": [
       "<seaborn.axisgrid.FacetGrid at 0x13f741880>"
      ]
     },
     "execution_count": 172,
     "metadata": {},
     "output_type": "execute_result"
    },
    {
     "data": {
      "image/png": "[encoded data removed]",
      "text/plain": [
       "<Figure size 1037.25x288 with 1 Axes>"
      ]
     },
     "metadata": {
      "needs_background": "light"
     },
     "output_type": "display_data"
    }
   ],
   "source": [
    "samples_df = pd.DataFrame(\n",
    "    {\n",
    "        'Priors: vaccine and placebo': ves\n",
    "    }\n",
    ").melt(value_vars=['Priors: vaccine and placebo'], var_name='group', value_name='rate')\n",
    "\n",
    "sns.displot(samples_df, x=\"rate\", kind=\"kde\", hue='group', height=4, aspect=3)"
   ]
  },
  {
   "cell_type": "code",
   "execution_count": 163,
   "id": "sticky-crown",
   "metadata": {},
   "outputs": [
    {
     "data": {
      "image/png": "[encoded data removed]",
      "text/plain": [
       "<Figure size 864x288 with 1 Axes>"
      ]
     },
     "metadata": {
      "needs_background": "light"
     },
     "output_type": "display_data"
    }
   ],
   "source": [
    "x = np.linspace(0.000, 1, 1001)\n",
    "y = stats.beta.pdf(x, 0.700102, 1)\n",
    "ax = sns.relplot(x=x, y=y, kind=\"line\", color='gray', height=4, aspect=3)"
   ]
  },
  {
   "cell_type": "markdown",
   "id": "constant-exclusive",
   "metadata": {},
   "source": [
    "#### Posterior distribution"
   ]
  },
  {
   "cell_type": "code",
   "execution_count": 164,
   "id": "limited-abraham",
   "metadata": {},
   "outputs": [
    {
     "data": {
      "text/plain": [
       "0.7001020061203671"
      ]
     },
     "execution_count": 164,
     "metadata": {},
     "output_type": "execute_result"
    }
   ],
   "source": [
    "p = 0.4118\n",
    "1/(1-p) -1"
   ]
  },
  {
   "cell_type": "code",
   "execution_count": null,
   "id": "careful-reunion",
   "metadata": {},
   "outputs": [],
   "source": [
    "8 * (17411 + 17511)/17411 *1 /2"
   ]
  },
  {
   "cell_type": "code",
   "execution_count": null,
   "id": "destroyed-empty",
   "metadata": {},
   "outputs": [],
   "source": [
    "162 * (17411 + 17511)/17511 *1 /2"
   ]
  },
  {
   "cell_type": "markdown",
   "id": "liable-explosion",
   "metadata": {},
   "source": [
    "$$\\textrm{adjusted number of occurrences in vaccine group} = 8 \\cdot \\frac{17411 + 17511}{17411} \\cdot \\frac{1}{2} = 8.02297$$\n",
    "\n",
    "$$\\textrm{adjusted number of occurrences in placego group} = 162 \\cdot \\frac{17411 + 17511}{17511} \\cdot \\frac{1}{2} = 161.5374$$"
   ]
  },
  {
   "cell_type": "code",
   "execution_count": 167,
   "id": "manufactured-israeli",
   "metadata": {},
   "outputs": [
    {
     "data": {
      "image/png": "[encoded data removed]",
      "text/plain": [
       "<Figure size 864x288 with 1 Axes>"
      ]
     },
     "metadata": {
      "needs_background": "light"
     },
     "output_type": "display_data"
    }
   ],
   "source": [
    "x = np.linspace(0.000, .15, 1001)\n",
    "y = stats.beta.pdf(x, 0.700102+8.02297, 1+161.53743)\n",
    "ax = sns.relplot(x=x, y=y, kind=\"line\", color='gray', height=4, aspect=3)"
   ]
  },
  {
   "cell_type": "code",
   "execution_count": 168,
   "id": "consecutive-setting",
   "metadata": {},
   "outputs": [],
   "source": [
    "thetas = stats.beta.rvs(0.700102, 1, size=1000000) \n",
    "ves = 1 - thetas/(1-thetas)"
   ]
  },
  {
   "cell_type": "code",
   "execution_count": 24,
   "id": "declared-aircraft",
   "metadata": {},
   "outputs": [
    {
     "data": {
      "text/plain": [
       "0.9503336688593478"
      ]
     },
     "execution_count": 24,
     "metadata": {},
     "output_type": "execute_result"
    }
   ],
   "source": [
    "1- 8.02297/161.5374"
   ]
  },
  {
   "cell_type": "code",
   "execution_count": 22,
   "id": "stainless-supervision",
   "metadata": {},
   "outputs": [
    {
     "data": {
      "text/plain": [
       "(0.023345990993792774, 0.08838690875349431)"
      ]
     },
     "execution_count": 22,
     "metadata": {},
     "output_type": "execute_result"
    }
   ],
   "source": [
    "theta025 = stats.beta.ppf(0.025, 0.700102 + 8.02297, 1 + 161.53743)\n",
    "theta975 = stats.beta.ppf(.975, 0.700102 + 8.022974, 1 + 161.53743)\n",
    "theta025, theta975"
   ]
  },
  {
   "cell_type": "code",
   "execution_count": 177,
   "id": "crude-smoke",
   "metadata": {},
   "outputs": [
    {
     "data": {
      "text/plain": [
       "(90.30433968070409, 97.60959451571306)"
      ]
     },
     "execution_count": 177,
     "metadata": {},
     "output_type": "execute_result"
    }
   ],
   "source": [
    "theta025 = stats.beta.ppf(0.025, 0.700102 + 8.02297, 1 + 161.53743)\n",
    "theta975 = stats.beta.ppf(.975, 0.700102 + 8.022974, 1 + 161.53743)\n",
    "ves975 = 100 * (1 - theta025/(1-theta025))\n",
    "ves025 = 100 * (1 - theta975/(1-theta975))\n",
    "ves025, ves975 \n",
    "\n",
    "#Out: (90.30433968070409, 97.60959451571306)"
   ]
  },
  {
   "cell_type": "code",
   "execution_count": 185,
   "id": "agricultural-music",
   "metadata": {},
   "outputs": [
    {
     "data": {
      "text/plain": [
       "(0.9030433968070408, 0.9760959451571305)"
      ]
     },
     "execution_count": 185,
     "metadata": {},
     "output_type": "execute_result"
    }
   ],
   "source": [
    "theta025 = stats.beta.ppf(0.025, 0.700102 + 8.02297, 1 + 161.53743)\n",
    "theta975 = stats.beta.ppf(.975, 0.700102 + 8.022974, 1 + 161.53743)\n",
    "ves975 = 1 - theta025/(1-theta025)\n",
    "ves025 = 1 - theta975/(1-theta975)\n",
    "ves025, ves975 "
   ]
  },
  {
   "cell_type": "code",
   "execution_count": 186,
   "id": "reflected-percentage",
   "metadata": {},
   "outputs": [
    {
     "data": {
      "text/plain": [
       "(0.9031371659977501, 0.976101494783773)"
      ]
     },
     "execution_count": 186,
     "metadata": {},
     "output_type": "execute_result"
    }
   ],
   "source": [
    "thetas = stats.beta.rvs(0.700102 + 8.02297, 1 + 161.53743, size=1000000)\n",
    "ves = 1 - thetas/(1-thetas)\n",
    "np.percentile(ves, 2.5), np.percentile(ves, 97.5)"
   ]
  },
  {
   "cell_type": "code",
   "execution_count": 190,
   "id": "superb-necklace",
   "metadata": {},
   "outputs": [
    {
     "data": {
      "image/png": "[encoded data removed]",
      "text/plain": [
       "<Figure size 576x288 with 1 Axes>"
      ]
     },
     "metadata": {
      "needs_background": "light"
     },
     "output_type": "display_data"
    }
   ],
   "source": [
    "kde = stats.gaussian_kde(ves)\n",
    "pos_all = np.linspace(0.85, ves.max(), 101)\n",
    "ax = sns.relplot(x=pos_all, y=kde(pos_all), kind=\"line\", color='darkorange')\n",
    "ax.fig.set_figwidth(8)\n",
    "ax.fig.set_figheight(4)\n",
    "pos = np.linspace(ves025, ves975, 101)\n",
    "plt.fill_between(pos, kde(pos), alpha=0.3, color='darkorange')\n",
    "plt.show()"
   ]
  },
  {
   "cell_type": "code",
   "execution_count": null,
   "id": "blank-rugby",
   "metadata": {},
   "outputs": [],
   "source": [
    "thetas = stats.beta.rvs(0.700102 + 8, 1 + 162, size=1000000) \n",
    "#ves = (1-2*thetas)/(1-thetas)\n",
    "#np.percentile(ves, 2.5), np.percentile(ves, 97.5)\n",
    "thetas"
   ]
  },
  {
   "cell_type": "code",
   "execution_count": null,
   "id": "animal-therapy",
   "metadata": {},
   "outputs": [],
   "source": [
    "theta_mean = np.mean(thetas)\n",
    "theta_mean\n",
    "#theta_mean = (0.700102 + 8)/(1 + 162)"
   ]
  },
  {
   "cell_type": "code",
   "execution_count": null,
   "id": "above-lying",
   "metadata": {},
   "outputs": [],
   "source": [
    "(1-2*theta_mean)/(1-theta_mean)"
   ]
  },
  {
   "cell_type": "code",
   "execution_count": null,
   "id": "determined-performance",
   "metadata": {},
   "outputs": [],
   "source": [
    "1 - (theta_mean/(1-theta_mean))"
   ]
  },
  {
   "cell_type": "code",
   "execution_count": null,
   "id": "adequate-devon",
   "metadata": {},
   "outputs": [],
   "source": [
    "theta_1 = np.percentile(thetas, 2.5)\n",
    "(1-2*theta_1)/(1-theta_1)"
   ]
  },
  {
   "cell_type": "code",
   "execution_count": null,
   "id": "offensive-survey",
   "metadata": {},
   "outputs": [],
   "source": [
    "a1 = 8 \n",
    "a2 = 4\n",
    "q1 = 2/3\n",
    "q2 = 1/3"
   ]
  },
  {
   "cell_type": "code",
   "execution_count": null,
   "id": "caring-hudson",
   "metadata": {},
   "outputs": [],
   "source": [
    "(a1/q1)/2, (a2/q2)/2"
   ]
  },
  {
   "cell_type": "code",
   "execution_count": null,
   "id": "residential-accreditation",
   "metadata": {},
   "outputs": [],
   "source": [
    "8 * (17411 + 17511)/17411 *1 /2"
   ]
  },
  {
   "cell_type": "code",
   "execution_count": null,
   "id": "fitting-bandwidth",
   "metadata": {},
   "outputs": [],
   "source": [
    "162 * (17411 + 17511)/17511 *1 /2"
   ]
  },
  {
   "cell_type": "code",
   "execution_count": null,
   "id": "aquatic-genesis",
   "metadata": {},
   "outputs": [],
   "source": [
    "q1 = 17411/(17411 + 17511)\n",
    "q2 = 17511/(17411 + 17511)\n",
    "\n",
    "a1 = 8\n",
    "a2 = 162\n",
    "b1 = a1/(2*q1)\n",
    "b2 = a2/(2*q2)\n",
    "b1, b2"
   ]
  },
  {
   "cell_type": "code",
   "execution_count": 13,
   "id": "pacific-dispute",
   "metadata": {},
   "outputs": [
    {
     "data": {
      "text/plain": [
       "(0.9459982638730382, 0.9030435730211366, 0.9761243481131912)"
      ]
     },
     "execution_count": 13,
     "metadata": {},
     "output_type": "execute_result"
    }
   ],
   "source": [
    "thetas = stats.beta.rvs(0.700102 + 8.02297, 1 + 161.5374 , size=1000000)\n",
    "ves = (1-2*thetas)/(1-thetas)\n",
    "#ves = 1 - thetas/(1-thetas)\n",
    "np.mean(ves), np.percentile(ves, 2.5), np.percentile(ves, 97.5)"
   ]
  },
  {
   "cell_type": "code",
   "execution_count": 14,
   "id": "accepting-amplifier",
   "metadata": {},
   "outputs": [
    {
     "data": {
      "text/plain": [
       "(0.9459982638730382, 0.9030435730211365, 0.9761243481131913)"
      ]
     },
     "execution_count": 14,
     "metadata": {},
     "output_type": "execute_result"
    }
   ],
   "source": [
    "ves = 1 - thetas/(1-thetas)\n",
    "np.mean(ves), np.percentile(ves, 2.5), np.percentile(ves, 97.5)"
   ]
  },
  {
   "cell_type": "code",
   "execution_count": null,
   "id": "nearby-blame",
   "metadata": {},
   "outputs": [],
   "source": [
    "theta025 = stats.beta.ppf(0.025, 0.700102 + 8.02297, 1 + 161.53743)\n",
    "ves975 = 1 - theta1/(1-theta1)\n",
    "theta975 = stats.beta.ppf(.975, 0.700102 + 8.022974, 1 + 161.5374336)\n",
    "ves025 = 1 - theta2/(1-theta2)\n",
    "ves025, theta975 \n",
    "\n",
    "#Out: (0.9030433990045095, 0.08838690692731344)"
   ]
  },
  {
   "cell_type": "code",
   "execution_count": null,
   "id": "loose-bidder",
   "metadata": {},
   "outputs": [],
   "source": [
    "theta_mean = np.mean(theta)"
   ]
  },
  {
   "cell_type": "code",
   "execution_count": null,
   "id": "nominated-cricket",
   "metadata": {},
   "outputs": [],
   "source": [
    "(1-2*theta_mean)/(1-theta_mean)"
   ]
  },
  {
   "cell_type": "code",
   "execution_count": null,
   "id": "round-right",
   "metadata": {},
   "outputs": [],
   "source": [
    "samples = 1 - samples_vaccine/samples_placebo\n",
    "np.percentile(samples, 2.5), np.percentile(samples, 97.5)"
   ]
  },
  {
   "cell_type": "markdown",
   "id": "suspended-japanese",
   "metadata": {},
   "source": [
    "$$\\theta = \\frac{1 -\\textrm{Vaccine Efficacy}/100}{2 - \\textrm{Vaccine Efficacy}/100}.$$"
   ]
  },
  {
   "cell_type": "markdown",
   "id": "united-multiple",
   "metadata": {},
   "source": [
    "$$\\textrm{Vaccine Efficacy} = 100\\cdot \\Big(1 - \\frac{\\theta}{1-\\theta}\\Big).$$"
   ]
  },
  {
   "cell_type": "code",
   "execution_count": null,
   "id": "general-tobacco",
   "metadata": {},
   "outputs": [],
   "source": []
  },
  {
   "cell_type": "markdown",
   "id": "empty-replica",
   "metadata": {},
   "source": [
    "### Participants with and those without evidence of infection"
   ]
  },
  {
   "cell_type": "code",
   "execution_count": 10,
   "id": "careful-brake",
   "metadata": {},
   "outputs": [
    {
     "data": {
      "text/plain": [
       "(9.03612802413923, 168.3269991447509)"
      ]
     },
     "execution_count": 10,
     "metadata": {},
     "output_type": "execute_result"
    }
   ],
   "source": [
    "q1 = 18559/(18559 + 18708)\n",
    "q2 = 18708/(18559 + 18708)\n",
    "\n",
    "a1 = 9\n",
    "a2 = 169\n",
    "b1 = a1/(2*q1)\n",
    "b2 = a2/(2*q2)\n",
    "b1, b2"
   ]
  },
  {
   "cell_type": "markdown",
   "id": "generous-jersey",
   "metadata": {},
   "source": [
    "$$\\textrm{addjusted number of occurrences in vaccine group} = 9 \\cdot \\frac{18559 + 18708}{18559} \\cdot \\frac{1}{2} = 9.03613$$\n",
    "\n",
    "$$\\textrm{addjusted number of occurrences in placego group} = 169 \\cdot \\frac{18559 + 18708}{18708} \\cdot \\frac{1}{2} = 168.327$$"
   ]
  },
  {
   "cell_type": "code",
   "execution_count": 192,
   "id": "turned-trunk",
   "metadata": {},
   "outputs": [
    {
     "data": {
      "text/plain": [
       "(89.88055638026545, 97.30728685161121)"
      ]
     },
     "execution_count": 192,
     "metadata": {},
     "output_type": "execute_result"
    }
   ],
   "source": [
    "theta025 = stats.beta.ppf(0.025, 0.700102 + 9.03613, 1 + 168.327)\n",
    "theta975 = stats.beta.ppf(.975, 0.700102 + 9.03613, 1 + 168.327)\n",
    "ves975 = 100 * (1 - theta025/(1-theta025))\n",
    "ves025 = 100 * (1 - theta975/(1-theta975))\n",
    "ves025, ves975 \n",
    "\n",
    "#Out: (89.88055638026545, 97.30728685161121)"
   ]
  },
  {
   "cell_type": "code",
   "execution_count": 21,
   "id": "brilliant-grenada",
   "metadata": {},
   "outputs": [
    {
     "data": {
      "text/plain": [
       "(0.8988055638026544, 0.9730728685161121)"
      ]
     },
     "execution_count": 21,
     "metadata": {},
     "output_type": "execute_result"
    }
   ],
   "source": [
    "theta025 = stats.beta.ppf(0.025, 0.700102 + 9.03613, 1 + 168.327)\n",
    "theta975 = stats.beta.ppf(.975, 0.700102 + 9.03613, 1 + 168.327)\n",
    "ves975 = 1 - theta025/(1-theta025)\n",
    "ves025 = 1 - theta975/(1-theta975)\n",
    "ves025, ves975 "
   ]
  },
  {
   "cell_type": "code",
   "execution_count": 79,
   "id": "ordered-performance",
   "metadata": {},
   "outputs": [
    {
     "data": {
      "text/plain": [
       "<seaborn.axisgrid.FacetGrid at 0x13d8670a0>"
      ]
     },
     "execution_count": 79,
     "metadata": {},
     "output_type": "execute_result"
    },
    {
     "data": {
      "image/png": "[encoded data removed]",
      "text/plain": [
       "<Figure size 360x360 with 1 Axes>"
      ]
     },
     "metadata": {
      "needs_background": "light"
     },
     "output_type": "display_data"
    }
   ],
   "source": [
    "x = np.arange(0, 1, .001)\n",
    "theta = stats.beta.pdf(x, 0.700102 + 9.03613, 1 + 168.327)\n",
    "y = (1 - theta)/(2-theta)\n",
    "ve_plot_df = pd.DataFrame({'x': x, 'y': theta})\n",
    "sns.relplot(x=\"x\", y=\"y\", kind=\"line\", data=ve_plot_df)"
   ]
  },
  {
   "cell_type": "code",
   "execution_count": 180,
   "id": "under-denver",
   "metadata": {},
   "outputs": [
    {
     "data": {
      "text/plain": [
       "(0.8988207489196189, 0.9730687437357025)"
      ]
     },
     "execution_count": 180,
     "metadata": {},
     "output_type": "execute_result"
    }
   ],
   "source": [
    "thetas = stats.beta.rvs(0.700102 + 9.03613, 1 + 168.327 , size=1000000)\n",
    "ves = 1 - thetas/(1-thetas)\n",
    "np.percentile(ves, 2.5), np.percentile(ves, 97.5)"
   ]
  },
  {
   "cell_type": "code",
   "execution_count": 181,
   "id": "fitting-nashville",
   "metadata": {},
   "outputs": [
    {
     "data": {
      "text/plain": [
       "(0.8988207489196189, 0.9730687437357025)"
      ]
     },
     "execution_count": 181,
     "metadata": {},
     "output_type": "execute_result"
    }
   ],
   "source": [
    "ves = 1 - thetas/(1-thetas)\n",
    "np.percentile(ves, 2.5), np.percentile(ves, 97.5)"
   ]
  },
  {
   "cell_type": "code",
   "execution_count": 182,
   "id": "varying-nursery",
   "metadata": {},
   "outputs": [
    {
     "data": {
      "image/png": "[encoded data removed]",
      "text/plain": [
       "<Figure size 576x360 with 1 Axes>"
      ]
     },
     "metadata": {
      "needs_background": "light"
     },
     "output_type": "display_data"
    }
   ],
   "source": [
    "kde = stats.gaussian_kde(ves)\n",
    "pos_all = np.linspace(ves.min(), ves.max(), 101)\n",
    "ax = sns.relplot(x=pos_all, y=kde(pos_all), kind=\"line\", color='darkorange')\n",
    "ax.fig.set_figwidth(8)\n",
    "ax.fig.set_figheight(5)\n",
    "pos = np.linspace(ves025, ves975, 101)\n",
    "plt.fill_between(pos, kde(pos), alpha=0.3, color='darkorange')\n",
    "plt.show()"
   ]
  },
  {
   "cell_type": "code",
   "execution_count": 67,
   "id": "maritime-display",
   "metadata": {},
   "outputs": [
    {
     "data": {
      "image/png": "[encoded data removed]",
      "text/plain": [
       "<Figure size 432x288 with 1 Axes>"
      ]
     },
     "metadata": {
      "needs_background": "light"
     },
     "output_type": "display_data"
    }
   ],
   "source": [
    "dist = np.random.normal(loc=0, scale=1, size=1000)\n",
    "ax = sns.kdeplot(dist, shade=True)\n",
    "line = ax.get_lines()"
   ]
  },
  {
   "cell_type": "code",
   "execution_count": 68,
   "id": "genuine-intermediate",
   "metadata": {},
   "outputs": [
    {
     "data": {
      "text/plain": [
       "<a list of 0 Line2D objects>"
      ]
     },
     "execution_count": 68,
     "metadata": {},
     "output_type": "execute_result"
    }
   ],
   "source": [
    "line"
   ]
  },
  {
   "cell_type": "code",
   "execution_count": 66,
   "id": "waiting-mathematics",
   "metadata": {},
   "outputs": [
    {
     "data": {
      "text/plain": [
       "array([0.96669826, 0.96560292, 0.9436391 , ..., 0.9457778 , 0.92958985,\n",
       "       0.93328491])"
      ]
     },
     "execution_count": 66,
     "metadata": {},
     "output_type": "execute_result"
    }
   ],
   "source": [
    "ves"
   ]
  },
  {
   "cell_type": "code",
   "execution_count": 64,
   "id": "found-outreach",
   "metadata": {},
   "outputs": [
    {
     "data": {
      "image/png": "[encoded data removed]",
      "text/plain": [
       "<Figure size 432x288 with 1 Axes>"
      ]
     },
     "metadata": {
      "needs_background": "light"
     },
     "output_type": "display_data"
    }
   ],
   "source": [
    "ax = sns.kdeplot(ves, shade=True)\n",
    "line = ax.get_lines()"
   ]
  },
  {
   "cell_type": "code",
   "execution_count": 65,
   "id": "utility-cargo",
   "metadata": {},
   "outputs": [
    {
     "data": {
      "text/plain": [
       "<a list of 0 Line2D objects>"
      ]
     },
     "execution_count": 65,
     "metadata": {},
     "output_type": "execute_result"
    }
   ],
   "source": [
    "line"
   ]
  },
  {
   "cell_type": "code",
   "execution_count": 99,
   "id": "anticipated-anderson",
   "metadata": {},
   "outputs": [
    {
     "data": {
      "image/png": "[encoded data removed]",
      "text/plain": [
       "<Figure size 432x288 with 1 Axes>"
      ]
     },
     "metadata": {
      "needs_background": "light"
     },
     "output_type": "display_data"
    }
   ],
   "source": [
    "pos = np.linspace(dist.min(), dist.max(), 101)\n",
    "plt.plot(pos, kde(pos))\n",
    "# plot shaded kde only right of x=0.5\n",
    "shade = np.linspace(0.5,dist.max(), 101)\n",
    "plt.fill_between(shade,kde(shade), alpha=0.5)\n",
    "\n",
    "plt.ylim(0,None)\n",
    "plt.show()"
   ]
  },
  {
   "cell_type": "code",
   "execution_count": null,
   "id": "civil-pathology",
   "metadata": {},
   "outputs": [],
   "source": [
    "ax = sns.kdeplot(dist, shade=True)\n",
    "line = ax.get_lines()[-1]\n",
    "x, y = line.get_data()\n",
    "mask = x > 0\n",
    "x, y = x[mask], y[mask]\n",
    "ax.fill_between(x, y1=y, alpha=0.5, facecolor='red')\n",
    "plt.show()"
   ]
  },
  {
   "cell_type": "code",
   "execution_count": null,
   "id": "synthetic-denial",
   "metadata": {},
   "outputs": [],
   "source": []
  },
  {
   "cell_type": "code",
   "execution_count": null,
   "id": "atmospheric-seller",
   "metadata": {},
   "outputs": [],
   "source": []
  },
  {
   "cell_type": "code",
   "execution_count": null,
   "id": "continent-power",
   "metadata": {},
   "outputs": [],
   "source": []
  },
  {
   "cell_type": "code",
   "execution_count": null,
   "id": "steady-morning",
   "metadata": {},
   "outputs": [],
   "source": []
  },
  {
   "cell_type": "markdown",
   "id": "electric-official",
   "metadata": {},
   "source": [
    "## Participants without evidence of infection"
   ]
  },
  {
   "cell_type": "code",
   "execution_count": null,
   "id": "successful-tennis",
   "metadata": {},
   "outputs": [],
   "source": [
    "sr1 = 2.214\n",
    "sr2 = 2.222\n",
    "\n",
    "18198 *2 * sr1/(sr1 + sr2)"
   ]
  },
  {
   "cell_type": "code",
   "execution_count": null,
   "id": "personal-agency",
   "metadata": {},
   "outputs": [],
   "source": [
    "samples = stats.beta.rvs(0.5, 0.5, size=10000000)\n",
    "np.mean(samples), np.percentile(samples, 2.5), np.percentile(samples, 97.5)"
   ]
  },
  {
   "cell_type": "code",
   "execution_count": null,
   "id": "accepted-ukraine",
   "metadata": {},
   "outputs": [],
   "source": [
    "162/17511"
   ]
  },
  {
   "cell_type": "code",
   "execution_count": null,
   "id": "outer-hartford",
   "metadata": {},
   "outputs": [],
   "source": [
    "x = 0.5* (1 - 0.3)\n",
    "x"
   ]
  },
  {
   "cell_type": "markdown",
   "id": "tutorial-planner",
   "metadata": {},
   "source": [
    "a/(1+a) = x\n",
    "\n",
    "(1 + a -1)/(1+a) = x\n",
    "\n",
    "1 - 1/(1+a) = x\n",
    "\n",
    "1/(1+a) = 1 - x\n",
    "\n",
    "1+a = 1/(1-x)\n",
    "\n",
    "a = 1/(1-x) - 1= (1 - 1 + x)/(1-x) = x/(1-x)"
   ]
  },
  {
   "cell_type": "code",
   "execution_count": null,
   "id": "exceptional-oracle",
   "metadata": {},
   "outputs": [],
   "source": [
    "a = 1/(1 - .01) - 1\n",
    "a"
   ]
  },
  {
   "cell_type": "code",
   "execution_count": null,
   "id": "weird-halifax",
   "metadata": {},
   "outputs": [],
   "source": [
    "p = a/(a+1)\n",
    "p"
   ]
  },
  {
   "cell_type": "code",
   "execution_count": null,
   "id": "thrown-eclipse",
   "metadata": {},
   "outputs": [],
   "source": [
    "1 - (p/0.5)"
   ]
  },
  {
   "cell_type": "code",
   "execution_count": null,
   "id": "narrative-muslim",
   "metadata": {},
   "outputs": [],
   "source": []
  },
  {
   "cell_type": "code",
   "execution_count": null,
   "id": "threaded-senior",
   "metadata": {},
   "outputs": [],
   "source": [
    "samples_vaccine = stats.beta.rvs(0.5 + 8, 1 + 17411 - 8, size=100000)\n",
    "samples_placebo = stats.beta.rvs(1 + 162, 1 + 17511 - 162, size=100000)\n",
    "\n",
    "samples = 1 - samples_vaccine/samples_placebo\n",
    "np.percentile(samples, 2.5), np.percentile(samples, 97.5)"
   ]
  },
  {
   "cell_type": "code",
   "execution_count": null,
   "id": "hawaiian-registrar",
   "metadata": {},
   "outputs": [],
   "source": [
    "hpd_mu, x_mu, y_mu, modes_mu = hpd_grid(samples, alpha=0.05, roundto=4)\n",
    "hpd_mu"
   ]
  },
  {
   "cell_type": "code",
   "execution_count": null,
   "id": "entire-sunset",
   "metadata": {},
   "outputs": [],
   "source": [
    "samples_vaccine = stats.beta.rvs(0.700102 + 9, 1 + 18559 - 9, size=100000)\n",
    "samples_placebo = stats.beta.rvs(0.700102 + 169, 1 + 18708 - 169, size=100000)\n",
    "\n",
    "samples = 1 - samples_vaccine/samples_placebo\n",
    "np.percentile(samples, 2.5), np.percentile(samples, 97.5)"
   ]
  },
  {
   "cell_type": "code",
   "execution_count": null,
   "id": "governing-proof",
   "metadata": {},
   "outputs": [],
   "source": [
    "hpd_mu, x_mu, y_mu, modes_mu = hpd_grid(samples, alpha=0.05, roundto=4)\n",
    "hpd_mu"
   ]
  },
  {
   "cell_type": "code",
   "execution_count": null,
   "id": "gross-hybrid",
   "metadata": {},
   "outputs": [],
   "source": [
    "a = 0.700102 + cases_treatment\n",
    "b = 1 + size_treatment - cases_treatment\n",
    "samples_treatment = stats.beta.rvs(0.700102 + 8, 1 + 17511, size=100000)"
   ]
  },
  {
   "cell_type": "code",
   "execution_count": null,
   "id": "aggregate-cancellation",
   "metadata": {},
   "outputs": [],
   "source": [
    "samples = 1 - samples_treatment/samples_control\n",
    "hpd_mu, x_mu, y_mu, modes_mu = hpd_grid(samples, alpha=0.05, roundto=4)\n",
    "hpd_mu"
   ]
  },
  {
   "cell_type": "code",
   "execution_count": null,
   "id": "skilled-cleaning",
   "metadata": {},
   "outputs": [],
   "source": [
    "np.percentile(samples, 2.5), np.percentile(samples, 97.5)"
   ]
  },
  {
   "cell_type": "code",
   "execution_count": null,
   "id": "available-thomson",
   "metadata": {},
   "outputs": [],
   "source": [
    "plt.hist(samples, density=True, bins=50)\n",
    "plt.show()"
   ]
  },
  {
   "cell_type": "code",
   "execution_count": null,
   "id": "gross-heaven",
   "metadata": {},
   "outputs": [],
   "source": [
    "coef_control = 1000 * cases_control/size_control\n",
    "coef_treatment = 1000 * cases_treatment/size_treatment\n",
    "coef_control, coef_treatment\n",
    "1 - coef_treatment/coef_control"
   ]
  },
  {
   "cell_type": "code",
   "execution_count": null,
   "id": "directed-aviation",
   "metadata": {},
   "outputs": [],
   "source": []
  },
  {
   "cell_type": "code",
   "execution_count": null,
   "id": "quantitative-fifteen",
   "metadata": {},
   "outputs": [],
   "source": []
  },
  {
   "cell_type": "markdown",
   "id": "fabulous-benefit",
   "metadata": {},
   "source": [
    "* <https://sph.unc.edu/wp-content/uploads/sites/112/2015/07/nciph_ERIC4.pdf>"
   ]
  },
  {
   "cell_type": "markdown",
   "id": "normal-sandwich",
   "metadata": {},
   "source": [
    "## Row two"
   ]
  },
  {
   "cell_type": "code",
   "execution_count": null,
   "id": "wired-proposition",
   "metadata": {},
   "outputs": [],
   "source": [
    "cases_treatment, size_treatment, cases_control, size_control = 9, 18708, 169, 18559\n",
    "\n",
    "successes_control = size_control - cases_control\n",
    "successes_treatment = size_treatment - cases_treatment\n",
    "\n",
    "1-(cases_treatment/size_control)/(cases_control/size_treatment)"
   ]
  },
  {
   "cell_type": "code",
   "execution_count": null,
   "id": "democratic-window",
   "metadata": {},
   "outputs": [],
   "source": [
    "a = 0.700102 + cases_control\n",
    "b = 1 + size_control\n",
    "samples_control = stats.beta.rvs(a, b, size=100000)\n",
    "a = 0.700102 + cases_treatment\n",
    "b = 1 + size_treatment\n",
    "samples_treatment = stats.beta.rvs(a, b, size=100000)"
   ]
  },
  {
   "cell_type": "code",
   "execution_count": null,
   "id": "informational-magazine",
   "metadata": {},
   "outputs": [],
   "source": [
    "samples = 1 - samples_treatment/samples_control\n",
    "hpd_mu, x_mu, y_mu, modes_mu = hpd_grid(samples, alpha=0.06, roundto=4)\n",
    "hpd_mu"
   ]
  },
  {
   "cell_type": "code",
   "execution_count": null,
   "id": "willing-backing",
   "metadata": {},
   "outputs": [],
   "source": [
    "np.percentile(samples, 2.5), np.percentile(samples, 97.5)"
   ]
  },
  {
   "cell_type": "markdown",
   "id": "surrounded-demand",
   "metadata": {},
   "source": [
    "## Subgroup analysis\n",
    "\n",
    "It uses __Clopper–Pearson interval__\n",
    "\n",
    "<https://en.wikipedia.org/wiki/Binomial_proportion_confidence_interval>"
   ]
  },
  {
   "cell_type": "markdown",
   "id": "bored-perception",
   "metadata": {},
   "source": [
    "<img src=\"../imgs/rct-table3.png\">"
   ]
  },
  {
   "cell_type": "code",
   "execution_count": null,
   "id": "decreased-provincial",
   "metadata": {},
   "outputs": [],
   "source": [
    "cases_treatment, size_treatment, cases_control, size_control = 5, 9897, 114, 9955\n",
    "\n",
    "1-(cases_treatment/size_control)/(cases_control/size_treatment)"
   ]
  },
  {
   "cell_type": "code",
   "execution_count": null,
   "id": "static-patrick",
   "metadata": {},
   "outputs": [],
   "source": [
    "a = 0.700102 + cases_control\n",
    "b = 1 + size_control\n",
    "samples_control = stats.beta.rvs(a, b, size=100000)\n",
    "a = 0.700102 + cases_treatment\n",
    "b = 1 + size_treatment\n",
    "samples_treatment = stats.beta.rvs(a, b, size=100000)\n",
    "\n",
    "samples = 1 - samples_treatment/samples_control\n",
    "\n",
    "np.percentile(samples, 2.5), np.percentile(samples, 97.5)"
   ]
  },
  {
   "cell_type": "code",
   "execution_count": null,
   "id": "frozen-election",
   "metadata": {},
   "outputs": [],
   "source": [
    "samples = 1 - stats.beta.rvs(cases_treatment, cases_control + 1, size=100000)\n",
    "np.percentile(samples, 2.5), np.percentile(samples, 97.5)"
   ]
  },
  {
   "cell_type": "code",
   "execution_count": null,
   "id": "pregnant-press",
   "metadata": {},
   "outputs": [],
   "source": [
    "samples = 1 - stats.beta.rvs(cases_treatment + 1, cases_control, size=100000)\n",
    "np.percentile(samples, 2.5), np.percentile(samples, 97.5)"
   ]
  },
  {
   "cell_type": "code",
   "execution_count": null,
   "id": "threatened-apartment",
   "metadata": {},
   "outputs": [],
   "source": [
    "\n",
    "17411 / 2214 , 17511/2222\n"
   ]
  },
  {
   "cell_type": "code",
   "execution_count": null,
   "id": "white-hollywood",
   "metadata": {},
   "outputs": [],
   "source": []
  }
 ],
 "metadata": {
  "kernelspec": {
   "display_name": "Python 3",
   "language": "python",
   "name": "python3"
  },
  "language_info": {
   "codemirror_mode": {
    "name": "ipython",
    "version": 3
   },
   "file_extension": ".py",
   "mimetype": "text/x-python",
   "name": "python",
   "nbconvert_exporter": "python",
   "pygments_lexer": "ipython3",
   "version": "3.8.8"
  }
 },
 "nbformat": 4,
 "nbformat_minor": 5
}
