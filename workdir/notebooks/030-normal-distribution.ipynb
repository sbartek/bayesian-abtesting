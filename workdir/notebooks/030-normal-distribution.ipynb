{
 "cells": [
  {
   "cell_type": "markdown",
   "id": "tight-fourth",
   "metadata": {},
   "source": [
    "# Normal distribution\n",
    "\n",
    "## Fixed variance"
   ]
  },
  {
   "cell_type": "markdown",
   "id": "banned-yellow",
   "metadata": {},
   "source": [
    "$$p(x) = \\frac{1}{\\sqrt{2\\pi\\phi}}\\exp\\Big(-\\frac{(x-\\mu)^2}{2\\phi}\\Big)$$"
   ]
  },
  {
   "cell_type": "markdown",
   "id": "south-hanging",
   "metadata": {},
   "source": [
    "$$\\theta\\sim N(\\theta_0, \\phi_0)$$\n",
    "$$x\\sim N(\\theta, \\phi)$$"
   ]
  },
  {
   "cell_type": "markdown",
   "id": "different-candy",
   "metadata": {},
   "source": [
    "$$p(\\theta) = \\frac{1}{\\sqrt{2\\pi\\phi_0}}\\exp\\Big(-\\frac{(\\theta-\\theta_0)^2}{2\\phi_0}\\Big)$$\n",
    "$$l(\\theta|x) = \\frac{1}{\\sqrt{2\\pi\\phi}}\\exp\\Big(-\\frac{(x-\\theta)^2}{2\\phi}\\Big)$$"
   ]
  },
  {
   "cell_type": "markdown",
   "id": "billion-roots",
   "metadata": {},
   "source": [
    "$$p(\\theta|x) \\propto p(\\theta) \\cdot l(\\theta|x) $$\n",
    "$$\\,\\,\\, \\propto \\frac{1}{\\sqrt{2\\pi\\phi_0}}\\exp\\Big(-\\frac{(\\theta-\\theta_0)^2}{2\\phi_0}\\Big)\n",
    "    \\cdot \\frac{1}{\\sqrt{2\\pi\\phi}}\\exp\\Big(-\\frac{(x-\\theta)^2}{2\\phi}\\Big)$$\n",
    "$$\\,\\,\\,\\propto \\exp\\Big(-\\frac{\\theta^2-2\\theta\\theta_0+\\theta_0^2}{2\\phi_0} -\n",
    "\\frac{x^2-2x\\theta + \\theta^2}{2\\phi}\\Big)$$\n",
    "$$\\,\\,\\,\\propto \\exp\\Big(\n",
    "    -\\frac{\\theta^2}{2}(1/\\phi_0+1/\\phi)\n",
    "    +\\theta(\\theta_0/\\phi_0+x/\\phi)\n",
    "\\Big)$$"
   ]
  },
  {
   "cell_type": "markdown",
   "id": "colored-earthquake",
   "metadata": {},
   "source": [
    "Putting\n",
    "$$\\phi_1 = (1/\\phi_0+1/\\phi)^{-1}$$\n",
    "$$\\theta_1/\\phi_1 = (\\theta_0/\\phi_0+x/\\phi)$$\n",
    "we get\n",
    "$$p(\\theta|x)\\propto \\exp\\Big(-\\frac{\\theta^2 - 2\\theta\\theta_1}{2\\phi_1}\\Big)$$\n",
    "$$\\,\\,\\,\\propto \\exp\\Big(-\\frac{(\\theta - \\theta_1)^2}{2\\phi_1}\\Big)$$"
   ]
  },
  {
   "cell_type": "markdown",
   "id": "headed-penny",
   "metadata": {},
   "source": [
    "So we could write:\n",
    "\n",
    "$$\\phi_1^{-1} = \\phi_0^{-1} + \\phi^{-1}$$\n",
    "\n",
    "Which we can rephrase as:\n",
    "\n",
    "__Posterion precision__ = __Prior precision__ + __Datum precision__\n",
    "\n",
    "And \n",
    "\n",
    "$$\\theta_1 = \\theta_0\\frac{\\phi_0^{-1}}{\\phi_0^{-1} + \\phi^{-1}} + x\\frac{\\phi_0^{-1}}{\\phi_0^{-1} + \\phi^{-1}}$$\n",
    "\n",
    "__Posterion mean__ = Weighted mean of __prior mean__ + and __datum value__\n",
    "\n",
    "The weights being proportional to their respective precisions"
   ]
  },
  {
   "cell_type": "markdown",
   "id": "elegant-chile",
   "metadata": {},
   "source": [
    "## Fixed variance, several observations\n",
    "\n",
    "$$\\theta\\sim N(\\theta_0, \\phi_0)$$\n",
    "$$x_i\\sim N(\\theta, \\phi),\\ i=1, \\ldots, n$$"
   ]
  },
  {
   "cell_type": "markdown",
   "id": "built-racing",
   "metadata": {},
   "source": [
    "$$p(\\theta|x) \\propto p(\\theta)\\cdot l(\\theta|x_1)  \\cdot l(\\theta|x_2)\\cdot \\ldots \\cdot l(\\theta|x_n)$$\n",
    "$$\\,\\,\\, \\propto \\frac{1}{\\sqrt{2\\pi\\phi_0}}\\exp\\Big(-\\frac{(\\theta-\\theta_0)^2}{2\\phi_0}\\Big)\n",
    "    \\cdot \\frac{1}{\\sqrt{2\\pi\\phi}}\\exp\\Big(-\\frac{(x_1-\\theta)^2}{2\\phi}\\Big)\n",
    "    \\cdot \\frac{1}{\\sqrt{2\\pi\\phi}}\\exp\\Big(-\\frac{(x_2-\\theta)^2}{2\\phi}\\Big)\n",
    "    \\cdot \\ldots\n",
    "    \\cdot \\frac{1}{\\sqrt{2\\pi\\phi}}\\exp\\Big(-\\frac{(x_n-\\theta)^2}{2\\phi}\\Big)$$\n",
    "$$\\,\\,\\,\\propto \\exp\\Big(-\\frac{\\theta^2-2\\theta\\theta_0}{2\\phi_0} -\n",
    "\\frac{-2x_1\\theta + \\theta^2}{2\\phi} -\n",
    "\\frac{-2x_2\\theta + \\theta^2}{2\\phi} - \\ldots\n",
    "\\frac{-2x_n\\theta + \\theta^2}{2\\phi}\\Big)\n",
    "$$\n",
    "$$\\,\\,\\,\\propto \\exp\\Big(\\frac{\\theta^2}{2}(1/\\phi_0 + n/\\phi) +\n",
    "\\theta(\\frac{\\theta_0}{\\phi_0} + \\sum x_i/\\phi)\\Big)\n",
    "$$"
   ]
  },
  {
   "cell_type": "code",
   "execution_count": null,
   "id": "billion-polish",
   "metadata": {},
   "outputs": [],
   "source": []
  }
 ],
 "metadata": {
  "kernelspec": {
   "display_name": "Python 3",
   "language": "python",
   "name": "python3"
  },
  "language_info": {
   "codemirror_mode": {
    "name": "ipython",
    "version": 3
   },
   "file_extension": ".py",
   "mimetype": "text/x-python",
   "name": "python",
   "nbconvert_exporter": "python",
   "pygments_lexer": "ipython3",
   "version": "3.9.1"
  }
 },
 "nbformat": 4,
 "nbformat_minor": 5
}
